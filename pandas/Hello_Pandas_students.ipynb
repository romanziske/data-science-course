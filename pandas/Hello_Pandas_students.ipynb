{
 "cells": [
  {
   "cell_type": "markdown",
   "id": "d0ceab56",
   "metadata": {},
   "source": [
    "# Hello Pandas\n",
    "\n",
    "#### Pandas für Data Science ist ein wenig wie Mehl fürs Backen: Allein mit Mehl werden Sie keinen Teig produzieren, aber Sie werden wohl kaum jemals ohne Mehl backen."
   ]
  },
  {
   "cell_type": "markdown",
   "id": "78ecef5e",
   "metadata": {},
   "source": [
    "## Zum Aufbau dieses Notebooks\n",
    "\n",
    "In diesem Notebook wird die Python Bibliothek *Pandas* vorgestellt. Im ersten Teil des Notebooks gibt es Erklärungen und bereits ausgefüllte Codezellen. Diese sollen Sie ausführen, wenn Sie dort angekommen sind. Es gibt einige Stellen, an denen leere Zellen auftauchen. Dort sollen Sie selbst den passenden Code einfügen. An den Stellen, die mit *Spoiler* markiert sind, ist es empfehlenswert, erst nach der Bearbeitung der Zwischenaufgabe weiter zu lesen. Am Ende des Notebooks gibt es einen Abschnitt mit Übungsaufgaben. Dort können Sie das Erlernte selbst anwenden. Die Aufgaben enthalten Anforderungen gemischt aus allen Abschnitten und sind teilweise etwas schwieriger als die dort vorgestellten Beispiele. Das gesamte Notebook sollte mit minimalen Vorkenntnissen verständlich und zu bearbeiten sein. "
   ]
  },
  {
   "cell_type": "markdown",
   "id": "18d379ca",
   "metadata": {},
   "source": [
    "## Erste Schritte\n",
    "\n",
    "\n",
    "Zunächst wollen wir die Pandas Bibliothek importieren. Die allgemein anerkannte Namenskonvention ist `pd`."
   ]
  },
  {
   "cell_type": "code",
   "execution_count": null,
   "id": "831a04ff",
   "metadata": {},
   "outputs": [],
   "source": [
    "import pandas as pd\n",
    "\n",
    "# diese Zeile sorgt lediglich für eine übersichtlichere Darstellung\n",
    "pd.set_option('display.max_rows', 6)"
   ]
  },
  {
   "cell_type": "markdown",
   "id": "8fbda683",
   "metadata": {},
   "source": [
    "Schauen wir uns zunächst den wichtigsten Objekttyp in Pandas an: *DataFrames*\n",
    "\n",
    "Ein DataFrame sieht zum Beispiel so aus:\n",
    "\n",
    " |      | Apfel  | Banane |\n",
    " |:-----|-------:|-------:|\n",
    " |**0** | grün   | gelb   |\n",
    " |**1** | fest   | weich  |\n",
    " |**2** | sauer  | süß    |"
   ]
  },
  {
   "cell_type": "markdown",
   "id": "637b9d0d",
   "metadata": {},
   "source": [
    "Ein DataFrame ist eine Tabelle. Die Vielfältigkeit und Einfachheit der Möglichkeiten mit dieser Tabelle zu arbeiten, ist es, was Pandas so nützlich macht.\n",
    "\n",
    "Ein DataFrame kann wie folgt erstellt werden:"
   ]
  },
  {
   "cell_type": "code",
   "execution_count": null,
   "id": "fc64a4e7",
   "metadata": {},
   "outputs": [],
   "source": [
    "df = pd.DataFrame({'Anna': [3, 10], 'Bob': [5, 7]})\n",
    "\n",
    "# Diese Zeile dient der Ausgabe des Ergebnisses\n",
    "df"
   ]
  },
  {
   "cell_type": "markdown",
   "id": "444f938f",
   "metadata": {},
   "source": [
    "Erstellen Sie das DataFrame zum obigen Beispiel."
   ]
  },
  {
   "cell_type": "code",
   "execution_count": null,
   "id": "562824c8",
   "metadata": {},
   "outputs": [],
   "source": []
  },
  {
   "cell_type": "markdown",
   "id": "903d310d",
   "metadata": {},
   "source": [
    "Natürlich möchte man große Datensätze nicht per Hand eingeben, sondern direkt einlesen lassen. Liegen die Daten bspw. in einer CSV Datei vor, lassen sie sich mit der Methode `read_csv` einlesen:"
   ]
  },
  {
   "cell_type": "code",
   "execution_count": null,
   "id": "d096498d",
   "metadata": {},
   "outputs": [],
   "source": [
    "# Wichtig ist der Dateipfad, das Argument index_col können Sie ignorieren\n",
    "reviews = pd.read_csv('/Users/louisborchert/Downloads/winemag-data-130k-v2.csv', index_col=0)"
   ]
  },
  {
   "cell_type": "markdown",
   "id": "7c27defe",
   "metadata": {},
   "source": [
    "Der Datensatz ist unter folgender Lizenz\n",
    "\n",
    "https://creativecommons.org/licenses/by-nc-sa/4.0/\n",
    "    \n",
    "auf Kaggle von dem Nutzer \"zackthoutt\" veröffentlicht. Der Datensatz kann unter folgendem Link gefunden werden (zuletzt geprüft am 22.11.2022):\n",
    "    \n",
    "https://www.kaggle.com/datasets/zynicide/wine-reviews"
   ]
  },
  {
   "cell_type": "markdown",
   "id": "aada71d5",
   "metadata": {},
   "source": [
    "## Einen Überblick über den Datensatz gewinnen\n",
    "\n",
    "Wir wollen uns einen ersten Überblick über den Datensatz verschaffen. Zuerst fragen wir die Dimensionen des DataFrames ab."
   ]
  },
  {
   "cell_type": "code",
   "execution_count": null,
   "id": "0b09a3fe",
   "metadata": {},
   "outputs": [],
   "source": [
    "reviews.shape"
   ]
  },
  {
   "cell_type": "markdown",
   "id": "7d30d0f7",
   "metadata": {},
   "source": [
    "Die Spaltennamen und der Zeilenindex sind ebenfalls Attribute des DataFrames, die wir uns zurückgeben lassen können:"
   ]
  },
  {
   "cell_type": "code",
   "execution_count": null,
   "id": "e26a3aec",
   "metadata": {},
   "outputs": [],
   "source": [
    "reviews.columns"
   ]
  },
  {
   "cell_type": "code",
   "execution_count": null,
   "id": "88a64c17",
   "metadata": {},
   "outputs": [],
   "source": [
    "reviews.index"
   ]
  },
  {
   "cell_type": "markdown",
   "id": "ba6e627e",
   "metadata": {},
   "source": [
    "Als nächstes schauen wir uns die obersten Zeilen an. Dazu gibt es die eingebaute Methode `head`."
   ]
  },
  {
   "cell_type": "code",
   "execution_count": null,
   "id": "bf0d94a8",
   "metadata": {},
   "outputs": [],
   "source": [
    "reviews.head()"
   ]
  },
  {
   "cell_type": "markdown",
   "id": "e962c115",
   "metadata": {},
   "source": [
    "Wie wir sehen, wird der Herkunftsort des Weins sehr detailiert beschrieben (Land, Provinz, Regionen). Die Beschreibung jedes Weins ist ein Text, der wahrscheinlich nie für zwei Weine gleich sein wird. Es gibt mit der Punktzahl und dem Preis zwei Spalten mit numerischen Werten. Der Twittername eines Testers wird für eine Datenanalyse wohl kaum nützlich sein, da wir die Tester schon aufgrund ihres Namens unterscheiden können. Die Spalte region_2 enthält bisher auch keine neuen Informationen. Es gibt einige fehlende Werte (NaNs, dazu später mehr). All dies sind Erkenntnisse (zum Teil Mutmaßungen, die es noch zu überprüfen gilt), die man in dieser einfache Darstellung bereits gewinnen kann.\n",
    "\n",
    "Wir sind nicht auf die ersten fünf Zeilen beschränkt. Wollen wir uns z.B. die Zeilen 601 bis 603 ansehen, können wir dafür die Methode iloc verwenden:"
   ]
  },
  {
   "cell_type": "code",
   "execution_count": null,
   "id": "dd6a1d68",
   "metadata": {
    "scrolled": true
   },
   "outputs": [],
   "source": [
    "reviews.iloc[601:604]"
   ]
  },
  {
   "cell_type": "markdown",
   "id": "94dfea24",
   "metadata": {},
   "source": [
    "Hier sehen wir, dass die Spalte `region_2` doch neue Informationen enthält, z.B. in Zeile 602. Man beachte, dass `iloc` das Ende des Bereichs ausschließt, so wie es beim Indizieren gängig ist.\n",
    "\n",
    "Bauen Sie nun `head` mit Hilfe von `iloc` in der folgenden Zelle nach."
   ]
  },
  {
   "cell_type": "code",
   "execution_count": null,
   "id": "c2a8472a",
   "metadata": {
    "scrolled": false
   },
   "outputs": [],
   "source": []
  },
  {
   "cell_type": "markdown",
   "id": "8af097ac",
   "metadata": {},
   "source": [
    "#### Zusatzaufgabe: ####\n",
    "\n",
    "Es gibt auch eine Methode zum Auslesen der letzten fünf Zeilen. Finden Sie heraus wie dieses heißt. Vielleicht können Sie den Namen sogar erraten..."
   ]
  },
  {
   "cell_type": "code",
   "execution_count": null,
   "id": "0b385739",
   "metadata": {},
   "outputs": [],
   "source": []
  },
  {
   "cell_type": "markdown",
   "id": "f03ba933",
   "metadata": {},
   "source": [
    "## Selektion\n",
    "\n",
    "Eine Methode zur Selektion von Einträgen haben wir bereits kennen gelernt: `iloc`. In diesem Abschnitt wollen wir das Wissen zum Auswählen von Einträgen vertiefen. Sie werden lernen, wie Sie Spalten selektieren, labelbasiert selektieren, nach Bedingungen selektieren und diese miteinander kombinieren können."
   ]
  },
  {
   "cell_type": "markdown",
   "id": "502c0464",
   "metadata": {},
   "source": [
    "Eine der simpelsten Aufgaben besteht im Zurückgeben einer einzelnen Spalte. Jede Spalte ist ein Attribut eines DataFrames, d.h. wir können sie folgt abrufen:"
   ]
  },
  {
   "cell_type": "code",
   "execution_count": null,
   "id": "c212f92b",
   "metadata": {},
   "outputs": [],
   "source": [
    "reviews.price"
   ]
  },
  {
   "cell_type": "markdown",
   "id": "527374be",
   "metadata": {},
   "source": [
    "Die Rückgabe hat den Datentyp `pd.Series`, der zweite wichtige Typ der Pandas Bibliothek. Eine Series ist im Wesentlichen das Pandas Pendant einer Liste. Definieren Sie selbst eine Liste und erstellen mit Hilfe dieser eine Series."
   ]
  },
  {
   "cell_type": "code",
   "execution_count": null,
   "id": "de12ee6c",
   "metadata": {},
   "outputs": [],
   "source": []
  },
  {
   "cell_type": "markdown",
   "id": "4f9e31f4",
   "metadata": {},
   "source": [
    "Eine Series hat wie ein DataFrame einen Index, der standandmäßig auf 0 bis Länge minus 1 gesetzt wird, aber ebenfalls angepasst werden kann. Im Gegensatz zu DataFrames besitzt eine Series keinen Spaltennamen sondern einen allgemeinen Namen. Man kann sich eine Series als Spalte eines DataFrames vorstellen und ein DataFrame als die Aneinanderreihung von Series ansehen."
   ]
  },
  {
   "cell_type": "markdown",
   "id": "a3c23378",
   "metadata": {},
   "source": [
    "Zurück zum Selektieren. Die Preisspalte kann ebenfalls wie folgt zurückgegeben werden:"
   ]
  },
  {
   "cell_type": "code",
   "execution_count": null,
   "id": "ea5f3eaa",
   "metadata": {},
   "outputs": [],
   "source": [
    "reviews.loc[:, 'price']"
   ]
  },
  {
   "cell_type": "markdown",
   "id": "4008537c",
   "metadata": {},
   "source": [
    "Diese Methode erinnert an die `iloc` Methode weiter oben. Worin unterscheiden sich diese beiden Methoden?\n",
    "- `iloc` ist *indexbasiert*, d.h. die Einträge werden mittels ihrer Position im DataFrame ausgewählt\n",
    "- `loc` ist *labelbasiert*, d.h. die Einträge werden mittels ihres Spaltennamens und Zeilenindex ausgewählt"
   ]
  },
  {
   "cell_type": "markdown",
   "id": "e4dc8b7d",
   "metadata": {},
   "source": [
    "Beide Methode arbeiten Zeile first, Spalte second. Das erste Argument bestimmt also den Zeilenbereich und das zweite Argument den Spaltenbereich. Wird nur ein Argument übergeben, werden alle Spalten ausgewählt.\n",
    "\n",
    "#### Warnung:\n",
    "Es gibt ein Detail, in dem sich `iloc` und `loc` unterscheiden. Führen Sie die folgende Zeile aus. Was fällt Ihnen auf?"
   ]
  },
  {
   "cell_type": "code",
   "execution_count": null,
   "id": "83ecdc01",
   "metadata": {},
   "outputs": [],
   "source": [
    "reviews.loc[601:604]"
   ]
  },
  {
   "cell_type": "markdown",
   "id": "d707d54d",
   "metadata": {},
   "source": [
    "<br>\n",
    "\n",
    "<br>\n",
    "\n",
    "<br>\n",
    "\n",
    "<br>\n",
    "\n",
    "## ---------- *Spoiler* ---------- \n",
    "\n",
    "<br>\n",
    "\n",
    "<br>\n",
    "\n",
    "<br>\n",
    "\n",
    "<br>\n",
    "\n",
    "<br>\n",
    "\n",
    "<br>\n",
    "\n",
    "<br>\n",
    "\n",
    "<br>"
   ]
  },
  {
   "cell_type": "markdown",
   "id": "4df3d4a2",
   "metadata": {},
   "source": [
    "Bei der Methode `loc` wird das Ende des Bereichs inkludiert. Wieso? Das hängt damit zusammen, dass `loc` labelbasiert arbeitet. Stellen Sie sich vor, Sie betrachten ein DataFrame `df`, das mit alphabetisch geordneten Vornamen indiziert ist. Wollen Sie alle Namen von Adam bis Jonas zurückgeben, ist es intuitiver `df.loc['Adam':'Jonas']` zu schreiben als `df.loc['Adam':'Jonat']`."
   ]
  },
  {
   "cell_type": "markdown",
   "id": "dc8a86f0",
   "metadata": {},
   "source": [
    "Bei beiden Methoden ist es möglich, in jedem Argument einen einzelnen Wert, eine Liste oder einen Bereich anzugeben. Hier sind einige Beispiele:"
   ]
  },
  {
   "cell_type": "code",
   "execution_count": null,
   "id": "bc19b116",
   "metadata": {},
   "outputs": [],
   "source": [
    "reviews.iloc[1:3, 2:9]"
   ]
  },
  {
   "cell_type": "code",
   "execution_count": null,
   "id": "88966157",
   "metadata": {},
   "outputs": [],
   "source": [
    "reviews.loc[[0, 1, 3, 100], 'taster_name']"
   ]
  },
  {
   "cell_type": "code",
   "execution_count": null,
   "id": "a46be56a",
   "metadata": {},
   "outputs": [],
   "source": [
    "reviews.loc[9000:9002, ['description', 'points', 'price']]"
   ]
  },
  {
   "cell_type": "markdown",
   "id": "6c053243",
   "metadata": {},
   "source": [
    "Nun zu einem weiteren starken Werkzeug in Pandas:\n",
    "Stellen Sie sich vor, Sie wollen alle Weine betrachten, deren Preis höchstens 25 beträgt. Dies ist mit ein bisschen Überlegen sicherlich in ein paar Zeilen Code möglich. Aber es geht sogar in einer Zeile, kurz und übersichtlich:"
   ]
  },
  {
   "cell_type": "code",
   "execution_count": null,
   "id": "55b4ef83",
   "metadata": {},
   "outputs": [],
   "source": [
    "reviews.loc[reviews.price <= 25]"
   ]
  },
  {
   "cell_type": "markdown",
   "id": "ca144dd0",
   "metadata": {},
   "source": [
    "Welche Logik steckt dahinter? Der Methode `loc` kann als Argument eine Liste mit Wahrheitswerten übergeben werden, die die gleiche Länge wie das DataFrame hat.\n",
    "\n",
    "Es können mehrere Bedingungen mit \"und\" ( `&` ) sowie mit \"oder\" ( `|` ) verknüpft werden:"
   ]
  },
  {
   "cell_type": "code",
   "execution_count": null,
   "id": "88bcb983",
   "metadata": {},
   "outputs": [],
   "source": [
    "reviews.loc[(reviews.region_1 == 'Etna') & (reviews.price <= 25)]"
   ]
  },
  {
   "cell_type": "markdown",
   "id": "22ef273d",
   "metadata": {},
   "source": [
    "## Zuweisung\n",
    "\n",
    "Hat man die Selektion verstanden, ist die Zuweisung von Daten eine leichte Aufgabe. Man wählt einen Eintrag oder eine Menge von Einträge (z.B. eine Spalte) aus und weist ihnen neue Werte zu."
   ]
  },
  {
   "cell_type": "code",
   "execution_count": null,
   "id": "4114cd75",
   "metadata": {
    "scrolled": false
   },
   "outputs": [],
   "source": [
    "# um das ursprüngliche DataFrame nicht zu verändern, erstellen wir eine Kopie\n",
    "temp = reviews.copy()\n",
    "temp.loc[0, 'region_2'] = 'Beispiel Region'\n",
    "temp"
   ]
  },
  {
   "cell_type": "markdown",
   "id": "c43b1a94",
   "metadata": {},
   "source": [
    "Man kann dabei auch eine neue Spalte erzeugen."
   ]
  },
  {
   "cell_type": "code",
   "execution_count": null,
   "id": "0d55adc1",
   "metadata": {
    "scrolled": true
   },
   "outputs": [],
   "source": [
    "temp['shifted_index'] = range(10, len(temp)+10)\n",
    "temp"
   ]
  },
  {
   "cell_type": "markdown",
   "id": "473a0057",
   "metadata": {},
   "source": [
    "## Zusammenfassung der Daten\n",
    "\n",
    "Um schnell an eine Zusammenfassung der Daten gelangen, steht Ihnen die äußerst nützliche Methode `describe` zur Verfügung:"
   ]
  },
  {
   "cell_type": "code",
   "execution_count": null,
   "id": "e822dcae",
   "metadata": {},
   "outputs": [],
   "source": [
    "pd.set_option('display.max_rows', 8)\n",
    "\n",
    "reviews.points.describe()"
   ]
  },
  {
   "cell_type": "markdown",
   "id": "a3d1b9dd",
   "metadata": {},
   "source": [
    "Für kategorische Daten sind einige der obigen Auswertungen nicht möglich. Pandas erkennt automatisch, um welche Datentypen es sich handelt. Rufen Sie die Methode für eine Spalte mit Strings auf und vergleichen Sie die Ergebnisse:"
   ]
  },
  {
   "cell_type": "code",
   "execution_count": null,
   "id": "e6c6f2bd",
   "metadata": {},
   "outputs": [],
   "source": []
  },
  {
   "cell_type": "markdown",
   "id": "2570c690",
   "metadata": {},
   "source": [
    "Es ist natürlich auch möglich einzelne statistische Auswertungen vorzunehmen, zum Beispiel:"
   ]
  },
  {
   "cell_type": "code",
   "execution_count": null,
   "id": "b1b37318",
   "metadata": {},
   "outputs": [],
   "source": [
    "reviews.points.mean()"
   ]
  },
  {
   "cell_type": "markdown",
   "id": "9dcd01a0",
   "metadata": {},
   "source": [
    "Oder um die Zeile zu finden, die die maximale Punktzahl enthält:"
   ]
  },
  {
   "cell_type": "code",
   "execution_count": null,
   "id": "470e9d08",
   "metadata": {},
   "outputs": [],
   "source": [
    "reviews.points.idxmax()"
   ]
  },
  {
   "cell_type": "markdown",
   "id": "e1e1ef88",
   "metadata": {},
   "source": [
    "Wir wollen das nutzen, um unsere These zu überprüfen, dass alle Beschreibungen unterschiedlich sind."
   ]
  },
  {
   "cell_type": "code",
   "execution_count": null,
   "id": "15a0c2e7",
   "metadata": {},
   "outputs": [],
   "source": [
    "reviews.description.value_counts()"
   ]
  },
  {
   "cell_type": "markdown",
   "id": "a6cf597f",
   "metadata": {},
   "source": [
    "Unerwarteterweise gibt es Beschreibungen, dreimal im Datensatz auftauchen. Die Methode value_counts sortiert die Einträge automatisch, d.h. 3 ist auch die maximale Häufigkeit, die in der Spalte descritpion auftaucht. Alternativ können Sie dies mit der folgenden Zeile herausfinden:"
   ]
  },
  {
   "cell_type": "code",
   "execution_count": null,
   "id": "3aa21171",
   "metadata": {},
   "outputs": [],
   "source": [
    "reviews.description.value_counts().max()"
   ]
  },
  {
   "cell_type": "markdown",
   "id": "20cb2075",
   "metadata": {},
   "source": [
    "Sie werden diese Mehrfachnennungen in den Übungsaufgaben weiter untersuchen."
   ]
  },
  {
   "cell_type": "markdown",
   "id": "9a1afdf9",
   "metadata": {},
   "source": [
    "## Arithmetische Operationen und Maps\n",
    "\n",
    "Als nächstes beschäftigen wir uns mit Möglichkeiten, alle Daten einer Spalte simultan anzupassen. Schauen Sie sich die nächste Zeile und ihr Ergebnis an:"
   ]
  },
  {
   "cell_type": "code",
   "execution_count": null,
   "id": "2e0a3ed0",
   "metadata": {},
   "outputs": [],
   "source": [
    "reviews.price + 100"
   ]
  },
  {
   "cell_type": "markdown",
   "id": "c50e6bfc",
   "metadata": {},
   "source": [
    "Hier wird eine Series auf der linken Seite mit einem einzelnem Wert auf der rechten Seite addiert. Pandas interpretiert das so, dass wir wohl zu jedem Eintrag der Series die Zahl 100 addieren wollen. Natürlich können Operationen auch zwischen Series der gleichen Länge ausgeführt werden. Im Summe kann damit sehr eleganter Code geschrieben werden:"
   ]
  },
  {
   "cell_type": "code",
   "execution_count": null,
   "id": "3524997a",
   "metadata": {},
   "outputs": [],
   "source": [
    "reviews.province + \" in \" + reviews.country"
   ]
  },
  {
   "cell_type": "markdown",
   "id": "cef6cbf5",
   "metadata": {},
   "source": [
    "Um flexibler in der Funktionalität zu sein, können \"maps\" genutzt werden. Wollen wir von jedem Land nur die ersten drei Buchstaben haben, können wir folgende Syntax nutzen:"
   ]
  },
  {
   "cell_type": "code",
   "execution_count": null,
   "id": "3ac19d1f",
   "metadata": {},
   "outputs": [],
   "source": [
    "reviews.country.map(lambda p: str(p)[0:3])"
   ]
  },
  {
   "cell_type": "markdown",
   "id": "8d426d94",
   "metadata": {},
   "source": [
    "## GroupBy\n",
    "\n",
    "Die `groupby` Methode ist eine sehr mächtiges Werkzeug, um Einsichten in die Daten zu bekommen und diese zu strukturieren. Als Motivation: Was ist der Durchschnittspreis jeder Weinsorte? Nutzen Sie die nächste Zelle, um sich die Antwort auf diese Frage zurück geben zu lassen."
   ]
  },
  {
   "cell_type": "code",
   "execution_count": null,
   "id": "d31498f7",
   "metadata": {},
   "outputs": [],
   "source": []
  },
  {
   "cell_type": "markdown",
   "id": "62ae6767",
   "metadata": {},
   "source": [
    "<br>\n",
    "\n",
    "<br>\n",
    "\n",
    "<br>\n",
    "\n",
    "<br>\n",
    "\n",
    "## ---------- *Spoiler* ---------- \n",
    "\n",
    "<br>\n",
    "\n",
    "<br>\n",
    "\n",
    "<br>\n",
    "\n",
    "<br>\n",
    "\n",
    "<br>\n",
    "\n",
    "<br>\n",
    "\n",
    "<br>\n",
    "\n",
    "<br>"
   ]
  },
  {
   "cell_type": "markdown",
   "id": "b8c1a741",
   "metadata": {},
   "source": [
    "Durchaus machbar aber einige Zeilen Code werden schon benötigt, oder? Mit der `groupby` Methode lässt sich das Resultat wie folgt erreichen."
   ]
  },
  {
   "cell_type": "code",
   "execution_count": null,
   "id": "33276287",
   "metadata": {},
   "outputs": [],
   "source": [
    "reviews.groupby('variety')['price'].mean()"
   ]
  },
  {
   "cell_type": "markdown",
   "id": "14e6d388",
   "metadata": {},
   "source": [
    "Die `groupby` Methode macht uns das Leben also deutlich einfacher. Wie sieht das Datenobjekt eigentlich aus, das bei dieser Methode zurückgegeben wird? Finden Sie es heraus! Nutzen Sie die nächste Zelle dazu:"
   ]
  },
  {
   "cell_type": "code",
   "execution_count": null,
   "id": "0806dee8",
   "metadata": {},
   "outputs": [],
   "source": []
  },
  {
   "cell_type": "markdown",
   "id": "0edb118c",
   "metadata": {},
   "source": [
    "Nicht besonders hilfreich, oder? Das liegt daran, dass die Methode primär für einen mehrstufigen Prozess genutzt wird, wie das weiter oben der Fall ist. Sie können aber dennoch einige Attribute des erzeugten GroupBy Objekts abfragen. Beispielsweise die Anzahl der Gruppen:"
   ]
  },
  {
   "cell_type": "code",
   "execution_count": null,
   "id": "c7787aeb",
   "metadata": {},
   "outputs": [],
   "source": [
    "reviews.groupby('variety').ngroups"
   ]
  },
  {
   "cell_type": "markdown",
   "id": "ff92f0ca",
   "metadata": {},
   "source": [
    "Sie können auch eigene Funktionen definieren und auf das GroupBy Objekt anwenden:"
   ]
  },
  {
   "cell_type": "code",
   "execution_count": null,
   "id": "cb51607e",
   "metadata": {},
   "outputs": [],
   "source": [
    "def group_middle(x):\n",
    "    return (x.max() + x.min()) / 2\n",
    "\n",
    "middle = reviews.groupby('variety')['price'].apply(group_middle)\n",
    "middle"
   ]
  },
  {
   "cell_type": "markdown",
   "id": "15340621",
   "metadata": {},
   "source": [
    "Es ist auch möglich, nach mehreren Kriterien zu gruppieren:"
   ]
  },
  {
   "cell_type": "code",
   "execution_count": null,
   "id": "cf2993c2",
   "metadata": {},
   "outputs": [],
   "source": [
    "min_points = reviews.groupby(['country', 'variety'])['points'].min()\n",
    "min_points"
   ]
  },
  {
   "cell_type": "markdown",
   "id": "0b9f0dc9",
   "metadata": {},
   "source": [
    "## Mit fehlenden Daten umgehen\n",
    "\n",
    "In der Data Science Praxis werden Daten immer unvollständig sein. Dafür kann es viele Gründe geben: Eine Person hat bewusst oder unbewusst bei einem Fragebogen das Alter ausgelassen, ein Sensor arbeitet nicht hundertprozentig zuverlässig und nimmt gelegentlich zum vorgesehen Zeitpunkt keine Messung vor, zu einem erst vor kurzem gegründetem Start-up reichen die Geschäftsdaten weniger weit in die Vergangenheit als bei älteren Unternehmen...\n",
    "Fehlende Werte werden immer auftreten und es gibt keinen mustergültigen Weg mit Ihnen umzugehen."
   ]
  },
  {
   "cell_type": "markdown",
   "id": "5ba65119",
   "metadata": {},
   "source": [
    "Zunächst gilt es, die fehlenden Werte ausfindig zu machen. Hierzu nutzt man die Methode `isna`:"
   ]
  },
  {
   "cell_type": "code",
   "execution_count": null,
   "id": "7f1090cb",
   "metadata": {},
   "outputs": [],
   "source": [
    "reviews.isna()"
   ]
  },
  {
   "cell_type": "markdown",
   "id": "e7b8afec",
   "metadata": {},
   "source": [
    "Die Methode gibt ein DataFrame mit Wahrheitswerten zurück. An jeder Stelle, an der in dem ursprünglichen DataFrame ein Wert fehlt, wird `True` eingetragen, andernfall `False`. Die umgekehrte Funktionalität erreicht man mit `notna`. Die Angaben über fehlenden Daten lassen sich mit der Methoden `sum` zusammenfassen. (Hierbei wird `True` als 1 gewertet und `False` als 0.)"
   ]
  },
  {
   "cell_type": "code",
   "execution_count": null,
   "id": "8bb3f308",
   "metadata": {},
   "outputs": [],
   "source": [
    "pd.set_option('display.max_rows', 13)\n",
    "reviews.isna().sum()"
   ]
  },
  {
   "cell_type": "code",
   "execution_count": null,
   "id": "6cdd0b4e",
   "metadata": {},
   "outputs": [],
   "source": [
    "pd.set_option('display.max_rows', 8)"
   ]
  },
  {
   "cell_type": "markdown",
   "id": "77212b5f",
   "metadata": {},
   "source": [
    "Nun stellt sich die Frage, wie mit diesen fehlenden Daten umgehen. Es gibt zwei Ansätze:\n",
    "- Fehlende Daten ersetzen\n",
    "- Fehlende Daten verwerfen"
   ]
  },
  {
   "cell_type": "markdown",
   "id": "48f7c36e",
   "metadata": {},
   "source": [
    "### Fehlende Daten ersetzen\n",
    "\n",
    "Bei diesem Ansatz versucht man, so gut es geht, die Lücken mit sinnvollen Daten zu füllen, ohne den Datensatz zu sehr zu verzerren. Dazu gibt es verschiedene Möglichkeiten, die je nach Kontext eingesetzt werden.\n",
    "\n",
    "Die erste Möglichkeit besteht darin, alle fehlenden Werte durch einen festen Wert (z.B. den Mittelwert der vorhanden Werte) zu ersetzen:"
   ]
  },
  {
   "cell_type": "code",
   "execution_count": null,
   "id": "e983b9a2",
   "metadata": {},
   "outputs": [],
   "source": [
    "mean_price = reviews.price.mean()\n",
    "reviews.price.fillna(mean_price)"
   ]
  },
  {
   "cell_type": "markdown",
   "id": "6535e8c2",
   "metadata": {},
   "source": [
    "Eine andere Möglichkeit, die oft bei Zeitreihen verwendet wird, besteht darin, einen fehlenden Wert durch den Wert des Vorgänger zu ersetzen."
   ]
  },
  {
   "cell_type": "code",
   "execution_count": null,
   "id": "de979696",
   "metadata": {},
   "outputs": [],
   "source": [
    "reviews.price.fillna(method='ffill')"
   ]
  },
  {
   "cell_type": "markdown",
   "id": "4accf12a",
   "metadata": {},
   "source": [
    "Das Argument `'ffill'` steht dabei für \"forward fill\". Alternativ kann man mit `'bfill'` für \"backward fill\" den Wert des Nachfolgers nutzen."
   ]
  },
  {
   "cell_type": "markdown",
   "id": "8e561a69",
   "metadata": {},
   "source": [
    "Des weiteren kann man die Daten mittels der Methode `interpolate` interpolieren. Standardmäßig wird linear interpoliert. Wir werden uns hier auf diesen Fall beschränken, es sei aber gesagt, dass noch etliche weitere Möglichkeiten gibt."
   ]
  },
  {
   "cell_type": "code",
   "execution_count": null,
   "id": "37e6930b",
   "metadata": {
    "scrolled": true
   },
   "outputs": [],
   "source": [
    "reviews.price.interpolate()"
   ]
  },
  {
   "cell_type": "markdown",
   "id": "3b0cf25b",
   "metadata": {},
   "source": [
    "Man beachte, dass der erste Wert nicht interpoliert wird, da nur innere Werte interpoliert werden können."
   ]
  },
  {
   "cell_type": "markdown",
   "id": "c0de444c",
   "metadata": {},
   "source": [
    "### Fehlende Daten verwerfen\n",
    "\n",
    "Bei diesem Ansatz werden die Zeilen oder Spalten, die fehlende Werte enthalten, entfernt. Der Datensatz wird dadurch von fehlenden Werten bereinigt. Umgesetzt wird dies mit der Methode `dropna`. Mit dem Parameter `axis` legen wir fest, ob Zeilen (`0 `oder `'index'`) oder Spalten (`1` oder `'columns'`) gelöscht werden."
   ]
  },
  {
   "cell_type": "code",
   "execution_count": null,
   "id": "c50e23f4",
   "metadata": {},
   "outputs": [],
   "source": [
    "reviews.dropna(axis=1)"
   ]
  },
  {
   "cell_type": "markdown",
   "id": "6f0bcfcb",
   "metadata": {},
   "source": [
    "Standardmäßig werden alle Zeilen bzw. Spalten gelöscht, die mindestens einen fehlenden Wert enthalten. Wir können hier gezielter vorgehen und einen Mindestwert an fehlenden Daten vorgeben, die in einer Zeile bzw. Spalte vorhanden sein müssen, damit diese entfernt wird. Alternativ können wir mit `how='all'` festlegen, dass nur Zeilen bzw. Spalten gelöscht werden, in denen alle Einträge fehlen. Der Parameter `thresh`legt fest, wie viele Einträge *vorhanden* sein müssen, damit die Zeile bzw. Spalte *nicht* gelöscht wird."
   ]
  },
  {
   "cell_type": "code",
   "execution_count": null,
   "id": "21996411",
   "metadata": {},
   "outputs": [],
   "source": [
    "reviews.dropna(axis=1, thresh=100000)"
   ]
  },
  {
   "cell_type": "markdown",
   "id": "25119a8a",
   "metadata": {},
   "source": [
    "Es können auch (unabhängig von fehlenden Werten) ausgewählte Zeilen bzw. Spalten mit der Methode `drop`gelöscht werden:"
   ]
  },
  {
   "cell_type": "code",
   "execution_count": null,
   "id": "45222293",
   "metadata": {
    "scrolled": false
   },
   "outputs": [],
   "source": [
    "reviews.drop([0, 2, 4], axis=0)"
   ]
  },
  {
   "cell_type": "markdown",
   "id": "dbc8a345",
   "metadata": {},
   "source": [
    "Das Ersetzen hat den Vorteil, dass keine Informationen verloren gehen. Allerdings kann der Datensatz durch das Hinzufügen künstlicher Daten verfälscht werden. Ein Verzerrung der Daten findet beim Löschen nicht statt. Man verliert dadurch jedoch potentiell wertvolle Informationen.\n",
    "\n",
    "**Generell gilt:** Je weniger Daten in der gleichen Zeile oder Spalte fehlen, desto eher greift man zur Methode der Ersetzung. Je mehr Daten in der gleichen Zeile oder Spalte fehlen, desto eher greift man zur Methode der Entfernung von Daten."
   ]
  },
  {
   "cell_type": "markdown",
   "id": "73c64d93",
   "metadata": {},
   "source": [
    "#### Na gut, wie Sie gesehen haben, kann man mit Pandas allein doch ein bisschen mehr anfangen, als nur mit Mehl beim Backen. In der Praxis wollen Sie aber fast immer zusätzlich weitere Bibliotheken nutzen. Dazu mehr in den anderen Notebooks."
   ]
  },
  {
   "cell_type": "markdown",
   "id": "453edd51",
   "metadata": {},
   "source": [
    "## Anmerkung\n",
    "\n",
    "Es gibt ein wichtiges Detail, auf das bisher noch nicht eingegangen wurde. Bei der Bearbeitung von Objekten gibt es grundsätzlich zwei Vorgehensweisen: Das Objekt selbst bearbeiten oder eine bearbeitete Kopie zurückgeben. Die meisten der hier verwendeten Methoden geben eine bearbeite Kopie zurück. Damit Sie auf dem Objekt selbst arbeiten können, besitzen viele Methoden den Parameter `inplace`, den Sie auf `True`setzen können. Natürlich können Sie auch folgende Syntax verwenden: `reviews = reviews.dropna(axis=1)`.\n",
    "\n",
    "Wichtig ist vor allem, sich bewusst darüber zu sein, mit welche der beiden Möglichkeiten eine Methode arbeitet, um Fehler zu vermeiden."
   ]
  },
  {
   "cell_type": "markdown",
   "id": "2c1f1861",
   "metadata": {},
   "source": [
    "## Übungsaufgaben\n",
    "\n",
    "Es wird dazu geraten, die Übungsabschnitte in der vorgegebenen Reihenfolge zu bearbeiten und mit dem im Abschnitt *Fehlende Daten behandeln* erstellten DataFrame `df` weiter zu arbeiten. Andernfalls kann es zu unerwartetem Verhalten bei den Lösungen kommen.\n",
    "\n",
    "### Fehlende Daten behandeln\n",
    "\n",
    "Erstellen Sie eine Kopie des DataFrame `reviews` und nennen Sie es `df`. Es ist eine gute Praxis, die Originaldaten unberührt zu lassen und stattdessen auf einer Kopie zu arbeiten. Lassen sie sich anschließend eine Übersicht über die Anzahl der fehlenden Werte pro Spalte ausgeben."
   ]
  },
  {
   "cell_type": "code",
   "execution_count": null,
   "id": "70805bd3",
   "metadata": {},
   "outputs": [],
   "source": [
    "pd.set_option('display.max_rows', 13)\n",
    "\n",
    "# fügen Sie hier Ihren Code ein:\n"
   ]
  },
  {
   "cell_type": "markdown",
   "id": "df1f901e",
   "metadata": {},
   "source": [
    "Beim Land und der Provinz handelt es sich um Informationen, zwischen denen ein logischer Zusammenhang besteht. Außerdem fehlen bei beiden genau gleich viele Einträge. Die Vermutung liegt daher nahe, es handelt sich um die gleichen Zeilen, in denen die jeweiligen Einträge fehlen. Überprüfen Sie diese Vermutung."
   ]
  },
  {
   "cell_type": "code",
   "execution_count": null,
   "id": "b0fe1e2c",
   "metadata": {},
   "outputs": [],
   "source": []
  },
  {
   "cell_type": "markdown",
   "id": "cf6ea0a2",
   "metadata": {},
   "source": [
    "Entfernen Sie alle Zeilen, bei denen das Land, die Provinz oder die Weinsorte fehlt."
   ]
  },
  {
   "cell_type": "code",
   "execution_count": null,
   "id": "0f658cc4",
   "metadata": {},
   "outputs": [],
   "source": []
  },
  {
   "cell_type": "markdown",
   "id": "dfb0b0f2",
   "metadata": {},
   "source": [
    "Entfernen Sie nun alle Spalten, die mindestens 30000 fehlende Einträge enthalten."
   ]
  },
  {
   "cell_type": "code",
   "execution_count": null,
   "id": "1d4001b4",
   "metadata": {},
   "outputs": [],
   "source": []
  },
  {
   "cell_type": "markdown",
   "id": "ca546bc5",
   "metadata": {},
   "source": [
    "Schauen Sie sich erneut die Übersicht der fehlenden Werte an."
   ]
  },
  {
   "cell_type": "code",
   "execution_count": null,
   "id": "bb98b884",
   "metadata": {},
   "outputs": [],
   "source": []
  },
  {
   "cell_type": "markdown",
   "id": "6d2f6aaf",
   "metadata": {},
   "source": [
    "Ersetzen Sie fehlende Einträge in der Preisspalte durch den durchschnittlichen Preis."
   ]
  },
  {
   "cell_type": "code",
   "execution_count": null,
   "id": "2ce65fda",
   "metadata": {},
   "outputs": [],
   "source": []
  },
  {
   "cell_type": "markdown",
   "id": "7753a657",
   "metadata": {},
   "source": [
    "Ersetzen Sie alle anderen fehlenden Werte durch den String `'keine Angabe'`."
   ]
  },
  {
   "cell_type": "code",
   "execution_count": null,
   "id": "2bc7ccab",
   "metadata": {},
   "outputs": [],
   "source": []
  },
  {
   "cell_type": "markdown",
   "id": "a833e1c9",
   "metadata": {},
   "source": [
    "Überprüfen Sie, ob es nun noch fehlenden Werte im DataFrame gibt."
   ]
  },
  {
   "cell_type": "code",
   "execution_count": null,
   "id": "d316412d",
   "metadata": {},
   "outputs": [],
   "source": []
  },
  {
   "cell_type": "markdown",
   "id": "1b7d3924",
   "metadata": {},
   "source": [
    "### Die Mehrfachnennungen der Beschreibungen\n",
    "\n",
    "Es ist doch etwas verwunderlich, dass verschiedene Weine die auf den Wortlaut gleiche Beschreibung bekommen sollen. Schauen Sie sich die Zeilen mit der folgenden Beschreibung an:\n",
    "\n",
    "`'Seductively tart in lemon pith, cranberry and pomegranate, this refreshing, light-bodied quaff is infinitely enjoyable, both on its own or at the table. It continues to expand on the palate into an increasing array of fresh flavors, finishing in cherry and orange.'`"
   ]
  },
  {
   "cell_type": "code",
   "execution_count": null,
   "id": "c52aeb5b",
   "metadata": {},
   "outputs": [],
   "source": []
  },
  {
   "cell_type": "markdown",
   "id": "2a85c368",
   "metadata": {},
   "source": [
    "Was fällt Ihnen auf? Überprüfen Sie, ob die letzten beiden Zeilen wirklich identisch sind und in welchen Spalten sich die ersten beiden Zeilen unterscheiden."
   ]
  },
  {
   "cell_type": "code",
   "execution_count": null,
   "id": "88649e8c",
   "metadata": {},
   "outputs": [],
   "source": []
  },
  {
   "cell_type": "code",
   "execution_count": null,
   "id": "ed2326c4",
   "metadata": {},
   "outputs": [],
   "source": []
  },
  {
   "cell_type": "markdown",
   "id": "d71beb45",
   "metadata": {},
   "source": [
    "Pandas bringt die Methode drop_duplicates mit, die es erlaubt mehrfach auftretende Zeilen zu löschen."
   ]
  },
  {
   "cell_type": "code",
   "execution_count": null,
   "id": "e307c097",
   "metadata": {},
   "outputs": [],
   "source": [
    "df = df.drop_duplicates()"
   ]
  },
  {
   "cell_type": "markdown",
   "id": "ea9654b2",
   "metadata": {},
   "source": [
    "Wir schauen uns die Bezeichnungen der beiden Weine genauer an:"
   ]
  },
  {
   "cell_type": "code",
   "execution_count": null,
   "id": "9bde2dc2",
   "metadata": {},
   "outputs": [],
   "source": [
    "multi_descr = df.loc[df.description == 'Seductively tart in lemon pith, cranberry and pomegranate, this refreshing, light-bodied quaff is infinitely enjoyable, both on its own or at the table. It continues to expand on the palate into an increasing array of fresh flavors, finishing in cherry and orange.']\n",
    "for title in multi_descr.title:\n",
    "    print(title)"
   ]
  },
  {
   "cell_type": "markdown",
   "id": "ff1b61dc",
   "metadata": {},
   "source": [
    "Aufgrund der ähnlichen Bezeichnungen und der exakt gleichen Beschreibungen lässt sich vermuten, dass es sich etwa um zwei verschiedene Editionen des gleichen Weins handelt. Neben dem Preis ist auch die Punktbewertung unterschiedlich. Um dieses Phänomen besser zu verstehen, müsste man sich mit dem Thema Wein besser auskennen oder den Autor der Daten fragen.\n",
    "\n",
    "Für uns hat es sich aber schon deshalb gelohnt, sich die Wiederholung der Beschreibungen anzuschauen, da wir dadurch bemerkt haben, dass es doppelte Zeilen gab. Dies kann man natürlich unabhängig vom einem konkreten Verdacht überprüfen."
   ]
  },
  {
   "cell_type": "markdown",
   "id": "48647d02",
   "metadata": {},
   "source": [
    "### Das Preisleistungsverhältnis\n",
    "\n",
    "Fügen Sie dem DataFrame eine Spalte hinzu, in der das Preisleistungsverhältnis (Punkte durch Preis) abgebildet wird."
   ]
  },
  {
   "cell_type": "code",
   "execution_count": null,
   "id": "f6304b66",
   "metadata": {},
   "outputs": [],
   "source": [
    "pd.set_option('display.max_rows', 8)\n",
    "\n",
    "# fügen Sie hier Ihren Code ein:\n"
   ]
  },
  {
   "cell_type": "markdown",
   "id": "3d54b4be",
   "metadata": {},
   "source": [
    "Erstellen Sie eine Übersicht über das Preisleistungsverhältnis, die Minimum, Maximum, Durchschnitt, Median und Standardabweichung enthält."
   ]
  },
  {
   "cell_type": "code",
   "execution_count": null,
   "id": "686dd0a5",
   "metadata": {},
   "outputs": [],
   "source": []
  },
  {
   "cell_type": "markdown",
   "id": "48c77e8e",
   "metadata": {},
   "source": [
    "Welche Weine haben das beste Preisleistungsverhältnis?"
   ]
  },
  {
   "cell_type": "code",
   "execution_count": null,
   "id": "ad2a45c4",
   "metadata": {},
   "outputs": [],
   "source": []
  },
  {
   "cell_type": "markdown",
   "id": "b67d4dd7",
   "metadata": {},
   "source": [
    "Welche Weinsorte bietet durchschnittlich das beste Preisleistungsverhältnis und wie hoch ist dieses?"
   ]
  },
  {
   "cell_type": "code",
   "execution_count": null,
   "id": "69eb509c",
   "metadata": {},
   "outputs": [],
   "source": []
  },
  {
   "cell_type": "markdown",
   "id": "5e40a9ce",
   "metadata": {},
   "source": [
    "### Weitere Übungsaufgaben\n",
    "\n",
    "Wie viele unterschiedliche Tester gibt es? Wer hat die meisten Weine bewertet und wer die wenigsten? ('keine Angabe' sollte nicht berücksichtigt werden)"
   ]
  },
  {
   "cell_type": "code",
   "execution_count": null,
   "id": "22bf9101",
   "metadata": {},
   "outputs": [],
   "source": []
  },
  {
   "cell_type": "markdown",
   "id": "e86551a7",
   "metadata": {},
   "source": [
    "Erstellen Sie eine Series, die ein Kürzel aus je drei Buchstaben für Land, Provinz und Region_1 enthält. Für den ersten Eintrag würde es so aussehen: Ita_Sic_Etn. Fügen Sie diese Series als Spalte zum DataFrame df hinzu und schauen sie sich ein paar Zeilen des neue DataFrames an."
   ]
  },
  {
   "cell_type": "code",
   "execution_count": null,
   "id": "99161071",
   "metadata": {},
   "outputs": [],
   "source": []
  },
  {
   "cell_type": "markdown",
   "id": "0cde56c0",
   "metadata": {},
   "source": [
    "Finden Sie alle Weine, deren Punktzahl außerhalb der einfachen Standardabweichung des Durchschnitts liegen. (Also alle Weine, deren Punktzahl nicht im Bereich von mean-std bis mean+std liegen.)"
   ]
  },
  {
   "cell_type": "code",
   "execution_count": null,
   "id": "adabea6d",
   "metadata": {},
   "outputs": [],
   "source": []
  }
 ],
 "metadata": {
  "kernelspec": {
   "display_name": "Python 3 (ipykernel)",
   "language": "python",
   "name": "python3"
  },
  "language_info": {
   "codemirror_mode": {
    "name": "ipython",
    "version": 3
   },
   "file_extension": ".py",
   "mimetype": "text/x-python",
   "name": "python",
   "nbconvert_exporter": "python",
   "pygments_lexer": "ipython3",
   "version": "3.9.13"
  }
 },
 "nbformat": 4,
 "nbformat_minor": 5
}
