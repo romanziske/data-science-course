{
 "cells": [
  {
   "cell_type": "markdown",
   "id": "d0ceab56",
   "metadata": {},
   "source": [
    "# Hello Pandas\n",
    "\n",
    "#### Pandas für Data Science ist ein wenig wie Mehl fürs Backen: Allein mit Mehl werden Sie keinen Teig produzieren, aber Sie werden wohl kaum jemals ohne Mehl backen."
   ]
  },
  {
   "cell_type": "markdown",
   "id": "78ecef5e",
   "metadata": {},
   "source": [
    "## Zum Aufbau dieses Notebooks\n",
    "\n",
    "In diesem Notebook wird die Python Bibliothek *Pandas* vorgestellt. Im ersten Teil des Notebooks gibt es Erklärungen und bereits ausgefüllte Codezellen. Diese sollen Sie ausführen, wenn Sie dort angekommen sind. Es gibt einige Stellen, an denen leere Zellen auftauchen. Dort sollen Sie selbst den passenden Code einfügen. An den Stellen, die mit *Spoiler* markiert sind, ist es empfehlenswert, erst nach der Bearbeitung der Zwischenaufgabe weiter zu lesen. Am Ende des Notebooks gibt es einen Abschnitt mit Übungsaufgaben. Dort können Sie das Erlernte selbst anwenden. Die Aufgaben enthalten Anforderungen gemischt aus allen Abschnitten und sind teilweise etwas schwieriger als die dort vorgestellten Beispiele. Das gesamte Notebook sollte mit minimalen Vorkenntnissen verständlich und zu bearbeiten sein. "
   ]
  },
  {
   "cell_type": "markdown",
   "id": "18d379ca",
   "metadata": {},
   "source": [
    "## Erste Schritte\n",
    "\n",
    "\n",
    "Zunächst wollen wir die Pandas Bibliothek importieren. Die allgemein anerkannte Namenskonvention ist `pd`."
   ]
  },
  {
   "cell_type": "code",
   "execution_count": 1,
   "id": "831a04ff",
   "metadata": {},
   "outputs": [],
   "source": [
    "import pandas as pd\n",
    "\n",
    "# diese Zeile sorgt lediglich für eine übersichtlichere Darstellung\n",
    "pd.set_option('display.max_rows', 6)"
   ]
  },
  {
   "cell_type": "markdown",
   "id": "8fbda683",
   "metadata": {},
   "source": [
    "Schauen wir uns zunächst den wichtigsten Objekttyp in Pandas an: *DataFrames*\n",
    "\n",
    "Ein DataFrame sieht zum Beispiel so aus:\n",
    "\n",
    " |      | Apfel  | Banane |\n",
    " |:-----|-------:|-------:|\n",
    " |**0** | grün   | gelb   |\n",
    " |**1** | fest   | weich  |\n",
    " |**2** | sauer  | süß    |"
   ]
  },
  {
   "cell_type": "markdown",
   "id": "637b9d0d",
   "metadata": {},
   "source": [
    "Ein DataFrame ist eine Tabelle. Die Vielfältigkeit und Einfachheit der Möglichkeiten mit dieser Tabelle zu arbeiten, ist es, was Pandas so nützlich macht.\n",
    "\n",
    "Ein DataFrame kann wie folgt erstellt werden:"
   ]
  },
  {
   "cell_type": "code",
   "execution_count": 2,
   "id": "fc64a4e7",
   "metadata": {},
   "outputs": [
    {
     "data": {
      "text/html": [
       "<div>\n",
       "<style scoped>\n",
       "    .dataframe tbody tr th:only-of-type {\n",
       "        vertical-align: middle;\n",
       "    }\n",
       "\n",
       "    .dataframe tbody tr th {\n",
       "        vertical-align: top;\n",
       "    }\n",
       "\n",
       "    .dataframe thead th {\n",
       "        text-align: right;\n",
       "    }\n",
       "</style>\n",
       "<table border=\"1\" class=\"dataframe\">\n",
       "  <thead>\n",
       "    <tr style=\"text-align: right;\">\n",
       "      <th></th>\n",
       "      <th>Anna</th>\n",
       "      <th>Bob</th>\n",
       "    </tr>\n",
       "  </thead>\n",
       "  <tbody>\n",
       "    <tr>\n",
       "      <th>0</th>\n",
       "      <td>3</td>\n",
       "      <td>5</td>\n",
       "    </tr>\n",
       "    <tr>\n",
       "      <th>1</th>\n",
       "      <td>10</td>\n",
       "      <td>7</td>\n",
       "    </tr>\n",
       "  </tbody>\n",
       "</table>\n",
       "</div>"
      ],
      "text/plain": [
       "   Anna  Bob\n",
       "0     3    5\n",
       "1    10    7"
      ]
     },
     "execution_count": 2,
     "metadata": {},
     "output_type": "execute_result"
    }
   ],
   "source": [
    "df = pd.DataFrame({'Anna': [3, 10], 'Bob': [5, 7]})\n",
    "\n",
    "# Diese Zeile dient der Ausgabe des Ergebnisses\n",
    "df"
   ]
  },
  {
   "cell_type": "markdown",
   "id": "444f938f",
   "metadata": {},
   "source": [
    "Erstellen Sie das DataFrame zum obigen Beispiel."
   ]
  },
  {
   "cell_type": "code",
   "execution_count": 4,
   "id": "562824c8",
   "metadata": {},
   "outputs": [
    {
     "data": {
      "text/html": [
       "<div>\n",
       "<style scoped>\n",
       "    .dataframe tbody tr th:only-of-type {\n",
       "        vertical-align: middle;\n",
       "    }\n",
       "\n",
       "    .dataframe tbody tr th {\n",
       "        vertical-align: top;\n",
       "    }\n",
       "\n",
       "    .dataframe thead th {\n",
       "        text-align: right;\n",
       "    }\n",
       "</style>\n",
       "<table border=\"1\" class=\"dataframe\">\n",
       "  <thead>\n",
       "    <tr style=\"text-align: right;\">\n",
       "      <th></th>\n",
       "      <th>Apfel</th>\n",
       "      <th>Banane</th>\n",
       "    </tr>\n",
       "  </thead>\n",
       "  <tbody>\n",
       "    <tr>\n",
       "      <th>0</th>\n",
       "      <td>grün</td>\n",
       "      <td>gelb</td>\n",
       "    </tr>\n",
       "    <tr>\n",
       "      <th>1</th>\n",
       "      <td>fest</td>\n",
       "      <td>weich</td>\n",
       "    </tr>\n",
       "    <tr>\n",
       "      <th>2</th>\n",
       "      <td>sauer</td>\n",
       "      <td>süß</td>\n",
       "    </tr>\n",
       "  </tbody>\n",
       "</table>\n",
       "</div>"
      ],
      "text/plain": [
       "   Apfel Banane\n",
       "0   grün   gelb\n",
       "1   fest  weich\n",
       "2  sauer    süß"
      ]
     },
     "execution_count": 4,
     "metadata": {},
     "output_type": "execute_result"
    }
   ],
   "source": [
    "# Lösung\n",
    "df = pd.DataFrame({'Apfel': ['grün', 'fest', 'sauer'], 'Banane': ['gelb', 'weich', 'süß']})\n",
    "df"
   ]
  },
  {
   "cell_type": "markdown",
   "id": "903d310d",
   "metadata": {},
   "source": [
    "Natürlich möchte man große Datensätze nicht per Hand eingeben, sondern direkt einlesen lassen. Liegen die Daten bspw. in einer CSV Datei vor, lassen sie sich mit der Methode `read_csv` einlesen:"
   ]
  },
  {
   "cell_type": "code",
   "execution_count": 5,
   "id": "d096498d",
   "metadata": {},
   "outputs": [],
   "source": [
    "# Wichtig ist der Dateipfad, das Argument index_col können Sie ignorieren\n",
    "reviews = pd.read_csv('/Users/louisborchert/Downloads/winemag-data-130k-v2.csv', index_col=0)"
   ]
  },
  {
   "cell_type": "markdown",
   "id": "36c0f7e3",
   "metadata": {},
   "source": [
    "Der Datensatz ist unter folgender Lizenz\n",
    "\n",
    "https://creativecommons.org/licenses/by-nc-sa/4.0/\n",
    "    \n",
    "auf Kaggle von dem Nutzer \"zackthoutt\" veröffentlicht. Der Datensatz kann unter folgendem Link gefunden werden (zuletzt geprüft am 22.11.2022):\n",
    "    \n",
    "https://www.kaggle.com/datasets/zynicide/wine-reviews"
   ]
  },
  {
   "cell_type": "markdown",
   "id": "aada71d5",
   "metadata": {},
   "source": [
    "## Einen Überblick über den Datensatz gewinnen\n",
    "\n",
    "Wir wollen uns einen ersten Überblick über den Datensatz verschaffen. Zuerst fragen wir die Dimensionen des DataFrames ab."
   ]
  },
  {
   "cell_type": "code",
   "execution_count": 6,
   "id": "0b09a3fe",
   "metadata": {},
   "outputs": [
    {
     "data": {
      "text/plain": [
       "(129971, 13)"
      ]
     },
     "execution_count": 6,
     "metadata": {},
     "output_type": "execute_result"
    }
   ],
   "source": [
    "reviews.shape"
   ]
  },
  {
   "cell_type": "markdown",
   "id": "7d30d0f7",
   "metadata": {},
   "source": [
    "Die Spaltennamen und der Zeilenindex sind ebenfalls Attribute des DataFrames, die wir uns zurückgeben lassen können:"
   ]
  },
  {
   "cell_type": "code",
   "execution_count": 7,
   "id": "e26a3aec",
   "metadata": {},
   "outputs": [
    {
     "data": {
      "text/plain": [
       "Index(['country', 'description', 'designation', 'points', 'price', 'province',\n",
       "       'region_1', 'region_2', 'taster_name', 'taster_twitter_handle', 'title',\n",
       "       'variety', 'winery'],\n",
       "      dtype='object')"
      ]
     },
     "execution_count": 7,
     "metadata": {},
     "output_type": "execute_result"
    }
   ],
   "source": [
    "reviews.columns"
   ]
  },
  {
   "cell_type": "code",
   "execution_count": 8,
   "id": "88a64c17",
   "metadata": {},
   "outputs": [
    {
     "data": {
      "text/plain": [
       "Int64Index([     0,      1,      2,      3,      4,      5,      6,      7,\n",
       "                 8,      9,\n",
       "            ...\n",
       "            129961, 129962, 129963, 129964, 129965, 129966, 129967, 129968,\n",
       "            129969, 129970],\n",
       "           dtype='int64', length=129971)"
      ]
     },
     "execution_count": 8,
     "metadata": {},
     "output_type": "execute_result"
    }
   ],
   "source": [
    "reviews.index"
   ]
  },
  {
   "cell_type": "markdown",
   "id": "ba6e627e",
   "metadata": {},
   "source": [
    "Als nächstes schauen wir uns die obersten Zeilen an. Dazu gibt es die eingebaute Methode `head`."
   ]
  },
  {
   "cell_type": "code",
   "execution_count": 9,
   "id": "bf0d94a8",
   "metadata": {},
   "outputs": [
    {
     "data": {
      "text/html": [
       "<div>\n",
       "<style scoped>\n",
       "    .dataframe tbody tr th:only-of-type {\n",
       "        vertical-align: middle;\n",
       "    }\n",
       "\n",
       "    .dataframe tbody tr th {\n",
       "        vertical-align: top;\n",
       "    }\n",
       "\n",
       "    .dataframe thead th {\n",
       "        text-align: right;\n",
       "    }\n",
       "</style>\n",
       "<table border=\"1\" class=\"dataframe\">\n",
       "  <thead>\n",
       "    <tr style=\"text-align: right;\">\n",
       "      <th></th>\n",
       "      <th>country</th>\n",
       "      <th>description</th>\n",
       "      <th>designation</th>\n",
       "      <th>points</th>\n",
       "      <th>price</th>\n",
       "      <th>province</th>\n",
       "      <th>region_1</th>\n",
       "      <th>region_2</th>\n",
       "      <th>taster_name</th>\n",
       "      <th>taster_twitter_handle</th>\n",
       "      <th>title</th>\n",
       "      <th>variety</th>\n",
       "      <th>winery</th>\n",
       "    </tr>\n",
       "  </thead>\n",
       "  <tbody>\n",
       "    <tr>\n",
       "      <th>0</th>\n",
       "      <td>Italy</td>\n",
       "      <td>Aromas include tropical fruit, broom, brimston...</td>\n",
       "      <td>Vulkà Bianco</td>\n",
       "      <td>87</td>\n",
       "      <td>NaN</td>\n",
       "      <td>Sicily &amp; Sardinia</td>\n",
       "      <td>Etna</td>\n",
       "      <td>NaN</td>\n",
       "      <td>Kerin O’Keefe</td>\n",
       "      <td>@kerinokeefe</td>\n",
       "      <td>Nicosia 2013 Vulkà Bianco  (Etna)</td>\n",
       "      <td>White Blend</td>\n",
       "      <td>Nicosia</td>\n",
       "    </tr>\n",
       "    <tr>\n",
       "      <th>1</th>\n",
       "      <td>Portugal</td>\n",
       "      <td>This is ripe and fruity, a wine that is smooth...</td>\n",
       "      <td>Avidagos</td>\n",
       "      <td>87</td>\n",
       "      <td>15.0</td>\n",
       "      <td>Douro</td>\n",
       "      <td>NaN</td>\n",
       "      <td>NaN</td>\n",
       "      <td>Roger Voss</td>\n",
       "      <td>@vossroger</td>\n",
       "      <td>Quinta dos Avidagos 2011 Avidagos Red (Douro)</td>\n",
       "      <td>Portuguese Red</td>\n",
       "      <td>Quinta dos Avidagos</td>\n",
       "    </tr>\n",
       "    <tr>\n",
       "      <th>2</th>\n",
       "      <td>US</td>\n",
       "      <td>Tart and snappy, the flavors of lime flesh and...</td>\n",
       "      <td>NaN</td>\n",
       "      <td>87</td>\n",
       "      <td>14.0</td>\n",
       "      <td>Oregon</td>\n",
       "      <td>Willamette Valley</td>\n",
       "      <td>Willamette Valley</td>\n",
       "      <td>Paul Gregutt</td>\n",
       "      <td>@paulgwine</td>\n",
       "      <td>Rainstorm 2013 Pinot Gris (Willamette Valley)</td>\n",
       "      <td>Pinot Gris</td>\n",
       "      <td>Rainstorm</td>\n",
       "    </tr>\n",
       "    <tr>\n",
       "      <th>3</th>\n",
       "      <td>US</td>\n",
       "      <td>Pineapple rind, lemon pith and orange blossom ...</td>\n",
       "      <td>Reserve Late Harvest</td>\n",
       "      <td>87</td>\n",
       "      <td>13.0</td>\n",
       "      <td>Michigan</td>\n",
       "      <td>Lake Michigan Shore</td>\n",
       "      <td>NaN</td>\n",
       "      <td>Alexander Peartree</td>\n",
       "      <td>NaN</td>\n",
       "      <td>St. Julian 2013 Reserve Late Harvest Riesling ...</td>\n",
       "      <td>Riesling</td>\n",
       "      <td>St. Julian</td>\n",
       "    </tr>\n",
       "    <tr>\n",
       "      <th>4</th>\n",
       "      <td>US</td>\n",
       "      <td>Much like the regular bottling from 2012, this...</td>\n",
       "      <td>Vintner's Reserve Wild Child Block</td>\n",
       "      <td>87</td>\n",
       "      <td>65.0</td>\n",
       "      <td>Oregon</td>\n",
       "      <td>Willamette Valley</td>\n",
       "      <td>Willamette Valley</td>\n",
       "      <td>Paul Gregutt</td>\n",
       "      <td>@paulgwine</td>\n",
       "      <td>Sweet Cheeks 2012 Vintner's Reserve Wild Child...</td>\n",
       "      <td>Pinot Noir</td>\n",
       "      <td>Sweet Cheeks</td>\n",
       "    </tr>\n",
       "  </tbody>\n",
       "</table>\n",
       "</div>"
      ],
      "text/plain": [
       "    country                                        description  \\\n",
       "0     Italy  Aromas include tropical fruit, broom, brimston...   \n",
       "1  Portugal  This is ripe and fruity, a wine that is smooth...   \n",
       "2        US  Tart and snappy, the flavors of lime flesh and...   \n",
       "3        US  Pineapple rind, lemon pith and orange blossom ...   \n",
       "4        US  Much like the regular bottling from 2012, this...   \n",
       "\n",
       "                          designation  points  price           province  \\\n",
       "0                        Vulkà Bianco      87    NaN  Sicily & Sardinia   \n",
       "1                            Avidagos      87   15.0              Douro   \n",
       "2                                 NaN      87   14.0             Oregon   \n",
       "3                Reserve Late Harvest      87   13.0           Michigan   \n",
       "4  Vintner's Reserve Wild Child Block      87   65.0             Oregon   \n",
       "\n",
       "              region_1           region_2         taster_name  \\\n",
       "0                 Etna                NaN       Kerin O’Keefe   \n",
       "1                  NaN                NaN          Roger Voss   \n",
       "2    Willamette Valley  Willamette Valley        Paul Gregutt   \n",
       "3  Lake Michigan Shore                NaN  Alexander Peartree   \n",
       "4    Willamette Valley  Willamette Valley        Paul Gregutt   \n",
       "\n",
       "  taster_twitter_handle                                              title  \\\n",
       "0          @kerinokeefe                  Nicosia 2013 Vulkà Bianco  (Etna)   \n",
       "1            @vossroger      Quinta dos Avidagos 2011 Avidagos Red (Douro)   \n",
       "2           @paulgwine       Rainstorm 2013 Pinot Gris (Willamette Valley)   \n",
       "3                   NaN  St. Julian 2013 Reserve Late Harvest Riesling ...   \n",
       "4           @paulgwine   Sweet Cheeks 2012 Vintner's Reserve Wild Child...   \n",
       "\n",
       "          variety               winery  \n",
       "0     White Blend              Nicosia  \n",
       "1  Portuguese Red  Quinta dos Avidagos  \n",
       "2      Pinot Gris            Rainstorm  \n",
       "3        Riesling           St. Julian  \n",
       "4      Pinot Noir         Sweet Cheeks  "
      ]
     },
     "execution_count": 9,
     "metadata": {},
     "output_type": "execute_result"
    }
   ],
   "source": [
    "reviews.head()"
   ]
  },
  {
   "cell_type": "markdown",
   "id": "e962c115",
   "metadata": {},
   "source": [
    "Wie wir sehen, wird der Herkunftsort des Weins sehr detailiert beschrieben (Land, Provinz, Regionen). Die Beschreibung jedes Weins ist ein Text, der wahrscheinlich nie für zwei Weine gleich sein wird. Es gibt mit der Punktzahl und dem Preis zwei Spalten mit numerischen Werten. Der Twittername eines Testers wird für eine Datenanalyse wohl kaum nützlich sein, da wir die Tester schon aufgrund ihres Namens unterscheiden können. Die Spalte region_2 enthält bisher auch keine neuen Informationen. Es gibt einige fehlende Werte (NaNs, dazu später mehr). All dies sind Erkenntnisse (zum Teil Mutmaßungen, die es noch zu überprüfen gilt), die man in dieser einfache Darstellung bereits gewinnen kann.\n",
    "\n",
    "Wir sind nicht auf die ersten fünf Zeilen beschränkt. Wollen wir uns z.B. die Zeilen 601 bis 603 ansehen, können wir dafür die Methode iloc verwenden:"
   ]
  },
  {
   "cell_type": "code",
   "execution_count": 10,
   "id": "dd6a1d68",
   "metadata": {
    "scrolled": true
   },
   "outputs": [
    {
     "data": {
      "text/html": [
       "<div>\n",
       "<style scoped>\n",
       "    .dataframe tbody tr th:only-of-type {\n",
       "        vertical-align: middle;\n",
       "    }\n",
       "\n",
       "    .dataframe tbody tr th {\n",
       "        vertical-align: top;\n",
       "    }\n",
       "\n",
       "    .dataframe thead th {\n",
       "        text-align: right;\n",
       "    }\n",
       "</style>\n",
       "<table border=\"1\" class=\"dataframe\">\n",
       "  <thead>\n",
       "    <tr style=\"text-align: right;\">\n",
       "      <th></th>\n",
       "      <th>country</th>\n",
       "      <th>description</th>\n",
       "      <th>designation</th>\n",
       "      <th>points</th>\n",
       "      <th>price</th>\n",
       "      <th>province</th>\n",
       "      <th>region_1</th>\n",
       "      <th>region_2</th>\n",
       "      <th>taster_name</th>\n",
       "      <th>taster_twitter_handle</th>\n",
       "      <th>title</th>\n",
       "      <th>variety</th>\n",
       "      <th>winery</th>\n",
       "    </tr>\n",
       "  </thead>\n",
       "  <tbody>\n",
       "    <tr>\n",
       "      <th>601</th>\n",
       "      <td>Mexico</td>\n",
       "      <td>Sauvignon Blanc is, in general, one of Baja's ...</td>\n",
       "      <td>Viña Kristel</td>\n",
       "      <td>87</td>\n",
       "      <td>15.0</td>\n",
       "      <td>Valle de Guadalupe</td>\n",
       "      <td>NaN</td>\n",
       "      <td>NaN</td>\n",
       "      <td>Michael Schachner</td>\n",
       "      <td>@wineschach</td>\n",
       "      <td>Monte Xanic 2012 Viña Kristel Sauvignon Blanc ...</td>\n",
       "      <td>Sauvignon Blanc</td>\n",
       "      <td>Monte Xanic</td>\n",
       "    </tr>\n",
       "    <tr>\n",
       "      <th>602</th>\n",
       "      <td>US</td>\n",
       "      <td>There's plenty of ripe berry-cherry fruit, fin...</td>\n",
       "      <td>NaN</td>\n",
       "      <td>87</td>\n",
       "      <td>69.0</td>\n",
       "      <td>California</td>\n",
       "      <td>Oak Knoll District</td>\n",
       "      <td>Napa</td>\n",
       "      <td>NaN</td>\n",
       "      <td>NaN</td>\n",
       "      <td>Paoletti 2010 Cabernet Sauvignon (Oak Knoll Di...</td>\n",
       "      <td>Cabernet Sauvignon</td>\n",
       "      <td>Paoletti</td>\n",
       "    </tr>\n",
       "    <tr>\n",
       "      <th>603</th>\n",
       "      <td>US</td>\n",
       "      <td>Ripe and luscious, this decadent Cabernet Fran...</td>\n",
       "      <td>NaN</td>\n",
       "      <td>87</td>\n",
       "      <td>36.0</td>\n",
       "      <td>New York</td>\n",
       "      <td>North Fork of Long Island</td>\n",
       "      <td>Long Island</td>\n",
       "      <td>Anna Lee C. Iijima</td>\n",
       "      <td>NaN</td>\n",
       "      <td>Peconic Bay Winery 2010 Cabernet Franc (North ...</td>\n",
       "      <td>Cabernet Franc</td>\n",
       "      <td>Peconic Bay Winery</td>\n",
       "    </tr>\n",
       "  </tbody>\n",
       "</table>\n",
       "</div>"
      ],
      "text/plain": [
       "    country                                        description   designation  \\\n",
       "601  Mexico  Sauvignon Blanc is, in general, one of Baja's ...  Viña Kristel   \n",
       "602      US  There's plenty of ripe berry-cherry fruit, fin...           NaN   \n",
       "603      US  Ripe and luscious, this decadent Cabernet Fran...           NaN   \n",
       "\n",
       "     points  price            province                   region_1  \\\n",
       "601      87   15.0  Valle de Guadalupe                        NaN   \n",
       "602      87   69.0          California         Oak Knoll District   \n",
       "603      87   36.0            New York  North Fork of Long Island   \n",
       "\n",
       "        region_2         taster_name taster_twitter_handle  \\\n",
       "601          NaN   Michael Schachner           @wineschach   \n",
       "602         Napa                 NaN                   NaN   \n",
       "603  Long Island  Anna Lee C. Iijima                   NaN   \n",
       "\n",
       "                                                 title             variety  \\\n",
       "601  Monte Xanic 2012 Viña Kristel Sauvignon Blanc ...     Sauvignon Blanc   \n",
       "602  Paoletti 2010 Cabernet Sauvignon (Oak Knoll Di...  Cabernet Sauvignon   \n",
       "603  Peconic Bay Winery 2010 Cabernet Franc (North ...      Cabernet Franc   \n",
       "\n",
       "                 winery  \n",
       "601         Monte Xanic  \n",
       "602            Paoletti  \n",
       "603  Peconic Bay Winery  "
      ]
     },
     "execution_count": 10,
     "metadata": {},
     "output_type": "execute_result"
    }
   ],
   "source": [
    "reviews.iloc[601:604]"
   ]
  },
  {
   "cell_type": "markdown",
   "id": "94dfea24",
   "metadata": {},
   "source": [
    "Hier sehen wir, dass die Spalte `region_2` doch neue Informationen enthält, z.B. in Zeile 602. Man beachte, dass `iloc` das Ende des Bereichs ausschließt, so wie es beim Indizieren gängig ist.\n",
    "\n",
    "Bauen Sie nun `head` mit Hilfe von `iloc` in der folgenden Zelle nach."
   ]
  },
  {
   "cell_type": "code",
   "execution_count": 11,
   "id": "c2a8472a",
   "metadata": {
    "scrolled": false
   },
   "outputs": [
    {
     "data": {
      "text/html": [
       "<div>\n",
       "<style scoped>\n",
       "    .dataframe tbody tr th:only-of-type {\n",
       "        vertical-align: middle;\n",
       "    }\n",
       "\n",
       "    .dataframe tbody tr th {\n",
       "        vertical-align: top;\n",
       "    }\n",
       "\n",
       "    .dataframe thead th {\n",
       "        text-align: right;\n",
       "    }\n",
       "</style>\n",
       "<table border=\"1\" class=\"dataframe\">\n",
       "  <thead>\n",
       "    <tr style=\"text-align: right;\">\n",
       "      <th></th>\n",
       "      <th>country</th>\n",
       "      <th>description</th>\n",
       "      <th>designation</th>\n",
       "      <th>points</th>\n",
       "      <th>price</th>\n",
       "      <th>province</th>\n",
       "      <th>region_1</th>\n",
       "      <th>region_2</th>\n",
       "      <th>taster_name</th>\n",
       "      <th>taster_twitter_handle</th>\n",
       "      <th>title</th>\n",
       "      <th>variety</th>\n",
       "      <th>winery</th>\n",
       "    </tr>\n",
       "  </thead>\n",
       "  <tbody>\n",
       "    <tr>\n",
       "      <th>0</th>\n",
       "      <td>Italy</td>\n",
       "      <td>Aromas include tropical fruit, broom, brimston...</td>\n",
       "      <td>Vulkà Bianco</td>\n",
       "      <td>87</td>\n",
       "      <td>NaN</td>\n",
       "      <td>Sicily &amp; Sardinia</td>\n",
       "      <td>Etna</td>\n",
       "      <td>NaN</td>\n",
       "      <td>Kerin O’Keefe</td>\n",
       "      <td>@kerinokeefe</td>\n",
       "      <td>Nicosia 2013 Vulkà Bianco  (Etna)</td>\n",
       "      <td>White Blend</td>\n",
       "      <td>Nicosia</td>\n",
       "    </tr>\n",
       "    <tr>\n",
       "      <th>1</th>\n",
       "      <td>Portugal</td>\n",
       "      <td>This is ripe and fruity, a wine that is smooth...</td>\n",
       "      <td>Avidagos</td>\n",
       "      <td>87</td>\n",
       "      <td>15.0</td>\n",
       "      <td>Douro</td>\n",
       "      <td>NaN</td>\n",
       "      <td>NaN</td>\n",
       "      <td>Roger Voss</td>\n",
       "      <td>@vossroger</td>\n",
       "      <td>Quinta dos Avidagos 2011 Avidagos Red (Douro)</td>\n",
       "      <td>Portuguese Red</td>\n",
       "      <td>Quinta dos Avidagos</td>\n",
       "    </tr>\n",
       "    <tr>\n",
       "      <th>2</th>\n",
       "      <td>US</td>\n",
       "      <td>Tart and snappy, the flavors of lime flesh and...</td>\n",
       "      <td>NaN</td>\n",
       "      <td>87</td>\n",
       "      <td>14.0</td>\n",
       "      <td>Oregon</td>\n",
       "      <td>Willamette Valley</td>\n",
       "      <td>Willamette Valley</td>\n",
       "      <td>Paul Gregutt</td>\n",
       "      <td>@paulgwine</td>\n",
       "      <td>Rainstorm 2013 Pinot Gris (Willamette Valley)</td>\n",
       "      <td>Pinot Gris</td>\n",
       "      <td>Rainstorm</td>\n",
       "    </tr>\n",
       "    <tr>\n",
       "      <th>3</th>\n",
       "      <td>US</td>\n",
       "      <td>Pineapple rind, lemon pith and orange blossom ...</td>\n",
       "      <td>Reserve Late Harvest</td>\n",
       "      <td>87</td>\n",
       "      <td>13.0</td>\n",
       "      <td>Michigan</td>\n",
       "      <td>Lake Michigan Shore</td>\n",
       "      <td>NaN</td>\n",
       "      <td>Alexander Peartree</td>\n",
       "      <td>NaN</td>\n",
       "      <td>St. Julian 2013 Reserve Late Harvest Riesling ...</td>\n",
       "      <td>Riesling</td>\n",
       "      <td>St. Julian</td>\n",
       "    </tr>\n",
       "    <tr>\n",
       "      <th>4</th>\n",
       "      <td>US</td>\n",
       "      <td>Much like the regular bottling from 2012, this...</td>\n",
       "      <td>Vintner's Reserve Wild Child Block</td>\n",
       "      <td>87</td>\n",
       "      <td>65.0</td>\n",
       "      <td>Oregon</td>\n",
       "      <td>Willamette Valley</td>\n",
       "      <td>Willamette Valley</td>\n",
       "      <td>Paul Gregutt</td>\n",
       "      <td>@paulgwine</td>\n",
       "      <td>Sweet Cheeks 2012 Vintner's Reserve Wild Child...</td>\n",
       "      <td>Pinot Noir</td>\n",
       "      <td>Sweet Cheeks</td>\n",
       "    </tr>\n",
       "  </tbody>\n",
       "</table>\n",
       "</div>"
      ],
      "text/plain": [
       "    country                                        description  \\\n",
       "0     Italy  Aromas include tropical fruit, broom, brimston...   \n",
       "1  Portugal  This is ripe and fruity, a wine that is smooth...   \n",
       "2        US  Tart and snappy, the flavors of lime flesh and...   \n",
       "3        US  Pineapple rind, lemon pith and orange blossom ...   \n",
       "4        US  Much like the regular bottling from 2012, this...   \n",
       "\n",
       "                          designation  points  price           province  \\\n",
       "0                        Vulkà Bianco      87    NaN  Sicily & Sardinia   \n",
       "1                            Avidagos      87   15.0              Douro   \n",
       "2                                 NaN      87   14.0             Oregon   \n",
       "3                Reserve Late Harvest      87   13.0           Michigan   \n",
       "4  Vintner's Reserve Wild Child Block      87   65.0             Oregon   \n",
       "\n",
       "              region_1           region_2         taster_name  \\\n",
       "0                 Etna                NaN       Kerin O’Keefe   \n",
       "1                  NaN                NaN          Roger Voss   \n",
       "2    Willamette Valley  Willamette Valley        Paul Gregutt   \n",
       "3  Lake Michigan Shore                NaN  Alexander Peartree   \n",
       "4    Willamette Valley  Willamette Valley        Paul Gregutt   \n",
       "\n",
       "  taster_twitter_handle                                              title  \\\n",
       "0          @kerinokeefe                  Nicosia 2013 Vulkà Bianco  (Etna)   \n",
       "1            @vossroger      Quinta dos Avidagos 2011 Avidagos Red (Douro)   \n",
       "2           @paulgwine       Rainstorm 2013 Pinot Gris (Willamette Valley)   \n",
       "3                   NaN  St. Julian 2013 Reserve Late Harvest Riesling ...   \n",
       "4           @paulgwine   Sweet Cheeks 2012 Vintner's Reserve Wild Child...   \n",
       "\n",
       "          variety               winery  \n",
       "0     White Blend              Nicosia  \n",
       "1  Portuguese Red  Quinta dos Avidagos  \n",
       "2      Pinot Gris            Rainstorm  \n",
       "3        Riesling           St. Julian  \n",
       "4      Pinot Noir         Sweet Cheeks  "
      ]
     },
     "execution_count": 11,
     "metadata": {},
     "output_type": "execute_result"
    }
   ],
   "source": [
    "# Lösung\n",
    "reviews.iloc[0:5]"
   ]
  },
  {
   "cell_type": "markdown",
   "id": "8af097ac",
   "metadata": {},
   "source": [
    "#### Zusatzaufgabe: ####\n",
    "\n",
    "Es gibt auch eine Methode zum Auslesen der letzten fünf Zeilen. Finden Sie heraus wie dieses heißt. Vielleicht können Sie den Namen sogar erraten..."
   ]
  },
  {
   "cell_type": "code",
   "execution_count": 12,
   "id": "0b385739",
   "metadata": {},
   "outputs": [
    {
     "data": {
      "text/html": [
       "<div>\n",
       "<style scoped>\n",
       "    .dataframe tbody tr th:only-of-type {\n",
       "        vertical-align: middle;\n",
       "    }\n",
       "\n",
       "    .dataframe tbody tr th {\n",
       "        vertical-align: top;\n",
       "    }\n",
       "\n",
       "    .dataframe thead th {\n",
       "        text-align: right;\n",
       "    }\n",
       "</style>\n",
       "<table border=\"1\" class=\"dataframe\">\n",
       "  <thead>\n",
       "    <tr style=\"text-align: right;\">\n",
       "      <th></th>\n",
       "      <th>country</th>\n",
       "      <th>description</th>\n",
       "      <th>designation</th>\n",
       "      <th>points</th>\n",
       "      <th>price</th>\n",
       "      <th>province</th>\n",
       "      <th>region_1</th>\n",
       "      <th>region_2</th>\n",
       "      <th>taster_name</th>\n",
       "      <th>taster_twitter_handle</th>\n",
       "      <th>title</th>\n",
       "      <th>variety</th>\n",
       "      <th>winery</th>\n",
       "    </tr>\n",
       "  </thead>\n",
       "  <tbody>\n",
       "    <tr>\n",
       "      <th>129966</th>\n",
       "      <td>Germany</td>\n",
       "      <td>Notes of honeysuckle and cantaloupe sweeten th...</td>\n",
       "      <td>Brauneberger Juffer-Sonnenuhr Spätlese</td>\n",
       "      <td>90</td>\n",
       "      <td>28.0</td>\n",
       "      <td>Mosel</td>\n",
       "      <td>NaN</td>\n",
       "      <td>NaN</td>\n",
       "      <td>Anna Lee C. Iijima</td>\n",
       "      <td>NaN</td>\n",
       "      <td>Dr. H. Thanisch (Erben Müller-Burggraef) 2013 ...</td>\n",
       "      <td>Riesling</td>\n",
       "      <td>Dr. H. Thanisch (Erben Müller-Burggraef)</td>\n",
       "    </tr>\n",
       "    <tr>\n",
       "      <th>129967</th>\n",
       "      <td>US</td>\n",
       "      <td>Citation is given as much as a decade of bottl...</td>\n",
       "      <td>NaN</td>\n",
       "      <td>90</td>\n",
       "      <td>75.0</td>\n",
       "      <td>Oregon</td>\n",
       "      <td>Oregon</td>\n",
       "      <td>Oregon Other</td>\n",
       "      <td>Paul Gregutt</td>\n",
       "      <td>@paulgwine</td>\n",
       "      <td>Citation 2004 Pinot Noir (Oregon)</td>\n",
       "      <td>Pinot Noir</td>\n",
       "      <td>Citation</td>\n",
       "    </tr>\n",
       "    <tr>\n",
       "      <th>129968</th>\n",
       "      <td>France</td>\n",
       "      <td>Well-drained gravel soil gives this wine its c...</td>\n",
       "      <td>Kritt</td>\n",
       "      <td>90</td>\n",
       "      <td>30.0</td>\n",
       "      <td>Alsace</td>\n",
       "      <td>Alsace</td>\n",
       "      <td>NaN</td>\n",
       "      <td>Roger Voss</td>\n",
       "      <td>@vossroger</td>\n",
       "      <td>Domaine Gresser 2013 Kritt Gewurztraminer (Als...</td>\n",
       "      <td>Gewürztraminer</td>\n",
       "      <td>Domaine Gresser</td>\n",
       "    </tr>\n",
       "    <tr>\n",
       "      <th>129969</th>\n",
       "      <td>France</td>\n",
       "      <td>A dry style of Pinot Gris, this is crisp with ...</td>\n",
       "      <td>NaN</td>\n",
       "      <td>90</td>\n",
       "      <td>32.0</td>\n",
       "      <td>Alsace</td>\n",
       "      <td>Alsace</td>\n",
       "      <td>NaN</td>\n",
       "      <td>Roger Voss</td>\n",
       "      <td>@vossroger</td>\n",
       "      <td>Domaine Marcel Deiss 2012 Pinot Gris (Alsace)</td>\n",
       "      <td>Pinot Gris</td>\n",
       "      <td>Domaine Marcel Deiss</td>\n",
       "    </tr>\n",
       "    <tr>\n",
       "      <th>129970</th>\n",
       "      <td>France</td>\n",
       "      <td>Big, rich and off-dry, this is powered by inte...</td>\n",
       "      <td>Lieu-dit Harth Cuvée Caroline</td>\n",
       "      <td>90</td>\n",
       "      <td>21.0</td>\n",
       "      <td>Alsace</td>\n",
       "      <td>Alsace</td>\n",
       "      <td>NaN</td>\n",
       "      <td>Roger Voss</td>\n",
       "      <td>@vossroger</td>\n",
       "      <td>Domaine Schoffit 2012 Lieu-dit Harth Cuvée Car...</td>\n",
       "      <td>Gewürztraminer</td>\n",
       "      <td>Domaine Schoffit</td>\n",
       "    </tr>\n",
       "  </tbody>\n",
       "</table>\n",
       "</div>"
      ],
      "text/plain": [
       "        country                                        description  \\\n",
       "129966  Germany  Notes of honeysuckle and cantaloupe sweeten th...   \n",
       "129967       US  Citation is given as much as a decade of bottl...   \n",
       "129968   France  Well-drained gravel soil gives this wine its c...   \n",
       "129969   France  A dry style of Pinot Gris, this is crisp with ...   \n",
       "129970   France  Big, rich and off-dry, this is powered by inte...   \n",
       "\n",
       "                                   designation  points  price province  \\\n",
       "129966  Brauneberger Juffer-Sonnenuhr Spätlese      90   28.0    Mosel   \n",
       "129967                                     NaN      90   75.0   Oregon   \n",
       "129968                                   Kritt      90   30.0   Alsace   \n",
       "129969                                     NaN      90   32.0   Alsace   \n",
       "129970           Lieu-dit Harth Cuvée Caroline      90   21.0   Alsace   \n",
       "\n",
       "       region_1      region_2         taster_name taster_twitter_handle  \\\n",
       "129966      NaN           NaN  Anna Lee C. Iijima                   NaN   \n",
       "129967   Oregon  Oregon Other        Paul Gregutt           @paulgwine    \n",
       "129968   Alsace           NaN          Roger Voss            @vossroger   \n",
       "129969   Alsace           NaN          Roger Voss            @vossroger   \n",
       "129970   Alsace           NaN          Roger Voss            @vossroger   \n",
       "\n",
       "                                                    title         variety  \\\n",
       "129966  Dr. H. Thanisch (Erben Müller-Burggraef) 2013 ...        Riesling   \n",
       "129967                  Citation 2004 Pinot Noir (Oregon)      Pinot Noir   \n",
       "129968  Domaine Gresser 2013 Kritt Gewurztraminer (Als...  Gewürztraminer   \n",
       "129969      Domaine Marcel Deiss 2012 Pinot Gris (Alsace)      Pinot Gris   \n",
       "129970  Domaine Schoffit 2012 Lieu-dit Harth Cuvée Car...  Gewürztraminer   \n",
       "\n",
       "                                          winery  \n",
       "129966  Dr. H. Thanisch (Erben Müller-Burggraef)  \n",
       "129967                                  Citation  \n",
       "129968                           Domaine Gresser  \n",
       "129969                      Domaine Marcel Deiss  \n",
       "129970                          Domaine Schoffit  "
      ]
     },
     "execution_count": 12,
     "metadata": {},
     "output_type": "execute_result"
    }
   ],
   "source": [
    "# Lösung\n",
    "reviews.tail()"
   ]
  },
  {
   "cell_type": "markdown",
   "id": "f03ba933",
   "metadata": {},
   "source": [
    "## Selektion\n",
    "\n",
    "Eine Methode zur Selektion von Einträgen haben wir bereits kennen gelernt: `iloc`. In diesem Abschnitt wollen wir das Wissen zum Auswählen von Einträgen vertiefen. Sie werden lernen, wie Sie Spalten selektieren, labelbasiert selektieren, nach Bedingungen selektieren und diese miteinander kombinieren können."
   ]
  },
  {
   "cell_type": "markdown",
   "id": "502c0464",
   "metadata": {},
   "source": [
    "Eine der simpelsten Aufgaben besteht im Zurückgeben einer einzelnen Spalte. Jede Spalte ist ein Attribut eines DataFrames, d.h. wir können sie folgt abrufen:"
   ]
  },
  {
   "cell_type": "code",
   "execution_count": 13,
   "id": "c212f92b",
   "metadata": {},
   "outputs": [
    {
     "data": {
      "text/plain": [
       "0          NaN\n",
       "1         15.0\n",
       "2         14.0\n",
       "          ... \n",
       "129968    30.0\n",
       "129969    32.0\n",
       "129970    21.0\n",
       "Name: price, Length: 129971, dtype: float64"
      ]
     },
     "execution_count": 13,
     "metadata": {},
     "output_type": "execute_result"
    }
   ],
   "source": [
    "reviews.price"
   ]
  },
  {
   "cell_type": "markdown",
   "id": "527374be",
   "metadata": {},
   "source": [
    "Die Rückgabe hat den Datentyp `pd.Series`, der zweite wichtige Typ der Pandas Bibliothek. Eine Series ist im Wesentlichen das Pandas Pendant einer Liste. Definieren Sie selbst eine Liste und erstellen mit Hilfe dieser eine Series."
   ]
  },
  {
   "cell_type": "code",
   "execution_count": 14,
   "id": "de12ee6c",
   "metadata": {},
   "outputs": [
    {
     "data": {
      "text/plain": [
       "0    0\n",
       "1    2\n",
       "2    4\n",
       "3    6\n",
       "dtype: int64"
      ]
     },
     "execution_count": 14,
     "metadata": {},
     "output_type": "execute_result"
    }
   ],
   "source": [
    "# Lösung z.B.\n",
    "numbers = [0, 2, 4, 6]\n",
    "pd.Series(numbers)"
   ]
  },
  {
   "cell_type": "markdown",
   "id": "4f9e31f4",
   "metadata": {},
   "source": [
    "Eine Series hat wie ein DataFrame einen Index, der standandmäßig auf 0 bis Länge minus 1 gesetzt wird, aber ebenfalls angepasst werden kann. Im Gegensatz zu DataFrames besitzt eine Series keinen Spaltennamen sondern einen allgemeinen Namen. Man kann sich eine Series als Spalte eines DataFrames vorstellen und ein DataFrame als die Aneinanderreihung von Series ansehen."
   ]
  },
  {
   "cell_type": "markdown",
   "id": "a3c23378",
   "metadata": {},
   "source": [
    "Zurück zum Selektieren. Die Preisspalte kann ebenfalls wie folgt zurückgegeben werden:"
   ]
  },
  {
   "cell_type": "code",
   "execution_count": 15,
   "id": "ea5f3eaa",
   "metadata": {},
   "outputs": [
    {
     "data": {
      "text/plain": [
       "0          NaN\n",
       "1         15.0\n",
       "2         14.0\n",
       "          ... \n",
       "129968    30.0\n",
       "129969    32.0\n",
       "129970    21.0\n",
       "Name: price, Length: 129971, dtype: float64"
      ]
     },
     "execution_count": 15,
     "metadata": {},
     "output_type": "execute_result"
    }
   ],
   "source": [
    "reviews.loc[:, 'price']"
   ]
  },
  {
   "cell_type": "markdown",
   "id": "4008537c",
   "metadata": {},
   "source": [
    "Diese Methode erinnert an die `iloc` Methode weiter oben. Worin unterscheiden sich diese beiden Methoden?\n",
    "- `iloc` ist *indexbasiert*, d.h. die Einträge werden mittels ihrer Position im DataFrame ausgewählt\n",
    "- `loc` ist *labelbasiert*, d.h. die Einträge werden mittels ihres Spaltennamens und Zeilenindex ausgewählt"
   ]
  },
  {
   "cell_type": "markdown",
   "id": "e4dc8b7d",
   "metadata": {},
   "source": [
    "Beide Methode arbeiten Zeile first, Spalte second. Das erste Argument bestimmt also den Zeilenbereich und das zweite Argument den Spaltenbereich. Wird nur ein Argument übergeben, werden alle Spalten ausgewählt.\n",
    "\n",
    "#### Warnung:\n",
    "Es gibt ein Detail, in dem sich `iloc` und `loc` unterscheiden. Führen Sie die folgende Zeile aus. Was fällt Ihnen auf?"
   ]
  },
  {
   "cell_type": "code",
   "execution_count": 16,
   "id": "83ecdc01",
   "metadata": {},
   "outputs": [
    {
     "data": {
      "text/html": [
       "<div>\n",
       "<style scoped>\n",
       "    .dataframe tbody tr th:only-of-type {\n",
       "        vertical-align: middle;\n",
       "    }\n",
       "\n",
       "    .dataframe tbody tr th {\n",
       "        vertical-align: top;\n",
       "    }\n",
       "\n",
       "    .dataframe thead th {\n",
       "        text-align: right;\n",
       "    }\n",
       "</style>\n",
       "<table border=\"1\" class=\"dataframe\">\n",
       "  <thead>\n",
       "    <tr style=\"text-align: right;\">\n",
       "      <th></th>\n",
       "      <th>country</th>\n",
       "      <th>description</th>\n",
       "      <th>designation</th>\n",
       "      <th>points</th>\n",
       "      <th>price</th>\n",
       "      <th>province</th>\n",
       "      <th>region_1</th>\n",
       "      <th>region_2</th>\n",
       "      <th>taster_name</th>\n",
       "      <th>taster_twitter_handle</th>\n",
       "      <th>title</th>\n",
       "      <th>variety</th>\n",
       "      <th>winery</th>\n",
       "    </tr>\n",
       "  </thead>\n",
       "  <tbody>\n",
       "    <tr>\n",
       "      <th>601</th>\n",
       "      <td>Mexico</td>\n",
       "      <td>Sauvignon Blanc is, in general, one of Baja's ...</td>\n",
       "      <td>Viña Kristel</td>\n",
       "      <td>87</td>\n",
       "      <td>15.0</td>\n",
       "      <td>Valle de Guadalupe</td>\n",
       "      <td>NaN</td>\n",
       "      <td>NaN</td>\n",
       "      <td>Michael Schachner</td>\n",
       "      <td>@wineschach</td>\n",
       "      <td>Monte Xanic 2012 Viña Kristel Sauvignon Blanc ...</td>\n",
       "      <td>Sauvignon Blanc</td>\n",
       "      <td>Monte Xanic</td>\n",
       "    </tr>\n",
       "    <tr>\n",
       "      <th>602</th>\n",
       "      <td>US</td>\n",
       "      <td>There's plenty of ripe berry-cherry fruit, fin...</td>\n",
       "      <td>NaN</td>\n",
       "      <td>87</td>\n",
       "      <td>69.0</td>\n",
       "      <td>California</td>\n",
       "      <td>Oak Knoll District</td>\n",
       "      <td>Napa</td>\n",
       "      <td>NaN</td>\n",
       "      <td>NaN</td>\n",
       "      <td>Paoletti 2010 Cabernet Sauvignon (Oak Knoll Di...</td>\n",
       "      <td>Cabernet Sauvignon</td>\n",
       "      <td>Paoletti</td>\n",
       "    </tr>\n",
       "    <tr>\n",
       "      <th>603</th>\n",
       "      <td>US</td>\n",
       "      <td>Ripe and luscious, this decadent Cabernet Fran...</td>\n",
       "      <td>NaN</td>\n",
       "      <td>87</td>\n",
       "      <td>36.0</td>\n",
       "      <td>New York</td>\n",
       "      <td>North Fork of Long Island</td>\n",
       "      <td>Long Island</td>\n",
       "      <td>Anna Lee C. Iijima</td>\n",
       "      <td>NaN</td>\n",
       "      <td>Peconic Bay Winery 2010 Cabernet Franc (North ...</td>\n",
       "      <td>Cabernet Franc</td>\n",
       "      <td>Peconic Bay Winery</td>\n",
       "    </tr>\n",
       "    <tr>\n",
       "      <th>604</th>\n",
       "      <td>Spain</td>\n",
       "      <td>Bright red-fruit aromas are matched by dry spi...</td>\n",
       "      <td>Reserva 1423</td>\n",
       "      <td>87</td>\n",
       "      <td>35.0</td>\n",
       "      <td>Northern Spain</td>\n",
       "      <td>Navarra</td>\n",
       "      <td>NaN</td>\n",
       "      <td>Michael Schachner</td>\n",
       "      <td>@wineschach</td>\n",
       "      <td>Príncipe de Viana 2008 Reserva 1423 Red (Navarra)</td>\n",
       "      <td>Red Blend</td>\n",
       "      <td>Príncipe de Viana</td>\n",
       "    </tr>\n",
       "  </tbody>\n",
       "</table>\n",
       "</div>"
      ],
      "text/plain": [
       "    country                                        description   designation  \\\n",
       "601  Mexico  Sauvignon Blanc is, in general, one of Baja's ...  Viña Kristel   \n",
       "602      US  There's plenty of ripe berry-cherry fruit, fin...           NaN   \n",
       "603      US  Ripe and luscious, this decadent Cabernet Fran...           NaN   \n",
       "604   Spain  Bright red-fruit aromas are matched by dry spi...  Reserva 1423   \n",
       "\n",
       "     points  price            province                   region_1  \\\n",
       "601      87   15.0  Valle de Guadalupe                        NaN   \n",
       "602      87   69.0          California         Oak Knoll District   \n",
       "603      87   36.0            New York  North Fork of Long Island   \n",
       "604      87   35.0      Northern Spain                    Navarra   \n",
       "\n",
       "        region_2         taster_name taster_twitter_handle  \\\n",
       "601          NaN   Michael Schachner           @wineschach   \n",
       "602         Napa                 NaN                   NaN   \n",
       "603  Long Island  Anna Lee C. Iijima                   NaN   \n",
       "604          NaN   Michael Schachner           @wineschach   \n",
       "\n",
       "                                                 title             variety  \\\n",
       "601  Monte Xanic 2012 Viña Kristel Sauvignon Blanc ...     Sauvignon Blanc   \n",
       "602  Paoletti 2010 Cabernet Sauvignon (Oak Knoll Di...  Cabernet Sauvignon   \n",
       "603  Peconic Bay Winery 2010 Cabernet Franc (North ...      Cabernet Franc   \n",
       "604  Príncipe de Viana 2008 Reserva 1423 Red (Navarra)           Red Blend   \n",
       "\n",
       "                 winery  \n",
       "601         Monte Xanic  \n",
       "602            Paoletti  \n",
       "603  Peconic Bay Winery  \n",
       "604   Príncipe de Viana  "
      ]
     },
     "execution_count": 16,
     "metadata": {},
     "output_type": "execute_result"
    }
   ],
   "source": [
    "reviews.loc[601:604]"
   ]
  },
  {
   "cell_type": "markdown",
   "id": "d707d54d",
   "metadata": {},
   "source": [
    "<br>\n",
    "\n",
    "<br>\n",
    "\n",
    "<br>\n",
    "\n",
    "<br>\n",
    "\n",
    "## ---------- *Spoiler* ---------- \n",
    "\n",
    "<br>\n",
    "\n",
    "<br>\n",
    "\n",
    "<br>\n",
    "\n",
    "<br>\n",
    "\n",
    "<br>\n",
    "\n",
    "<br>\n",
    "\n",
    "<br>\n",
    "\n",
    "<br>"
   ]
  },
  {
   "cell_type": "markdown",
   "id": "4df3d4a2",
   "metadata": {},
   "source": [
    "Bei der Methode `loc` wird das Ende des Bereichs inkludiert. Wieso? Das hängt damit zusammen, dass `loc` labelbasiert arbeitet. Stellen Sie sich vor, Sie betrachten ein DataFrame `df`, das mit alphabetisch geordneten Vornamen indiziert ist. Wollen Sie alle Namen von Adam bis Jonas zurückgeben, ist es intuitiver `df.loc['Adam':'Jonas']` zu schreiben als `df.loc['Adam':'Jonat']`."
   ]
  },
  {
   "cell_type": "markdown",
   "id": "dc8a86f0",
   "metadata": {},
   "source": [
    "Bei beiden Methoden ist es möglich, in jedem Argument einen einzelnen Wert, eine Liste oder einen Bereich anzugeben. Hier sind einige Beispiele:"
   ]
  },
  {
   "cell_type": "code",
   "execution_count": 17,
   "id": "bc19b116",
   "metadata": {},
   "outputs": [
    {
     "data": {
      "text/html": [
       "<div>\n",
       "<style scoped>\n",
       "    .dataframe tbody tr th:only-of-type {\n",
       "        vertical-align: middle;\n",
       "    }\n",
       "\n",
       "    .dataframe tbody tr th {\n",
       "        vertical-align: top;\n",
       "    }\n",
       "\n",
       "    .dataframe thead th {\n",
       "        text-align: right;\n",
       "    }\n",
       "</style>\n",
       "<table border=\"1\" class=\"dataframe\">\n",
       "  <thead>\n",
       "    <tr style=\"text-align: right;\">\n",
       "      <th></th>\n",
       "      <th>designation</th>\n",
       "      <th>points</th>\n",
       "      <th>price</th>\n",
       "      <th>province</th>\n",
       "      <th>region_1</th>\n",
       "      <th>region_2</th>\n",
       "      <th>taster_name</th>\n",
       "    </tr>\n",
       "  </thead>\n",
       "  <tbody>\n",
       "    <tr>\n",
       "      <th>1</th>\n",
       "      <td>Avidagos</td>\n",
       "      <td>87</td>\n",
       "      <td>15.0</td>\n",
       "      <td>Douro</td>\n",
       "      <td>NaN</td>\n",
       "      <td>NaN</td>\n",
       "      <td>Roger Voss</td>\n",
       "    </tr>\n",
       "    <tr>\n",
       "      <th>2</th>\n",
       "      <td>NaN</td>\n",
       "      <td>87</td>\n",
       "      <td>14.0</td>\n",
       "      <td>Oregon</td>\n",
       "      <td>Willamette Valley</td>\n",
       "      <td>Willamette Valley</td>\n",
       "      <td>Paul Gregutt</td>\n",
       "    </tr>\n",
       "  </tbody>\n",
       "</table>\n",
       "</div>"
      ],
      "text/plain": [
       "  designation  points  price province           region_1           region_2  \\\n",
       "1    Avidagos      87   15.0    Douro                NaN                NaN   \n",
       "2         NaN      87   14.0   Oregon  Willamette Valley  Willamette Valley   \n",
       "\n",
       "    taster_name  \n",
       "1    Roger Voss  \n",
       "2  Paul Gregutt  "
      ]
     },
     "execution_count": 17,
     "metadata": {},
     "output_type": "execute_result"
    }
   ],
   "source": [
    "reviews.iloc[1:3, 2:9]"
   ]
  },
  {
   "cell_type": "code",
   "execution_count": 18,
   "id": "88966157",
   "metadata": {},
   "outputs": [
    {
     "data": {
      "text/plain": [
       "0           Kerin O’Keefe\n",
       "1              Roger Voss\n",
       "3      Alexander Peartree\n",
       "100    Anna Lee C. Iijima\n",
       "Name: taster_name, dtype: object"
      ]
     },
     "execution_count": 18,
     "metadata": {},
     "output_type": "execute_result"
    }
   ],
   "source": [
    "reviews.loc[[0, 1, 3, 100], 'taster_name']"
   ]
  },
  {
   "cell_type": "code",
   "execution_count": 19,
   "id": "a46be56a",
   "metadata": {},
   "outputs": [
    {
     "data": {
      "text/html": [
       "<div>\n",
       "<style scoped>\n",
       "    .dataframe tbody tr th:only-of-type {\n",
       "        vertical-align: middle;\n",
       "    }\n",
       "\n",
       "    .dataframe tbody tr th {\n",
       "        vertical-align: top;\n",
       "    }\n",
       "\n",
       "    .dataframe thead th {\n",
       "        text-align: right;\n",
       "    }\n",
       "</style>\n",
       "<table border=\"1\" class=\"dataframe\">\n",
       "  <thead>\n",
       "    <tr style=\"text-align: right;\">\n",
       "      <th></th>\n",
       "      <th>description</th>\n",
       "      <th>points</th>\n",
       "      <th>price</th>\n",
       "    </tr>\n",
       "  </thead>\n",
       "  <tbody>\n",
       "    <tr>\n",
       "      <th>9000</th>\n",
       "      <td>Oak stands out, making smoky caramel and butte...</td>\n",
       "      <td>88</td>\n",
       "      <td>50.0</td>\n",
       "    </tr>\n",
       "    <tr>\n",
       "      <th>9001</th>\n",
       "      <td>Ripe and oaky, with luscious flavors of pineap...</td>\n",
       "      <td>88</td>\n",
       "      <td>24.0</td>\n",
       "    </tr>\n",
       "    <tr>\n",
       "      <th>9002</th>\n",
       "      <td>This Verdicchio, from the best grapes of the e...</td>\n",
       "      <td>88</td>\n",
       "      <td>25.0</td>\n",
       "    </tr>\n",
       "  </tbody>\n",
       "</table>\n",
       "</div>"
      ],
      "text/plain": [
       "                                            description  points  price\n",
       "9000  Oak stands out, making smoky caramel and butte...      88   50.0\n",
       "9001  Ripe and oaky, with luscious flavors of pineap...      88   24.0\n",
       "9002  This Verdicchio, from the best grapes of the e...      88   25.0"
      ]
     },
     "execution_count": 19,
     "metadata": {},
     "output_type": "execute_result"
    }
   ],
   "source": [
    "reviews.loc[9000:9002, ['description', 'points', 'price']]"
   ]
  },
  {
   "cell_type": "markdown",
   "id": "6c053243",
   "metadata": {},
   "source": [
    "Nun zu einem weiteren starken Werkzeug in Pandas:\n",
    "Stellen Sie sich vor, Sie wollen alle Weine betrachten, deren Preis höchstens 25 beträgt. Dies ist mit ein bisschen Überlegen sicherlich in ein paar Zeilen Code möglich. Aber es geht sogar in einer Zeile, kurz und übersichtlich:"
   ]
  },
  {
   "cell_type": "code",
   "execution_count": 20,
   "id": "55b4ef83",
   "metadata": {},
   "outputs": [
    {
     "data": {
      "text/html": [
       "<div>\n",
       "<style scoped>\n",
       "    .dataframe tbody tr th:only-of-type {\n",
       "        vertical-align: middle;\n",
       "    }\n",
       "\n",
       "    .dataframe tbody tr th {\n",
       "        vertical-align: top;\n",
       "    }\n",
       "\n",
       "    .dataframe thead th {\n",
       "        text-align: right;\n",
       "    }\n",
       "</style>\n",
       "<table border=\"1\" class=\"dataframe\">\n",
       "  <thead>\n",
       "    <tr style=\"text-align: right;\">\n",
       "      <th></th>\n",
       "      <th>country</th>\n",
       "      <th>description</th>\n",
       "      <th>designation</th>\n",
       "      <th>points</th>\n",
       "      <th>price</th>\n",
       "      <th>province</th>\n",
       "      <th>region_1</th>\n",
       "      <th>region_2</th>\n",
       "      <th>taster_name</th>\n",
       "      <th>taster_twitter_handle</th>\n",
       "      <th>title</th>\n",
       "      <th>variety</th>\n",
       "      <th>winery</th>\n",
       "    </tr>\n",
       "  </thead>\n",
       "  <tbody>\n",
       "    <tr>\n",
       "      <th>1</th>\n",
       "      <td>Portugal</td>\n",
       "      <td>This is ripe and fruity, a wine that is smooth...</td>\n",
       "      <td>Avidagos</td>\n",
       "      <td>87</td>\n",
       "      <td>15.0</td>\n",
       "      <td>Douro</td>\n",
       "      <td>NaN</td>\n",
       "      <td>NaN</td>\n",
       "      <td>Roger Voss</td>\n",
       "      <td>@vossroger</td>\n",
       "      <td>Quinta dos Avidagos 2011 Avidagos Red (Douro)</td>\n",
       "      <td>Portuguese Red</td>\n",
       "      <td>Quinta dos Avidagos</td>\n",
       "    </tr>\n",
       "    <tr>\n",
       "      <th>2</th>\n",
       "      <td>US</td>\n",
       "      <td>Tart and snappy, the flavors of lime flesh and...</td>\n",
       "      <td>NaN</td>\n",
       "      <td>87</td>\n",
       "      <td>14.0</td>\n",
       "      <td>Oregon</td>\n",
       "      <td>Willamette Valley</td>\n",
       "      <td>Willamette Valley</td>\n",
       "      <td>Paul Gregutt</td>\n",
       "      <td>@paulgwine</td>\n",
       "      <td>Rainstorm 2013 Pinot Gris (Willamette Valley)</td>\n",
       "      <td>Pinot Gris</td>\n",
       "      <td>Rainstorm</td>\n",
       "    </tr>\n",
       "    <tr>\n",
       "      <th>3</th>\n",
       "      <td>US</td>\n",
       "      <td>Pineapple rind, lemon pith and orange blossom ...</td>\n",
       "      <td>Reserve Late Harvest</td>\n",
       "      <td>87</td>\n",
       "      <td>13.0</td>\n",
       "      <td>Michigan</td>\n",
       "      <td>Lake Michigan Shore</td>\n",
       "      <td>NaN</td>\n",
       "      <td>Alexander Peartree</td>\n",
       "      <td>NaN</td>\n",
       "      <td>St. Julian 2013 Reserve Late Harvest Riesling ...</td>\n",
       "      <td>Riesling</td>\n",
       "      <td>St. Julian</td>\n",
       "    </tr>\n",
       "    <tr>\n",
       "      <th>...</th>\n",
       "      <td>...</td>\n",
       "      <td>...</td>\n",
       "      <td>...</td>\n",
       "      <td>...</td>\n",
       "      <td>...</td>\n",
       "      <td>...</td>\n",
       "      <td>...</td>\n",
       "      <td>...</td>\n",
       "      <td>...</td>\n",
       "      <td>...</td>\n",
       "      <td>...</td>\n",
       "      <td>...</td>\n",
       "      <td>...</td>\n",
       "    </tr>\n",
       "    <tr>\n",
       "      <th>129957</th>\n",
       "      <td>Spain</td>\n",
       "      <td>Lightly baked berry aromas vie for attention w...</td>\n",
       "      <td>Crianza</td>\n",
       "      <td>90</td>\n",
       "      <td>17.0</td>\n",
       "      <td>Northern Spain</td>\n",
       "      <td>Rioja</td>\n",
       "      <td>NaN</td>\n",
       "      <td>Michael Schachner</td>\n",
       "      <td>@wineschach</td>\n",
       "      <td>Viñedos Real Rubio 2010 Crianza  (Rioja)</td>\n",
       "      <td>Tempranillo Blend</td>\n",
       "      <td>Viñedos Real Rubio</td>\n",
       "    </tr>\n",
       "    <tr>\n",
       "      <th>129963</th>\n",
       "      <td>Israel</td>\n",
       "      <td>A bouquet of black cherry, tart cranberry and ...</td>\n",
       "      <td>Oak Aged</td>\n",
       "      <td>90</td>\n",
       "      <td>20.0</td>\n",
       "      <td>Galilee</td>\n",
       "      <td>NaN</td>\n",
       "      <td>NaN</td>\n",
       "      <td>Mike DeSimone</td>\n",
       "      <td>@worldwineguys</td>\n",
       "      <td>Dalton 2012 Oak Aged Cabernet Sauvignon (Galilee)</td>\n",
       "      <td>Cabernet Sauvignon</td>\n",
       "      <td>Dalton</td>\n",
       "    </tr>\n",
       "    <tr>\n",
       "      <th>129970</th>\n",
       "      <td>France</td>\n",
       "      <td>Big, rich and off-dry, this is powered by inte...</td>\n",
       "      <td>Lieu-dit Harth Cuvée Caroline</td>\n",
       "      <td>90</td>\n",
       "      <td>21.0</td>\n",
       "      <td>Alsace</td>\n",
       "      <td>Alsace</td>\n",
       "      <td>NaN</td>\n",
       "      <td>Roger Voss</td>\n",
       "      <td>@vossroger</td>\n",
       "      <td>Domaine Schoffit 2012 Lieu-dit Harth Cuvée Car...</td>\n",
       "      <td>Gewürztraminer</td>\n",
       "      <td>Domaine Schoffit</td>\n",
       "    </tr>\n",
       "  </tbody>\n",
       "</table>\n",
       "<p>61276 rows × 13 columns</p>\n",
       "</div>"
      ],
      "text/plain": [
       "         country                                        description  \\\n",
       "1       Portugal  This is ripe and fruity, a wine that is smooth...   \n",
       "2             US  Tart and snappy, the flavors of lime flesh and...   \n",
       "3             US  Pineapple rind, lemon pith and orange blossom ...   \n",
       "...          ...                                                ...   \n",
       "129957     Spain  Lightly baked berry aromas vie for attention w...   \n",
       "129963    Israel  A bouquet of black cherry, tart cranberry and ...   \n",
       "129970    France  Big, rich and off-dry, this is powered by inte...   \n",
       "\n",
       "                          designation  points  price        province  \\\n",
       "1                            Avidagos      87   15.0           Douro   \n",
       "2                                 NaN      87   14.0          Oregon   \n",
       "3                Reserve Late Harvest      87   13.0        Michigan   \n",
       "...                               ...     ...    ...             ...   \n",
       "129957                        Crianza      90   17.0  Northern Spain   \n",
       "129963                       Oak Aged      90   20.0         Galilee   \n",
       "129970  Lieu-dit Harth Cuvée Caroline      90   21.0          Alsace   \n",
       "\n",
       "                   region_1           region_2         taster_name  \\\n",
       "1                       NaN                NaN          Roger Voss   \n",
       "2         Willamette Valley  Willamette Valley        Paul Gregutt   \n",
       "3       Lake Michigan Shore                NaN  Alexander Peartree   \n",
       "...                     ...                ...                 ...   \n",
       "129957                Rioja                NaN   Michael Schachner   \n",
       "129963                  NaN                NaN       Mike DeSimone   \n",
       "129970               Alsace                NaN          Roger Voss   \n",
       "\n",
       "       taster_twitter_handle  \\\n",
       "1                 @vossroger   \n",
       "2                @paulgwine    \n",
       "3                        NaN   \n",
       "...                      ...   \n",
       "129957           @wineschach   \n",
       "129963        @worldwineguys   \n",
       "129970            @vossroger   \n",
       "\n",
       "                                                    title             variety  \\\n",
       "1           Quinta dos Avidagos 2011 Avidagos Red (Douro)      Portuguese Red   \n",
       "2           Rainstorm 2013 Pinot Gris (Willamette Valley)          Pinot Gris   \n",
       "3       St. Julian 2013 Reserve Late Harvest Riesling ...            Riesling   \n",
       "...                                                   ...                 ...   \n",
       "129957           Viñedos Real Rubio 2010 Crianza  (Rioja)   Tempranillo Blend   \n",
       "129963  Dalton 2012 Oak Aged Cabernet Sauvignon (Galilee)  Cabernet Sauvignon   \n",
       "129970  Domaine Schoffit 2012 Lieu-dit Harth Cuvée Car...      Gewürztraminer   \n",
       "\n",
       "                     winery  \n",
       "1       Quinta dos Avidagos  \n",
       "2                 Rainstorm  \n",
       "3                St. Julian  \n",
       "...                     ...  \n",
       "129957   Viñedos Real Rubio  \n",
       "129963               Dalton  \n",
       "129970     Domaine Schoffit  \n",
       "\n",
       "[61276 rows x 13 columns]"
      ]
     },
     "execution_count": 20,
     "metadata": {},
     "output_type": "execute_result"
    }
   ],
   "source": [
    "reviews.loc[reviews.price <= 25]"
   ]
  },
  {
   "cell_type": "markdown",
   "id": "ca144dd0",
   "metadata": {},
   "source": [
    "Welche Logik steckt dahinter? Der Methode `loc` kann als Argument eine Liste mit Wahrheitswerten übergeben werden, die die gleiche Länge wie das DataFrame hat.\n",
    "\n",
    "Es können mehrere Bedingungen mit \"und\" ( `&` ) sowie mit \"oder\" ( `|` ) verknüpft werden:"
   ]
  },
  {
   "cell_type": "code",
   "execution_count": 21,
   "id": "88bcb983",
   "metadata": {},
   "outputs": [
    {
     "data": {
      "text/html": [
       "<div>\n",
       "<style scoped>\n",
       "    .dataframe tbody tr th:only-of-type {\n",
       "        vertical-align: middle;\n",
       "    }\n",
       "\n",
       "    .dataframe tbody tr th {\n",
       "        vertical-align: top;\n",
       "    }\n",
       "\n",
       "    .dataframe thead th {\n",
       "        text-align: right;\n",
       "    }\n",
       "</style>\n",
       "<table border=\"1\" class=\"dataframe\">\n",
       "  <thead>\n",
       "    <tr style=\"text-align: right;\">\n",
       "      <th></th>\n",
       "      <th>country</th>\n",
       "      <th>description</th>\n",
       "      <th>designation</th>\n",
       "      <th>points</th>\n",
       "      <th>price</th>\n",
       "      <th>province</th>\n",
       "      <th>region_1</th>\n",
       "      <th>region_2</th>\n",
       "      <th>taster_name</th>\n",
       "      <th>taster_twitter_handle</th>\n",
       "      <th>title</th>\n",
       "      <th>variety</th>\n",
       "      <th>winery</th>\n",
       "    </tr>\n",
       "  </thead>\n",
       "  <tbody>\n",
       "    <tr>\n",
       "      <th>844</th>\n",
       "      <td>Italy</td>\n",
       "      <td>Aromas of citrus, white stone fruit and a vege...</td>\n",
       "      <td>Bianco</td>\n",
       "      <td>90</td>\n",
       "      <td>24.0</td>\n",
       "      <td>Sicily &amp; Sardinia</td>\n",
       "      <td>Etna</td>\n",
       "      <td>NaN</td>\n",
       "      <td>Kerin O’Keefe</td>\n",
       "      <td>@kerinokeefe</td>\n",
       "      <td>Cottanera 2015 Bianco  (Etna)</td>\n",
       "      <td>Carricante</td>\n",
       "      <td>Cottanera</td>\n",
       "    </tr>\n",
       "    <tr>\n",
       "      <th>862</th>\n",
       "      <td>Italy</td>\n",
       "      <td>Alluring scents of Spanish broom, iris, berry ...</td>\n",
       "      <td>NaN</td>\n",
       "      <td>90</td>\n",
       "      <td>19.0</td>\n",
       "      <td>Sicily &amp; Sardinia</td>\n",
       "      <td>Etna</td>\n",
       "      <td>NaN</td>\n",
       "      <td>Kerin O’Keefe</td>\n",
       "      <td>@kerinokeefe</td>\n",
       "      <td>Tornatore 2015 Rosato (Etna)</td>\n",
       "      <td>Rosato</td>\n",
       "      <td>Tornatore</td>\n",
       "    </tr>\n",
       "    <tr>\n",
       "      <th>1972</th>\n",
       "      <td>Italy</td>\n",
       "      <td>Made from Nerello Mascalese and Nerello Cappuc...</td>\n",
       "      <td>Barbazzale</td>\n",
       "      <td>88</td>\n",
       "      <td>14.0</td>\n",
       "      <td>Sicily &amp; Sardinia</td>\n",
       "      <td>Etna</td>\n",
       "      <td>NaN</td>\n",
       "      <td>NaN</td>\n",
       "      <td>NaN</td>\n",
       "      <td>Cottanera 2011 Barbazzale  (Etna)</td>\n",
       "      <td>Red Blend</td>\n",
       "      <td>Cottanera</td>\n",
       "    </tr>\n",
       "    <tr>\n",
       "      <th>...</th>\n",
       "      <td>...</td>\n",
       "      <td>...</td>\n",
       "      <td>...</td>\n",
       "      <td>...</td>\n",
       "      <td>...</td>\n",
       "      <td>...</td>\n",
       "      <td>...</td>\n",
       "      <td>...</td>\n",
       "      <td>...</td>\n",
       "      <td>...</td>\n",
       "      <td>...</td>\n",
       "      <td>...</td>\n",
       "      <td>...</td>\n",
       "    </tr>\n",
       "    <tr>\n",
       "      <th>122596</th>\n",
       "      <td>Italy</td>\n",
       "      <td>Made with 80% Carricante and 20% Catarratto, t...</td>\n",
       "      <td>Rampante Contrada Crasà Bianco</td>\n",
       "      <td>89</td>\n",
       "      <td>20.0</td>\n",
       "      <td>Sicily &amp; Sardinia</td>\n",
       "      <td>Etna</td>\n",
       "      <td>NaN</td>\n",
       "      <td>Kerin O’Keefe</td>\n",
       "      <td>@kerinokeefe</td>\n",
       "      <td>Cantine Russo 2013 Rampante Contrada Crasà Bia...</td>\n",
       "      <td>White Blend</td>\n",
       "      <td>Cantine Russo</td>\n",
       "    </tr>\n",
       "    <tr>\n",
       "      <th>125389</th>\n",
       "      <td>Italy</td>\n",
       "      <td>Aromas of hay, orchard fruit and a whiff of ha...</td>\n",
       "      <td>Erse Bianco</td>\n",
       "      <td>88</td>\n",
       "      <td>25.0</td>\n",
       "      <td>Sicily &amp; Sardinia</td>\n",
       "      <td>Etna</td>\n",
       "      <td>NaN</td>\n",
       "      <td>Kerin O’Keefe</td>\n",
       "      <td>@kerinokeefe</td>\n",
       "      <td>Tenuta di Fessina 2014 Erse Bianco  (Etna)</td>\n",
       "      <td>White Blend</td>\n",
       "      <td>Tenuta di Fessina</td>\n",
       "    </tr>\n",
       "    <tr>\n",
       "      <th>129735</th>\n",
       "      <td>Italy</td>\n",
       "      <td>Dark-skinned berry, Mediterranean herb and for...</td>\n",
       "      <td>Rosso Villagrande</td>\n",
       "      <td>90</td>\n",
       "      <td>21.0</td>\n",
       "      <td>Sicily &amp; Sardinia</td>\n",
       "      <td>Etna</td>\n",
       "      <td>NaN</td>\n",
       "      <td>Kerin O’Keefe</td>\n",
       "      <td>@kerinokeefe</td>\n",
       "      <td>Barone di Villagrande 2012 Rosso Villagrande  ...</td>\n",
       "      <td>Red Blend</td>\n",
       "      <td>Barone di Villagrande</td>\n",
       "    </tr>\n",
       "  </tbody>\n",
       "</table>\n",
       "<p>74 rows × 13 columns</p>\n",
       "</div>"
      ],
      "text/plain": [
       "       country                                        description  \\\n",
       "844      Italy  Aromas of citrus, white stone fruit and a vege...   \n",
       "862      Italy  Alluring scents of Spanish broom, iris, berry ...   \n",
       "1972     Italy  Made from Nerello Mascalese and Nerello Cappuc...   \n",
       "...        ...                                                ...   \n",
       "122596   Italy  Made with 80% Carricante and 20% Catarratto, t...   \n",
       "125389   Italy  Aromas of hay, orchard fruit and a whiff of ha...   \n",
       "129735   Italy  Dark-skinned berry, Mediterranean herb and for...   \n",
       "\n",
       "                           designation  points  price           province  \\\n",
       "844                             Bianco      90   24.0  Sicily & Sardinia   \n",
       "862                                NaN      90   19.0  Sicily & Sardinia   \n",
       "1972                        Barbazzale      88   14.0  Sicily & Sardinia   \n",
       "...                                ...     ...    ...                ...   \n",
       "122596  Rampante Contrada Crasà Bianco      89   20.0  Sicily & Sardinia   \n",
       "125389                     Erse Bianco      88   25.0  Sicily & Sardinia   \n",
       "129735               Rosso Villagrande      90   21.0  Sicily & Sardinia   \n",
       "\n",
       "       region_1 region_2    taster_name taster_twitter_handle  \\\n",
       "844        Etna      NaN  Kerin O’Keefe          @kerinokeefe   \n",
       "862        Etna      NaN  Kerin O’Keefe          @kerinokeefe   \n",
       "1972       Etna      NaN            NaN                   NaN   \n",
       "...         ...      ...            ...                   ...   \n",
       "122596     Etna      NaN  Kerin O’Keefe          @kerinokeefe   \n",
       "125389     Etna      NaN  Kerin O’Keefe          @kerinokeefe   \n",
       "129735     Etna      NaN  Kerin O’Keefe          @kerinokeefe   \n",
       "\n",
       "                                                    title      variety  \\\n",
       "844                         Cottanera 2015 Bianco  (Etna)   Carricante   \n",
       "862                          Tornatore 2015 Rosato (Etna)       Rosato   \n",
       "1972                    Cottanera 2011 Barbazzale  (Etna)    Red Blend   \n",
       "...                                                   ...          ...   \n",
       "122596  Cantine Russo 2013 Rampante Contrada Crasà Bia...  White Blend   \n",
       "125389         Tenuta di Fessina 2014 Erse Bianco  (Etna)  White Blend   \n",
       "129735  Barone di Villagrande 2012 Rosso Villagrande  ...    Red Blend   \n",
       "\n",
       "                       winery  \n",
       "844                 Cottanera  \n",
       "862                 Tornatore  \n",
       "1972                Cottanera  \n",
       "...                       ...  \n",
       "122596          Cantine Russo  \n",
       "125389      Tenuta di Fessina  \n",
       "129735  Barone di Villagrande  \n",
       "\n",
       "[74 rows x 13 columns]"
      ]
     },
     "execution_count": 21,
     "metadata": {},
     "output_type": "execute_result"
    }
   ],
   "source": [
    "reviews.loc[(reviews.region_1 == 'Etna') & (reviews.price <= 25)]"
   ]
  },
  {
   "cell_type": "markdown",
   "id": "22ef273d",
   "metadata": {},
   "source": [
    "## Zuweisung\n",
    "\n",
    "Hat man die Selektion verstanden, ist die Zuweisung von Daten eine leichte Aufgabe. Man wählt einen Eintrag oder eine Menge von Einträge (z.B. eine Spalte) aus und weist ihnen neue Werte zu."
   ]
  },
  {
   "cell_type": "code",
   "execution_count": 22,
   "id": "4114cd75",
   "metadata": {
    "scrolled": false
   },
   "outputs": [
    {
     "data": {
      "text/html": [
       "<div>\n",
       "<style scoped>\n",
       "    .dataframe tbody tr th:only-of-type {\n",
       "        vertical-align: middle;\n",
       "    }\n",
       "\n",
       "    .dataframe tbody tr th {\n",
       "        vertical-align: top;\n",
       "    }\n",
       "\n",
       "    .dataframe thead th {\n",
       "        text-align: right;\n",
       "    }\n",
       "</style>\n",
       "<table border=\"1\" class=\"dataframe\">\n",
       "  <thead>\n",
       "    <tr style=\"text-align: right;\">\n",
       "      <th></th>\n",
       "      <th>country</th>\n",
       "      <th>description</th>\n",
       "      <th>designation</th>\n",
       "      <th>points</th>\n",
       "      <th>price</th>\n",
       "      <th>province</th>\n",
       "      <th>region_1</th>\n",
       "      <th>region_2</th>\n",
       "      <th>taster_name</th>\n",
       "      <th>taster_twitter_handle</th>\n",
       "      <th>title</th>\n",
       "      <th>variety</th>\n",
       "      <th>winery</th>\n",
       "    </tr>\n",
       "  </thead>\n",
       "  <tbody>\n",
       "    <tr>\n",
       "      <th>0</th>\n",
       "      <td>Italy</td>\n",
       "      <td>Aromas include tropical fruit, broom, brimston...</td>\n",
       "      <td>Vulkà Bianco</td>\n",
       "      <td>87</td>\n",
       "      <td>NaN</td>\n",
       "      <td>Sicily &amp; Sardinia</td>\n",
       "      <td>Etna</td>\n",
       "      <td>Beispiel Region</td>\n",
       "      <td>Kerin O’Keefe</td>\n",
       "      <td>@kerinokeefe</td>\n",
       "      <td>Nicosia 2013 Vulkà Bianco  (Etna)</td>\n",
       "      <td>White Blend</td>\n",
       "      <td>Nicosia</td>\n",
       "    </tr>\n",
       "    <tr>\n",
       "      <th>1</th>\n",
       "      <td>Portugal</td>\n",
       "      <td>This is ripe and fruity, a wine that is smooth...</td>\n",
       "      <td>Avidagos</td>\n",
       "      <td>87</td>\n",
       "      <td>15.0</td>\n",
       "      <td>Douro</td>\n",
       "      <td>NaN</td>\n",
       "      <td>NaN</td>\n",
       "      <td>Roger Voss</td>\n",
       "      <td>@vossroger</td>\n",
       "      <td>Quinta dos Avidagos 2011 Avidagos Red (Douro)</td>\n",
       "      <td>Portuguese Red</td>\n",
       "      <td>Quinta dos Avidagos</td>\n",
       "    </tr>\n",
       "    <tr>\n",
       "      <th>2</th>\n",
       "      <td>US</td>\n",
       "      <td>Tart and snappy, the flavors of lime flesh and...</td>\n",
       "      <td>NaN</td>\n",
       "      <td>87</td>\n",
       "      <td>14.0</td>\n",
       "      <td>Oregon</td>\n",
       "      <td>Willamette Valley</td>\n",
       "      <td>Willamette Valley</td>\n",
       "      <td>Paul Gregutt</td>\n",
       "      <td>@paulgwine</td>\n",
       "      <td>Rainstorm 2013 Pinot Gris (Willamette Valley)</td>\n",
       "      <td>Pinot Gris</td>\n",
       "      <td>Rainstorm</td>\n",
       "    </tr>\n",
       "    <tr>\n",
       "      <th>...</th>\n",
       "      <td>...</td>\n",
       "      <td>...</td>\n",
       "      <td>...</td>\n",
       "      <td>...</td>\n",
       "      <td>...</td>\n",
       "      <td>...</td>\n",
       "      <td>...</td>\n",
       "      <td>...</td>\n",
       "      <td>...</td>\n",
       "      <td>...</td>\n",
       "      <td>...</td>\n",
       "      <td>...</td>\n",
       "      <td>...</td>\n",
       "    </tr>\n",
       "    <tr>\n",
       "      <th>129968</th>\n",
       "      <td>France</td>\n",
       "      <td>Well-drained gravel soil gives this wine its c...</td>\n",
       "      <td>Kritt</td>\n",
       "      <td>90</td>\n",
       "      <td>30.0</td>\n",
       "      <td>Alsace</td>\n",
       "      <td>Alsace</td>\n",
       "      <td>NaN</td>\n",
       "      <td>Roger Voss</td>\n",
       "      <td>@vossroger</td>\n",
       "      <td>Domaine Gresser 2013 Kritt Gewurztraminer (Als...</td>\n",
       "      <td>Gewürztraminer</td>\n",
       "      <td>Domaine Gresser</td>\n",
       "    </tr>\n",
       "    <tr>\n",
       "      <th>129969</th>\n",
       "      <td>France</td>\n",
       "      <td>A dry style of Pinot Gris, this is crisp with ...</td>\n",
       "      <td>NaN</td>\n",
       "      <td>90</td>\n",
       "      <td>32.0</td>\n",
       "      <td>Alsace</td>\n",
       "      <td>Alsace</td>\n",
       "      <td>NaN</td>\n",
       "      <td>Roger Voss</td>\n",
       "      <td>@vossroger</td>\n",
       "      <td>Domaine Marcel Deiss 2012 Pinot Gris (Alsace)</td>\n",
       "      <td>Pinot Gris</td>\n",
       "      <td>Domaine Marcel Deiss</td>\n",
       "    </tr>\n",
       "    <tr>\n",
       "      <th>129970</th>\n",
       "      <td>France</td>\n",
       "      <td>Big, rich and off-dry, this is powered by inte...</td>\n",
       "      <td>Lieu-dit Harth Cuvée Caroline</td>\n",
       "      <td>90</td>\n",
       "      <td>21.0</td>\n",
       "      <td>Alsace</td>\n",
       "      <td>Alsace</td>\n",
       "      <td>NaN</td>\n",
       "      <td>Roger Voss</td>\n",
       "      <td>@vossroger</td>\n",
       "      <td>Domaine Schoffit 2012 Lieu-dit Harth Cuvée Car...</td>\n",
       "      <td>Gewürztraminer</td>\n",
       "      <td>Domaine Schoffit</td>\n",
       "    </tr>\n",
       "  </tbody>\n",
       "</table>\n",
       "<p>129971 rows × 13 columns</p>\n",
       "</div>"
      ],
      "text/plain": [
       "         country                                        description  \\\n",
       "0          Italy  Aromas include tropical fruit, broom, brimston...   \n",
       "1       Portugal  This is ripe and fruity, a wine that is smooth...   \n",
       "2             US  Tart and snappy, the flavors of lime flesh and...   \n",
       "...          ...                                                ...   \n",
       "129968    France  Well-drained gravel soil gives this wine its c...   \n",
       "129969    France  A dry style of Pinot Gris, this is crisp with ...   \n",
       "129970    France  Big, rich and off-dry, this is powered by inte...   \n",
       "\n",
       "                          designation  points  price           province  \\\n",
       "0                        Vulkà Bianco      87    NaN  Sicily & Sardinia   \n",
       "1                            Avidagos      87   15.0              Douro   \n",
       "2                                 NaN      87   14.0             Oregon   \n",
       "...                               ...     ...    ...                ...   \n",
       "129968                          Kritt      90   30.0             Alsace   \n",
       "129969                            NaN      90   32.0             Alsace   \n",
       "129970  Lieu-dit Harth Cuvée Caroline      90   21.0             Alsace   \n",
       "\n",
       "                 region_1           region_2    taster_name  \\\n",
       "0                    Etna    Beispiel Region  Kerin O’Keefe   \n",
       "1                     NaN                NaN     Roger Voss   \n",
       "2       Willamette Valley  Willamette Valley   Paul Gregutt   \n",
       "...                   ...                ...            ...   \n",
       "129968             Alsace                NaN     Roger Voss   \n",
       "129969             Alsace                NaN     Roger Voss   \n",
       "129970             Alsace                NaN     Roger Voss   \n",
       "\n",
       "       taster_twitter_handle  \\\n",
       "0               @kerinokeefe   \n",
       "1                 @vossroger   \n",
       "2                @paulgwine    \n",
       "...                      ...   \n",
       "129968            @vossroger   \n",
       "129969            @vossroger   \n",
       "129970            @vossroger   \n",
       "\n",
       "                                                    title         variety  \\\n",
       "0                       Nicosia 2013 Vulkà Bianco  (Etna)     White Blend   \n",
       "1           Quinta dos Avidagos 2011 Avidagos Red (Douro)  Portuguese Red   \n",
       "2           Rainstorm 2013 Pinot Gris (Willamette Valley)      Pinot Gris   \n",
       "...                                                   ...             ...   \n",
       "129968  Domaine Gresser 2013 Kritt Gewurztraminer (Als...  Gewürztraminer   \n",
       "129969      Domaine Marcel Deiss 2012 Pinot Gris (Alsace)      Pinot Gris   \n",
       "129970  Domaine Schoffit 2012 Lieu-dit Harth Cuvée Car...  Gewürztraminer   \n",
       "\n",
       "                      winery  \n",
       "0                    Nicosia  \n",
       "1        Quinta dos Avidagos  \n",
       "2                  Rainstorm  \n",
       "...                      ...  \n",
       "129968       Domaine Gresser  \n",
       "129969  Domaine Marcel Deiss  \n",
       "129970      Domaine Schoffit  \n",
       "\n",
       "[129971 rows x 13 columns]"
      ]
     },
     "execution_count": 22,
     "metadata": {},
     "output_type": "execute_result"
    }
   ],
   "source": [
    "# um das ursprüngliche DataFrame nicht zu verändern, erstellen wir eine Kopie\n",
    "temp = reviews.copy()\n",
    "temp.loc[0, 'region_2'] = 'Beispiel Region'\n",
    "temp"
   ]
  },
  {
   "cell_type": "markdown",
   "id": "c43b1a94",
   "metadata": {},
   "source": [
    "Man kann dabei auch eine neue Spalte erzeugen."
   ]
  },
  {
   "cell_type": "code",
   "execution_count": 23,
   "id": "0d55adc1",
   "metadata": {
    "scrolled": true
   },
   "outputs": [
    {
     "data": {
      "text/html": [
       "<div>\n",
       "<style scoped>\n",
       "    .dataframe tbody tr th:only-of-type {\n",
       "        vertical-align: middle;\n",
       "    }\n",
       "\n",
       "    .dataframe tbody tr th {\n",
       "        vertical-align: top;\n",
       "    }\n",
       "\n",
       "    .dataframe thead th {\n",
       "        text-align: right;\n",
       "    }\n",
       "</style>\n",
       "<table border=\"1\" class=\"dataframe\">\n",
       "  <thead>\n",
       "    <tr style=\"text-align: right;\">\n",
       "      <th></th>\n",
       "      <th>country</th>\n",
       "      <th>description</th>\n",
       "      <th>designation</th>\n",
       "      <th>points</th>\n",
       "      <th>price</th>\n",
       "      <th>province</th>\n",
       "      <th>region_1</th>\n",
       "      <th>region_2</th>\n",
       "      <th>taster_name</th>\n",
       "      <th>taster_twitter_handle</th>\n",
       "      <th>title</th>\n",
       "      <th>variety</th>\n",
       "      <th>winery</th>\n",
       "      <th>shifted_index</th>\n",
       "    </tr>\n",
       "  </thead>\n",
       "  <tbody>\n",
       "    <tr>\n",
       "      <th>0</th>\n",
       "      <td>Italy</td>\n",
       "      <td>Aromas include tropical fruit, broom, brimston...</td>\n",
       "      <td>Vulkà Bianco</td>\n",
       "      <td>87</td>\n",
       "      <td>NaN</td>\n",
       "      <td>Sicily &amp; Sardinia</td>\n",
       "      <td>Etna</td>\n",
       "      <td>Beispiel Region</td>\n",
       "      <td>Kerin O’Keefe</td>\n",
       "      <td>@kerinokeefe</td>\n",
       "      <td>Nicosia 2013 Vulkà Bianco  (Etna)</td>\n",
       "      <td>White Blend</td>\n",
       "      <td>Nicosia</td>\n",
       "      <td>10</td>\n",
       "    </tr>\n",
       "    <tr>\n",
       "      <th>1</th>\n",
       "      <td>Portugal</td>\n",
       "      <td>This is ripe and fruity, a wine that is smooth...</td>\n",
       "      <td>Avidagos</td>\n",
       "      <td>87</td>\n",
       "      <td>15.0</td>\n",
       "      <td>Douro</td>\n",
       "      <td>NaN</td>\n",
       "      <td>NaN</td>\n",
       "      <td>Roger Voss</td>\n",
       "      <td>@vossroger</td>\n",
       "      <td>Quinta dos Avidagos 2011 Avidagos Red (Douro)</td>\n",
       "      <td>Portuguese Red</td>\n",
       "      <td>Quinta dos Avidagos</td>\n",
       "      <td>11</td>\n",
       "    </tr>\n",
       "    <tr>\n",
       "      <th>2</th>\n",
       "      <td>US</td>\n",
       "      <td>Tart and snappy, the flavors of lime flesh and...</td>\n",
       "      <td>NaN</td>\n",
       "      <td>87</td>\n",
       "      <td>14.0</td>\n",
       "      <td>Oregon</td>\n",
       "      <td>Willamette Valley</td>\n",
       "      <td>Willamette Valley</td>\n",
       "      <td>Paul Gregutt</td>\n",
       "      <td>@paulgwine</td>\n",
       "      <td>Rainstorm 2013 Pinot Gris (Willamette Valley)</td>\n",
       "      <td>Pinot Gris</td>\n",
       "      <td>Rainstorm</td>\n",
       "      <td>12</td>\n",
       "    </tr>\n",
       "    <tr>\n",
       "      <th>...</th>\n",
       "      <td>...</td>\n",
       "      <td>...</td>\n",
       "      <td>...</td>\n",
       "      <td>...</td>\n",
       "      <td>...</td>\n",
       "      <td>...</td>\n",
       "      <td>...</td>\n",
       "      <td>...</td>\n",
       "      <td>...</td>\n",
       "      <td>...</td>\n",
       "      <td>...</td>\n",
       "      <td>...</td>\n",
       "      <td>...</td>\n",
       "      <td>...</td>\n",
       "    </tr>\n",
       "    <tr>\n",
       "      <th>129968</th>\n",
       "      <td>France</td>\n",
       "      <td>Well-drained gravel soil gives this wine its c...</td>\n",
       "      <td>Kritt</td>\n",
       "      <td>90</td>\n",
       "      <td>30.0</td>\n",
       "      <td>Alsace</td>\n",
       "      <td>Alsace</td>\n",
       "      <td>NaN</td>\n",
       "      <td>Roger Voss</td>\n",
       "      <td>@vossroger</td>\n",
       "      <td>Domaine Gresser 2013 Kritt Gewurztraminer (Als...</td>\n",
       "      <td>Gewürztraminer</td>\n",
       "      <td>Domaine Gresser</td>\n",
       "      <td>129978</td>\n",
       "    </tr>\n",
       "    <tr>\n",
       "      <th>129969</th>\n",
       "      <td>France</td>\n",
       "      <td>A dry style of Pinot Gris, this is crisp with ...</td>\n",
       "      <td>NaN</td>\n",
       "      <td>90</td>\n",
       "      <td>32.0</td>\n",
       "      <td>Alsace</td>\n",
       "      <td>Alsace</td>\n",
       "      <td>NaN</td>\n",
       "      <td>Roger Voss</td>\n",
       "      <td>@vossroger</td>\n",
       "      <td>Domaine Marcel Deiss 2012 Pinot Gris (Alsace)</td>\n",
       "      <td>Pinot Gris</td>\n",
       "      <td>Domaine Marcel Deiss</td>\n",
       "      <td>129979</td>\n",
       "    </tr>\n",
       "    <tr>\n",
       "      <th>129970</th>\n",
       "      <td>France</td>\n",
       "      <td>Big, rich and off-dry, this is powered by inte...</td>\n",
       "      <td>Lieu-dit Harth Cuvée Caroline</td>\n",
       "      <td>90</td>\n",
       "      <td>21.0</td>\n",
       "      <td>Alsace</td>\n",
       "      <td>Alsace</td>\n",
       "      <td>NaN</td>\n",
       "      <td>Roger Voss</td>\n",
       "      <td>@vossroger</td>\n",
       "      <td>Domaine Schoffit 2012 Lieu-dit Harth Cuvée Car...</td>\n",
       "      <td>Gewürztraminer</td>\n",
       "      <td>Domaine Schoffit</td>\n",
       "      <td>129980</td>\n",
       "    </tr>\n",
       "  </tbody>\n",
       "</table>\n",
       "<p>129971 rows × 14 columns</p>\n",
       "</div>"
      ],
      "text/plain": [
       "         country                                        description  \\\n",
       "0          Italy  Aromas include tropical fruit, broom, brimston...   \n",
       "1       Portugal  This is ripe and fruity, a wine that is smooth...   \n",
       "2             US  Tart and snappy, the flavors of lime flesh and...   \n",
       "...          ...                                                ...   \n",
       "129968    France  Well-drained gravel soil gives this wine its c...   \n",
       "129969    France  A dry style of Pinot Gris, this is crisp with ...   \n",
       "129970    France  Big, rich and off-dry, this is powered by inte...   \n",
       "\n",
       "                          designation  points  price           province  \\\n",
       "0                        Vulkà Bianco      87    NaN  Sicily & Sardinia   \n",
       "1                            Avidagos      87   15.0              Douro   \n",
       "2                                 NaN      87   14.0             Oregon   \n",
       "...                               ...     ...    ...                ...   \n",
       "129968                          Kritt      90   30.0             Alsace   \n",
       "129969                            NaN      90   32.0             Alsace   \n",
       "129970  Lieu-dit Harth Cuvée Caroline      90   21.0             Alsace   \n",
       "\n",
       "                 region_1           region_2    taster_name  \\\n",
       "0                    Etna    Beispiel Region  Kerin O’Keefe   \n",
       "1                     NaN                NaN     Roger Voss   \n",
       "2       Willamette Valley  Willamette Valley   Paul Gregutt   \n",
       "...                   ...                ...            ...   \n",
       "129968             Alsace                NaN     Roger Voss   \n",
       "129969             Alsace                NaN     Roger Voss   \n",
       "129970             Alsace                NaN     Roger Voss   \n",
       "\n",
       "       taster_twitter_handle  \\\n",
       "0               @kerinokeefe   \n",
       "1                 @vossroger   \n",
       "2                @paulgwine    \n",
       "...                      ...   \n",
       "129968            @vossroger   \n",
       "129969            @vossroger   \n",
       "129970            @vossroger   \n",
       "\n",
       "                                                    title         variety  \\\n",
       "0                       Nicosia 2013 Vulkà Bianco  (Etna)     White Blend   \n",
       "1           Quinta dos Avidagos 2011 Avidagos Red (Douro)  Portuguese Red   \n",
       "2           Rainstorm 2013 Pinot Gris (Willamette Valley)      Pinot Gris   \n",
       "...                                                   ...             ...   \n",
       "129968  Domaine Gresser 2013 Kritt Gewurztraminer (Als...  Gewürztraminer   \n",
       "129969      Domaine Marcel Deiss 2012 Pinot Gris (Alsace)      Pinot Gris   \n",
       "129970  Domaine Schoffit 2012 Lieu-dit Harth Cuvée Car...  Gewürztraminer   \n",
       "\n",
       "                      winery  shifted_index  \n",
       "0                    Nicosia             10  \n",
       "1        Quinta dos Avidagos             11  \n",
       "2                  Rainstorm             12  \n",
       "...                      ...            ...  \n",
       "129968       Domaine Gresser         129978  \n",
       "129969  Domaine Marcel Deiss         129979  \n",
       "129970      Domaine Schoffit         129980  \n",
       "\n",
       "[129971 rows x 14 columns]"
      ]
     },
     "execution_count": 23,
     "metadata": {},
     "output_type": "execute_result"
    }
   ],
   "source": [
    "temp['shifted_index'] = range(10, len(temp)+10)\n",
    "temp"
   ]
  },
  {
   "cell_type": "markdown",
   "id": "473a0057",
   "metadata": {},
   "source": [
    "## Zusammenfassung der Daten\n",
    "\n",
    "Um schnell an eine Zusammenfassung der Daten gelangen, steht Ihnen die äußerst nützliche Methode `describe` zur Verfügung:"
   ]
  },
  {
   "cell_type": "code",
   "execution_count": 24,
   "id": "e822dcae",
   "metadata": {},
   "outputs": [
    {
     "data": {
      "text/plain": [
       "count    129971.000000\n",
       "mean         88.447138\n",
       "std           3.039730\n",
       "min          80.000000\n",
       "25%          86.000000\n",
       "50%          88.000000\n",
       "75%          91.000000\n",
       "max         100.000000\n",
       "Name: points, dtype: float64"
      ]
     },
     "execution_count": 24,
     "metadata": {},
     "output_type": "execute_result"
    }
   ],
   "source": [
    "pd.set_option('display.max_rows', 8)\n",
    "\n",
    "reviews.points.describe()"
   ]
  },
  {
   "cell_type": "markdown",
   "id": "a3d1b9dd",
   "metadata": {},
   "source": [
    "Für kategorische Daten sind einige der obigen Auswertungen nicht möglich. Pandas erkennt automatisch, um welche Datentypen es sich handelt. Rufen Sie die Methode für eine Spalte mit Strings auf und vergleichen Sie die Ergebnisse:"
   ]
  },
  {
   "cell_type": "code",
   "execution_count": 25,
   "id": "e6c6f2bd",
   "metadata": {},
   "outputs": [
    {
     "data": {
      "text/plain": [
       "count     129908\n",
       "unique        43\n",
       "top           US\n",
       "freq       54504\n",
       "Name: country, dtype: object"
      ]
     },
     "execution_count": 25,
     "metadata": {},
     "output_type": "execute_result"
    }
   ],
   "source": [
    "# Lösung z.B.\n",
    "reviews.country.describe()"
   ]
  },
  {
   "cell_type": "markdown",
   "id": "2570c690",
   "metadata": {},
   "source": [
    "Es ist natürlich auch möglich einzelne statistische Auswertungen vorzunehmen, zum Beispiel:"
   ]
  },
  {
   "cell_type": "code",
   "execution_count": 26,
   "id": "b1b37318",
   "metadata": {},
   "outputs": [
    {
     "data": {
      "text/plain": [
       "88.44713820775404"
      ]
     },
     "execution_count": 26,
     "metadata": {},
     "output_type": "execute_result"
    }
   ],
   "source": [
    "reviews.points.mean()"
   ]
  },
  {
   "cell_type": "markdown",
   "id": "9dcd01a0",
   "metadata": {},
   "source": [
    "Oder um die Zeile zu finden, die die maximale Punktzahl enthält:"
   ]
  },
  {
   "cell_type": "code",
   "execution_count": 27,
   "id": "470e9d08",
   "metadata": {},
   "outputs": [
    {
     "data": {
      "text/plain": [
       "345"
      ]
     },
     "execution_count": 27,
     "metadata": {},
     "output_type": "execute_result"
    }
   ],
   "source": [
    "reviews.points.idxmax()"
   ]
  },
  {
   "cell_type": "markdown",
   "id": "e1e1ef88",
   "metadata": {},
   "source": [
    "Wir wollen das nutzen, um unsere These zu überprüfen, dass alle Beschreibungen unterschiedlich sind."
   ]
  },
  {
   "cell_type": "code",
   "execution_count": 28,
   "id": "15a0c2e7",
   "metadata": {},
   "outputs": [
    {
     "data": {
      "text/plain": [
       "Seductively tart in lemon pith, cranberry and pomegranate, this refreshing, light-bodied quaff is infinitely enjoyable, both on its own or at the table. It continues to expand on the palate into an increasing array of fresh flavors, finishing in cherry and orange.                                                                                                                                     3\n",
       "Cigar box, café au lait, and dried tobacco aromas are followed by coffee and cherry flavors, with barrel spices lingering on the finish. The wood gets a bit out front but it still delivers enjoyment.                                                                                                                                                                                                      3\n",
       "This zesty red has pretty aromas that suggest small red berry, blue flower and a whiff of moist soil. The vibrant palate offers sour cherry, pomegranate and a hint of anise alongside zesty acidity and refined tannins.                                                                                                                                                                                    3\n",
       "Gravenstein apple, honeysuckle and jasmine aromas show on the relatively boisterous nose of this bottling from a large vineyard on Highway 46 east of Paso Robles. There is compellingly grippy texture to the sip, with ripe flavors of pear and honeydew melon. A salty acidity takes it to the next level.                                                                                                3\n",
       "                                                                                                                                                                                                                                                                                                                                                                                                            ..\n",
       "You need to think ahead here, because this wine is currently totally dominated by wood. The richness and classic, balanced structure that is normal with Haut-Bailly seems to have been put aside in favor of a highly polished, toast-laden style. Search for the fruit and there is blackberry,spice and fruit tannin. But it's hard. Wait 10 years at least.                                              1\n",
       "Amisfield has been on a hot streak, and the 2007 continues that roll. The aromas show wonderfully high-toned cherry fruit, with a slightly herbal element that adds welcome complexity. In the mouth, the wine is full-bodied and richly textured, with its black cherry fruit framed by a hint of vanilla. Long and lush on the finish, this looks to be at its best now and for the next several years.    1\n",
       "Susumaniello is a little-known indigenous grape of Southern Italy that shows great promise and persistency. This expression boasts modern aromas of soft toasted oak, vanilla, Spanish cedar and pipe tobacco, The wine is thick and velvety with slightly sweet flavors of chocolate fudge.                                                                                                                 1\n",
       "Big, rich and off-dry, this is powered by intense spiciness and rounded texture. Lychees dominate the fruit profile, giving an opulent feel to the aftertaste. Drink now.                                                                                                                                                                                                                                    1\n",
       "Name: description, Length: 119955, dtype: int64"
      ]
     },
     "execution_count": 28,
     "metadata": {},
     "output_type": "execute_result"
    }
   ],
   "source": [
    "reviews.description.value_counts()"
   ]
  },
  {
   "cell_type": "markdown",
   "id": "a6cf597f",
   "metadata": {},
   "source": [
    "Unerwarteterweise gibt es Beschreibungen, dreimal im Datensatz auftauchen. Die Methode value_counts sortiert die Einträge automatisch, d.h. 3 ist auch die maximale Häufigkeit, die in der Spalte descritpion auftaucht. Alternativ können Sie dies mit der folgenden Zeile herausfinden:"
   ]
  },
  {
   "cell_type": "code",
   "execution_count": 29,
   "id": "3aa21171",
   "metadata": {},
   "outputs": [
    {
     "data": {
      "text/plain": [
       "3"
      ]
     },
     "execution_count": 29,
     "metadata": {},
     "output_type": "execute_result"
    }
   ],
   "source": [
    "reviews.description.value_counts().max()"
   ]
  },
  {
   "cell_type": "markdown",
   "id": "20cb2075",
   "metadata": {},
   "source": [
    "Sie werden diese Mehrfachnennungen in den Übungsaufgaben weiter untersuchen."
   ]
  },
  {
   "cell_type": "markdown",
   "id": "9a1afdf9",
   "metadata": {},
   "source": [
    "## Arithmetische Operationen und Maps\n",
    "\n",
    "Als nächstes beschäftigen wir uns mit Möglichkeiten, alle Daten einer Spalte simultan anzupassen. Schauen Sie sich die nächste Zeile und ihr Ergebnis an:"
   ]
  },
  {
   "cell_type": "code",
   "execution_count": 30,
   "id": "2e0a3ed0",
   "metadata": {},
   "outputs": [
    {
     "data": {
      "text/plain": [
       "0           NaN\n",
       "1         115.0\n",
       "2         114.0\n",
       "3         113.0\n",
       "          ...  \n",
       "129967    175.0\n",
       "129968    130.0\n",
       "129969    132.0\n",
       "129970    121.0\n",
       "Name: price, Length: 129971, dtype: float64"
      ]
     },
     "execution_count": 30,
     "metadata": {},
     "output_type": "execute_result"
    }
   ],
   "source": [
    "reviews.price + 100"
   ]
  },
  {
   "cell_type": "markdown",
   "id": "c50e6bfc",
   "metadata": {},
   "source": [
    "Hier wird eine Series auf der linken Seite mit einem einzelnem Wert auf der rechten Seite addiert. Pandas interpretiert das so, dass wir wohl zu jedem Eintrag der Series die Zahl 100 addieren wollen. Natürlich können Operationen auch zwischen Series der gleichen Länge ausgeführt werden. Im Summe kann damit sehr eleganter Code geschrieben werden:"
   ]
  },
  {
   "cell_type": "code",
   "execution_count": 31,
   "id": "3524997a",
   "metadata": {},
   "outputs": [
    {
     "data": {
      "text/plain": [
       "0         Sicily & Sardinia in Italy\n",
       "1                  Douro in Portugal\n",
       "2                       Oregon in US\n",
       "3                     Michigan in US\n",
       "                     ...            \n",
       "129967                  Oregon in US\n",
       "129968              Alsace in France\n",
       "129969              Alsace in France\n",
       "129970              Alsace in France\n",
       "Length: 129971, dtype: object"
      ]
     },
     "execution_count": 31,
     "metadata": {},
     "output_type": "execute_result"
    }
   ],
   "source": [
    "reviews.province + \" in \" + reviews.country"
   ]
  },
  {
   "cell_type": "markdown",
   "id": "cef6cbf5",
   "metadata": {},
   "source": [
    "Um flexibler in der Funktionalität zu sein, können \"maps\" genutzt werden. Wollen wir von jedem Land nur die ersten drei Buchstaben haben, können wir folgende Syntax nutzen:"
   ]
  },
  {
   "cell_type": "code",
   "execution_count": 32,
   "id": "3ac19d1f",
   "metadata": {},
   "outputs": [
    {
     "data": {
      "text/plain": [
       "0         Ita\n",
       "1         Por\n",
       "2          US\n",
       "3          US\n",
       "         ... \n",
       "129967     US\n",
       "129968    Fra\n",
       "129969    Fra\n",
       "129970    Fra\n",
       "Name: country, Length: 129971, dtype: object"
      ]
     },
     "execution_count": 32,
     "metadata": {},
     "output_type": "execute_result"
    }
   ],
   "source": [
    "reviews.country.map(lambda p: str(p)[0:3])"
   ]
  },
  {
   "cell_type": "markdown",
   "id": "8d426d94",
   "metadata": {},
   "source": [
    "## GroupBy\n",
    "\n",
    "Die `groupby` Methode ist eine sehr mächtiges Werkzeug, um Einsichten in die Daten zu bekommen und diese zu strukturieren. Als Motivation: Was ist der Durchschnittspreis jeder Weinsorte? Nutzen Sie die nächste Zelle, um sich die Antwort auf diese Frage zurück geben zu lassen."
   ]
  },
  {
   "cell_type": "code",
   "execution_count": null,
   "id": "d31498f7",
   "metadata": {},
   "outputs": [],
   "source": [
    "# hierzu gibt es keine Musterlösung"
   ]
  },
  {
   "cell_type": "markdown",
   "id": "62ae6767",
   "metadata": {},
   "source": [
    "<br>\n",
    "\n",
    "<br>\n",
    "\n",
    "<br>\n",
    "\n",
    "<br>\n",
    "\n",
    "## ---------- *Spoiler* ---------- \n",
    "\n",
    "<br>\n",
    "\n",
    "<br>\n",
    "\n",
    "<br>\n",
    "\n",
    "<br>\n",
    "\n",
    "<br>\n",
    "\n",
    "<br>\n",
    "\n",
    "<br>\n",
    "\n",
    "<br>"
   ]
  },
  {
   "cell_type": "markdown",
   "id": "b8c1a741",
   "metadata": {},
   "source": [
    "Durchaus machbar aber einige Zeilen Code werden schon benötigt, oder? Mit der `groupby` Methode lässt sich das Resultat wie folgt erreichen."
   ]
  },
  {
   "cell_type": "code",
   "execution_count": 33,
   "id": "33276287",
   "metadata": {},
   "outputs": [
    {
     "data": {
      "text/plain": [
       "variety\n",
       "Abouriou       35.000000\n",
       "Agiorgitiko    23.571429\n",
       "Aglianico      38.887755\n",
       "Aidani         27.000000\n",
       "                 ...    \n",
       "Zlahtina       14.500000\n",
       "Zweigelt       21.516484\n",
       "Çalkarası      19.000000\n",
       "Žilavka        15.000000\n",
       "Name: price, Length: 707, dtype: float64"
      ]
     },
     "execution_count": 33,
     "metadata": {},
     "output_type": "execute_result"
    }
   ],
   "source": [
    "reviews.groupby('variety')['price'].mean()"
   ]
  },
  {
   "cell_type": "markdown",
   "id": "14e6d388",
   "metadata": {},
   "source": [
    "Die `groupby` Methode macht uns das Leben also deutlich einfacher. Wie sieht das Datenobjekt eigentlich aus, das bei dieser Methode zurückgegeben wird? Finden Sie es heraus! Nutzen Sie die nächste Zelle dazu:"
   ]
  },
  {
   "cell_type": "code",
   "execution_count": 34,
   "id": "0806dee8",
   "metadata": {},
   "outputs": [
    {
     "data": {
      "text/plain": [
       "<pandas.core.groupby.generic.DataFrameGroupBy object at 0x7fc2a46ba0d0>"
      ]
     },
     "execution_count": 34,
     "metadata": {},
     "output_type": "execute_result"
    }
   ],
   "source": [
    "# Lösung\n",
    "reviews.groupby('variety')"
   ]
  },
  {
   "cell_type": "markdown",
   "id": "0edb118c",
   "metadata": {},
   "source": [
    "Nicht besonders hilfreich, oder? Das liegt daran, dass die Methode primär für einen mehrstufigen Prozess genutzt wird, wie das weiter oben der Fall ist. Sie können aber dennoch einige Attribute des erzeugten GroupBy Objekts abfragen. Beispielsweise die Anzahl der Gruppen:"
   ]
  },
  {
   "cell_type": "code",
   "execution_count": 35,
   "id": "c7787aeb",
   "metadata": {},
   "outputs": [
    {
     "data": {
      "text/plain": [
       "707"
      ]
     },
     "execution_count": 35,
     "metadata": {},
     "output_type": "execute_result"
    }
   ],
   "source": [
    "reviews.groupby('variety').ngroups"
   ]
  },
  {
   "cell_type": "markdown",
   "id": "ff92f0ca",
   "metadata": {},
   "source": [
    "Sie können auch eigene Funktionen definieren und auf das GroupBy Objekt anwenden:"
   ]
  },
  {
   "cell_type": "code",
   "execution_count": 36,
   "id": "cb51607e",
   "metadata": {},
   "outputs": [
    {
     "data": {
      "text/plain": [
       "variety\n",
       "Abouriou       45.0\n",
       "Agiorgitiko    38.0\n",
       "Aglianico      93.0\n",
       "Aidani         27.0\n",
       "               ... \n",
       "Zlahtina       14.5\n",
       "Zweigelt       39.5\n",
       "Çalkarası      19.0\n",
       "Žilavka        15.0\n",
       "Name: price, Length: 707, dtype: float64"
      ]
     },
     "execution_count": 36,
     "metadata": {},
     "output_type": "execute_result"
    }
   ],
   "source": [
    "def group_middle(x):\n",
    "    return (x.max() + x.min()) / 2\n",
    "\n",
    "middle = reviews.groupby('variety')['price'].apply(group_middle)\n",
    "middle"
   ]
  },
  {
   "cell_type": "markdown",
   "id": "15340621",
   "metadata": {},
   "source": [
    "Es ist auch möglich, nach mehreren Kriterien zu gruppieren:"
   ]
  },
  {
   "cell_type": "code",
   "execution_count": 37,
   "id": "cf2993c2",
   "metadata": {},
   "outputs": [
    {
     "data": {
      "text/plain": [
       "country    variety                   \n",
       "Argentina  Barbera                       85\n",
       "           Bonarda                       80\n",
       "           Bordeaux-style Red Blend      81\n",
       "           Bordeaux-style White Blend    83\n",
       "                                         ..\n",
       "Uruguay    Tannat-Merlot                 85\n",
       "           Tannat-Syrah                  84\n",
       "           Tempranillo-Tannat            88\n",
       "           White Blend                   87\n",
       "Name: points, Length: 1612, dtype: int64"
      ]
     },
     "execution_count": 37,
     "metadata": {},
     "output_type": "execute_result"
    }
   ],
   "source": [
    "min_points = reviews.groupby(['country', 'variety'])['points'].min()\n",
    "min_points"
   ]
  },
  {
   "cell_type": "markdown",
   "id": "0b9f0dc9",
   "metadata": {},
   "source": [
    "## Mit fehlenden Daten umgehen\n",
    "\n",
    "In der Data Science Praxis werden Daten immer unvollständig sein. Dafür kann es viele Gründe geben: Eine Person hat bewusst oder unbewusst bei einem Fragebogen das Alter ausgelassen, ein Sensor arbeitet nicht hundertprozentig zuverlässig und nimmt gelegentlich zum vorgesehen Zeitpunkt keine Messung vor, zu einem erst vor kurzem gegründetem Start-up reichen die Geschäftsdaten weniger weit in die Vergangenheit als bei älteren Unternehmen...\n",
    "Fehlende Werte werden immer auftreten und es gibt keinen mustergültigen Weg mit Ihnen umzugehen."
   ]
  },
  {
   "cell_type": "markdown",
   "id": "5ba65119",
   "metadata": {},
   "source": [
    "Zunächst gilt es, die fehlenden Werte ausfindig zu machen. Hierzu nutzt man die Methode `isna`:"
   ]
  },
  {
   "cell_type": "code",
   "execution_count": 38,
   "id": "7f1090cb",
   "metadata": {},
   "outputs": [
    {
     "data": {
      "text/html": [
       "<div>\n",
       "<style scoped>\n",
       "    .dataframe tbody tr th:only-of-type {\n",
       "        vertical-align: middle;\n",
       "    }\n",
       "\n",
       "    .dataframe tbody tr th {\n",
       "        vertical-align: top;\n",
       "    }\n",
       "\n",
       "    .dataframe thead th {\n",
       "        text-align: right;\n",
       "    }\n",
       "</style>\n",
       "<table border=\"1\" class=\"dataframe\">\n",
       "  <thead>\n",
       "    <tr style=\"text-align: right;\">\n",
       "      <th></th>\n",
       "      <th>country</th>\n",
       "      <th>description</th>\n",
       "      <th>designation</th>\n",
       "      <th>points</th>\n",
       "      <th>price</th>\n",
       "      <th>province</th>\n",
       "      <th>region_1</th>\n",
       "      <th>region_2</th>\n",
       "      <th>taster_name</th>\n",
       "      <th>taster_twitter_handle</th>\n",
       "      <th>title</th>\n",
       "      <th>variety</th>\n",
       "      <th>winery</th>\n",
       "    </tr>\n",
       "  </thead>\n",
       "  <tbody>\n",
       "    <tr>\n",
       "      <th>0</th>\n",
       "      <td>False</td>\n",
       "      <td>False</td>\n",
       "      <td>False</td>\n",
       "      <td>False</td>\n",
       "      <td>True</td>\n",
       "      <td>False</td>\n",
       "      <td>False</td>\n",
       "      <td>True</td>\n",
       "      <td>False</td>\n",
       "      <td>False</td>\n",
       "      <td>False</td>\n",
       "      <td>False</td>\n",
       "      <td>False</td>\n",
       "    </tr>\n",
       "    <tr>\n",
       "      <th>1</th>\n",
       "      <td>False</td>\n",
       "      <td>False</td>\n",
       "      <td>False</td>\n",
       "      <td>False</td>\n",
       "      <td>False</td>\n",
       "      <td>False</td>\n",
       "      <td>True</td>\n",
       "      <td>True</td>\n",
       "      <td>False</td>\n",
       "      <td>False</td>\n",
       "      <td>False</td>\n",
       "      <td>False</td>\n",
       "      <td>False</td>\n",
       "    </tr>\n",
       "    <tr>\n",
       "      <th>2</th>\n",
       "      <td>False</td>\n",
       "      <td>False</td>\n",
       "      <td>True</td>\n",
       "      <td>False</td>\n",
       "      <td>False</td>\n",
       "      <td>False</td>\n",
       "      <td>False</td>\n",
       "      <td>False</td>\n",
       "      <td>False</td>\n",
       "      <td>False</td>\n",
       "      <td>False</td>\n",
       "      <td>False</td>\n",
       "      <td>False</td>\n",
       "    </tr>\n",
       "    <tr>\n",
       "      <th>3</th>\n",
       "      <td>False</td>\n",
       "      <td>False</td>\n",
       "      <td>False</td>\n",
       "      <td>False</td>\n",
       "      <td>False</td>\n",
       "      <td>False</td>\n",
       "      <td>False</td>\n",
       "      <td>True</td>\n",
       "      <td>False</td>\n",
       "      <td>True</td>\n",
       "      <td>False</td>\n",
       "      <td>False</td>\n",
       "      <td>False</td>\n",
       "    </tr>\n",
       "    <tr>\n",
       "      <th>...</th>\n",
       "      <td>...</td>\n",
       "      <td>...</td>\n",
       "      <td>...</td>\n",
       "      <td>...</td>\n",
       "      <td>...</td>\n",
       "      <td>...</td>\n",
       "      <td>...</td>\n",
       "      <td>...</td>\n",
       "      <td>...</td>\n",
       "      <td>...</td>\n",
       "      <td>...</td>\n",
       "      <td>...</td>\n",
       "      <td>...</td>\n",
       "    </tr>\n",
       "    <tr>\n",
       "      <th>129967</th>\n",
       "      <td>False</td>\n",
       "      <td>False</td>\n",
       "      <td>True</td>\n",
       "      <td>False</td>\n",
       "      <td>False</td>\n",
       "      <td>False</td>\n",
       "      <td>False</td>\n",
       "      <td>False</td>\n",
       "      <td>False</td>\n",
       "      <td>False</td>\n",
       "      <td>False</td>\n",
       "      <td>False</td>\n",
       "      <td>False</td>\n",
       "    </tr>\n",
       "    <tr>\n",
       "      <th>129968</th>\n",
       "      <td>False</td>\n",
       "      <td>False</td>\n",
       "      <td>False</td>\n",
       "      <td>False</td>\n",
       "      <td>False</td>\n",
       "      <td>False</td>\n",
       "      <td>False</td>\n",
       "      <td>True</td>\n",
       "      <td>False</td>\n",
       "      <td>False</td>\n",
       "      <td>False</td>\n",
       "      <td>False</td>\n",
       "      <td>False</td>\n",
       "    </tr>\n",
       "    <tr>\n",
       "      <th>129969</th>\n",
       "      <td>False</td>\n",
       "      <td>False</td>\n",
       "      <td>True</td>\n",
       "      <td>False</td>\n",
       "      <td>False</td>\n",
       "      <td>False</td>\n",
       "      <td>False</td>\n",
       "      <td>True</td>\n",
       "      <td>False</td>\n",
       "      <td>False</td>\n",
       "      <td>False</td>\n",
       "      <td>False</td>\n",
       "      <td>False</td>\n",
       "    </tr>\n",
       "    <tr>\n",
       "      <th>129970</th>\n",
       "      <td>False</td>\n",
       "      <td>False</td>\n",
       "      <td>False</td>\n",
       "      <td>False</td>\n",
       "      <td>False</td>\n",
       "      <td>False</td>\n",
       "      <td>False</td>\n",
       "      <td>True</td>\n",
       "      <td>False</td>\n",
       "      <td>False</td>\n",
       "      <td>False</td>\n",
       "      <td>False</td>\n",
       "      <td>False</td>\n",
       "    </tr>\n",
       "  </tbody>\n",
       "</table>\n",
       "<p>129971 rows × 13 columns</p>\n",
       "</div>"
      ],
      "text/plain": [
       "        country  description  designation  points  price  province  region_1  \\\n",
       "0         False        False        False   False   True     False     False   \n",
       "1         False        False        False   False  False     False      True   \n",
       "2         False        False         True   False  False     False     False   \n",
       "3         False        False        False   False  False     False     False   \n",
       "...         ...          ...          ...     ...    ...       ...       ...   \n",
       "129967    False        False         True   False  False     False     False   \n",
       "129968    False        False        False   False  False     False     False   \n",
       "129969    False        False         True   False  False     False     False   \n",
       "129970    False        False        False   False  False     False     False   \n",
       "\n",
       "        region_2  taster_name  taster_twitter_handle  title  variety  winery  \n",
       "0           True        False                  False  False    False   False  \n",
       "1           True        False                  False  False    False   False  \n",
       "2          False        False                  False  False    False   False  \n",
       "3           True        False                   True  False    False   False  \n",
       "...          ...          ...                    ...    ...      ...     ...  \n",
       "129967     False        False                  False  False    False   False  \n",
       "129968      True        False                  False  False    False   False  \n",
       "129969      True        False                  False  False    False   False  \n",
       "129970      True        False                  False  False    False   False  \n",
       "\n",
       "[129971 rows x 13 columns]"
      ]
     },
     "execution_count": 38,
     "metadata": {},
     "output_type": "execute_result"
    }
   ],
   "source": [
    "reviews.isna()"
   ]
  },
  {
   "cell_type": "markdown",
   "id": "e7b8afec",
   "metadata": {},
   "source": [
    "Die Methode gibt ein DataFrame mit Wahrheitswerten zurück. An jeder Stelle, an der in dem ursprünglichen DataFrame ein Wert fehlt, wird `True` eingetragen, andernfall `False`. Die umgekehrte Funktionalität erreicht man mit `notna`. Die Angaben über fehlenden Daten lassen sich mit der Methoden `sum` zusammenfassen. (Hierbei wird `True` als 1 gewertet und `False` als 0.)"
   ]
  },
  {
   "cell_type": "code",
   "execution_count": 39,
   "id": "8bb3f308",
   "metadata": {},
   "outputs": [
    {
     "data": {
      "text/plain": [
       "country                     63\n",
       "description                  0\n",
       "designation              37465\n",
       "points                       0\n",
       "price                     8996\n",
       "province                    63\n",
       "region_1                 21247\n",
       "region_2                 79460\n",
       "taster_name              26244\n",
       "taster_twitter_handle    31213\n",
       "title                        0\n",
       "variety                      1\n",
       "winery                       0\n",
       "dtype: int64"
      ]
     },
     "execution_count": 39,
     "metadata": {},
     "output_type": "execute_result"
    }
   ],
   "source": [
    "pd.set_option('display.max_rows', 13)\n",
    "reviews.isna().sum()"
   ]
  },
  {
   "cell_type": "code",
   "execution_count": 40,
   "id": "6cdd0b4e",
   "metadata": {},
   "outputs": [],
   "source": [
    "pd.set_option('display.max_rows', 8)"
   ]
  },
  {
   "cell_type": "markdown",
   "id": "77212b5f",
   "metadata": {},
   "source": [
    "Nun stellt sich die Frage, wie mit diesen fehlenden Daten umgehen. Es gibt zwei Ansätze:\n",
    "- Fehlende Daten ersetzen\n",
    "- Fehlende Daten verwerfen"
   ]
  },
  {
   "cell_type": "markdown",
   "id": "48f7c36e",
   "metadata": {},
   "source": [
    "### Fehlende Daten ersetzen\n",
    "\n",
    "Bei diesem Ansatz versucht man, so gut es geht, die Lücken mit sinnvollen Daten zu füllen, ohne den Datensatz zu sehr zu verzerren. Dazu gibt es verschiedene Möglichkeiten, die je nach Kontext eingesetzt werden.\n",
    "\n",
    "Die erste Möglichkeit besteht darin, alle fehlenden Werte durch einen festen Wert (z.B. den Mittelwert der vorhanden Werte) zu ersetzen:"
   ]
  },
  {
   "cell_type": "code",
   "execution_count": 41,
   "id": "e983b9a2",
   "metadata": {},
   "outputs": [
    {
     "data": {
      "text/plain": [
       "0         35.363389\n",
       "1         15.000000\n",
       "2         14.000000\n",
       "3         13.000000\n",
       "            ...    \n",
       "129967    75.000000\n",
       "129968    30.000000\n",
       "129969    32.000000\n",
       "129970    21.000000\n",
       "Name: price, Length: 129971, dtype: float64"
      ]
     },
     "execution_count": 41,
     "metadata": {},
     "output_type": "execute_result"
    }
   ],
   "source": [
    "mean_price = reviews.price.mean()\n",
    "reviews.price.fillna(mean_price)"
   ]
  },
  {
   "cell_type": "markdown",
   "id": "6535e8c2",
   "metadata": {},
   "source": [
    "Eine andere Möglichkeit, die oft bei Zeitreihen verwendet wird, besteht darin, einen fehlenden Wert durch den Wert des Vorgänger zu ersetzen."
   ]
  },
  {
   "cell_type": "code",
   "execution_count": 42,
   "id": "de979696",
   "metadata": {},
   "outputs": [
    {
     "data": {
      "text/plain": [
       "0          NaN\n",
       "1         15.0\n",
       "2         14.0\n",
       "3         13.0\n",
       "          ... \n",
       "129967    75.0\n",
       "129968    30.0\n",
       "129969    32.0\n",
       "129970    21.0\n",
       "Name: price, Length: 129971, dtype: float64"
      ]
     },
     "execution_count": 42,
     "metadata": {},
     "output_type": "execute_result"
    }
   ],
   "source": [
    "reviews.price.fillna(method='ffill')"
   ]
  },
  {
   "cell_type": "markdown",
   "id": "4accf12a",
   "metadata": {},
   "source": [
    "Das Argument `'ffill'` steht dabei für \"forward fill\". Alternativ kann man mit `'bfill'` für \"backward fill\" den Wert des Nachfolgers nutzen."
   ]
  },
  {
   "cell_type": "markdown",
   "id": "8e561a69",
   "metadata": {},
   "source": [
    "Des weiteren kann man die Daten mittels der Methode `interpolate` interpolieren. Standardmäßig wird linear interpoliert. Wir werden uns hier auf diesen Fall beschränken, es sei aber gesagt, dass noch etliche weitere Möglichkeiten gibt."
   ]
  },
  {
   "cell_type": "code",
   "execution_count": 46,
   "id": "37e6930b",
   "metadata": {
    "scrolled": true
   },
   "outputs": [
    {
     "data": {
      "text/plain": [
       "0          NaN\n",
       "1         15.0\n",
       "2         14.0\n",
       "3         13.0\n",
       "          ... \n",
       "129967    75.0\n",
       "129968    30.0\n",
       "129969    32.0\n",
       "129970    21.0\n",
       "Name: price, Length: 129971, dtype: float64"
      ]
     },
     "execution_count": 46,
     "metadata": {},
     "output_type": "execute_result"
    }
   ],
   "source": [
    "reviews.price.interpolate()"
   ]
  },
  {
   "cell_type": "markdown",
   "id": "3b0cf25b",
   "metadata": {},
   "source": [
    "Man beachte, dass der erste Wert nicht interpoliert wird, da nur innere Werte interpoliert werden können."
   ]
  },
  {
   "cell_type": "markdown",
   "id": "c0de444c",
   "metadata": {},
   "source": [
    "### Fehlende Daten verwerfen\n",
    "\n",
    "Bei diesem Ansatz werden die Zeilen oder Spalten, die fehlende Werte enthalten, entfernt. Der Datensatz wird dadurch von fehlenden Werten bereinigt. Umgesetzt wird dies mit der Methode `dropna`. Mit dem Parameter `axis` legen wir fest, ob Zeilen (`0 `oder `'index'`) oder Spalten (`1` oder `'columns'`) gelöscht werden."
   ]
  },
  {
   "cell_type": "code",
   "execution_count": 47,
   "id": "c50e23f4",
   "metadata": {},
   "outputs": [
    {
     "data": {
      "text/html": [
       "<div>\n",
       "<style scoped>\n",
       "    .dataframe tbody tr th:only-of-type {\n",
       "        vertical-align: middle;\n",
       "    }\n",
       "\n",
       "    .dataframe tbody tr th {\n",
       "        vertical-align: top;\n",
       "    }\n",
       "\n",
       "    .dataframe thead th {\n",
       "        text-align: right;\n",
       "    }\n",
       "</style>\n",
       "<table border=\"1\" class=\"dataframe\">\n",
       "  <thead>\n",
       "    <tr style=\"text-align: right;\">\n",
       "      <th></th>\n",
       "      <th>description</th>\n",
       "      <th>points</th>\n",
       "      <th>title</th>\n",
       "      <th>winery</th>\n",
       "    </tr>\n",
       "  </thead>\n",
       "  <tbody>\n",
       "    <tr>\n",
       "      <th>0</th>\n",
       "      <td>Aromas include tropical fruit, broom, brimston...</td>\n",
       "      <td>87</td>\n",
       "      <td>Nicosia 2013 Vulkà Bianco  (Etna)</td>\n",
       "      <td>Nicosia</td>\n",
       "    </tr>\n",
       "    <tr>\n",
       "      <th>1</th>\n",
       "      <td>This is ripe and fruity, a wine that is smooth...</td>\n",
       "      <td>87</td>\n",
       "      <td>Quinta dos Avidagos 2011 Avidagos Red (Douro)</td>\n",
       "      <td>Quinta dos Avidagos</td>\n",
       "    </tr>\n",
       "    <tr>\n",
       "      <th>2</th>\n",
       "      <td>Tart and snappy, the flavors of lime flesh and...</td>\n",
       "      <td>87</td>\n",
       "      <td>Rainstorm 2013 Pinot Gris (Willamette Valley)</td>\n",
       "      <td>Rainstorm</td>\n",
       "    </tr>\n",
       "    <tr>\n",
       "      <th>3</th>\n",
       "      <td>Pineapple rind, lemon pith and orange blossom ...</td>\n",
       "      <td>87</td>\n",
       "      <td>St. Julian 2013 Reserve Late Harvest Riesling ...</td>\n",
       "      <td>St. Julian</td>\n",
       "    </tr>\n",
       "    <tr>\n",
       "      <th>...</th>\n",
       "      <td>...</td>\n",
       "      <td>...</td>\n",
       "      <td>...</td>\n",
       "      <td>...</td>\n",
       "    </tr>\n",
       "    <tr>\n",
       "      <th>129967</th>\n",
       "      <td>Citation is given as much as a decade of bottl...</td>\n",
       "      <td>90</td>\n",
       "      <td>Citation 2004 Pinot Noir (Oregon)</td>\n",
       "      <td>Citation</td>\n",
       "    </tr>\n",
       "    <tr>\n",
       "      <th>129968</th>\n",
       "      <td>Well-drained gravel soil gives this wine its c...</td>\n",
       "      <td>90</td>\n",
       "      <td>Domaine Gresser 2013 Kritt Gewurztraminer (Als...</td>\n",
       "      <td>Domaine Gresser</td>\n",
       "    </tr>\n",
       "    <tr>\n",
       "      <th>129969</th>\n",
       "      <td>A dry style of Pinot Gris, this is crisp with ...</td>\n",
       "      <td>90</td>\n",
       "      <td>Domaine Marcel Deiss 2012 Pinot Gris (Alsace)</td>\n",
       "      <td>Domaine Marcel Deiss</td>\n",
       "    </tr>\n",
       "    <tr>\n",
       "      <th>129970</th>\n",
       "      <td>Big, rich and off-dry, this is powered by inte...</td>\n",
       "      <td>90</td>\n",
       "      <td>Domaine Schoffit 2012 Lieu-dit Harth Cuvée Car...</td>\n",
       "      <td>Domaine Schoffit</td>\n",
       "    </tr>\n",
       "  </tbody>\n",
       "</table>\n",
       "<p>129971 rows × 4 columns</p>\n",
       "</div>"
      ],
      "text/plain": [
       "                                              description  points  \\\n",
       "0       Aromas include tropical fruit, broom, brimston...      87   \n",
       "1       This is ripe and fruity, a wine that is smooth...      87   \n",
       "2       Tart and snappy, the flavors of lime flesh and...      87   \n",
       "3       Pineapple rind, lemon pith and orange blossom ...      87   \n",
       "...                                                   ...     ...   \n",
       "129967  Citation is given as much as a decade of bottl...      90   \n",
       "129968  Well-drained gravel soil gives this wine its c...      90   \n",
       "129969  A dry style of Pinot Gris, this is crisp with ...      90   \n",
       "129970  Big, rich and off-dry, this is powered by inte...      90   \n",
       "\n",
       "                                                    title  \\\n",
       "0                       Nicosia 2013 Vulkà Bianco  (Etna)   \n",
       "1           Quinta dos Avidagos 2011 Avidagos Red (Douro)   \n",
       "2           Rainstorm 2013 Pinot Gris (Willamette Valley)   \n",
       "3       St. Julian 2013 Reserve Late Harvest Riesling ...   \n",
       "...                                                   ...   \n",
       "129967                  Citation 2004 Pinot Noir (Oregon)   \n",
       "129968  Domaine Gresser 2013 Kritt Gewurztraminer (Als...   \n",
       "129969      Domaine Marcel Deiss 2012 Pinot Gris (Alsace)   \n",
       "129970  Domaine Schoffit 2012 Lieu-dit Harth Cuvée Car...   \n",
       "\n",
       "                      winery  \n",
       "0                    Nicosia  \n",
       "1        Quinta dos Avidagos  \n",
       "2                  Rainstorm  \n",
       "3                 St. Julian  \n",
       "...                      ...  \n",
       "129967              Citation  \n",
       "129968       Domaine Gresser  \n",
       "129969  Domaine Marcel Deiss  \n",
       "129970      Domaine Schoffit  \n",
       "\n",
       "[129971 rows x 4 columns]"
      ]
     },
     "execution_count": 47,
     "metadata": {},
     "output_type": "execute_result"
    }
   ],
   "source": [
    "reviews.dropna(axis=1)"
   ]
  },
  {
   "cell_type": "markdown",
   "id": "6f0bcfcb",
   "metadata": {},
   "source": [
    "Standardmäßig werden alle Zeilen bzw. Spalten gelöscht, die mindestens einen fehlenden Wert enthalten. Wir können hier gezielter vorgehen und einen Mindestwert an fehlenden Daten vorgeben, die in einer Zeile bzw. Spalte vorhanden sein müssen, damit diese entfernt wird. Alternativ können wir mit `how='all'` festlegen, dass nur Zeilen bzw. Spalten gelöscht werden, in denen alle Einträge fehlen. Der Parameter `thresh`legt fest, wie viele Einträge *vorhanden* sein müssen, damit die Zeile bzw. Spalte *nicht* gelöscht wird."
   ]
  },
  {
   "cell_type": "code",
   "execution_count": 48,
   "id": "21996411",
   "metadata": {},
   "outputs": [
    {
     "data": {
      "text/html": [
       "<div>\n",
       "<style scoped>\n",
       "    .dataframe tbody tr th:only-of-type {\n",
       "        vertical-align: middle;\n",
       "    }\n",
       "\n",
       "    .dataframe tbody tr th {\n",
       "        vertical-align: top;\n",
       "    }\n",
       "\n",
       "    .dataframe thead th {\n",
       "        text-align: right;\n",
       "    }\n",
       "</style>\n",
       "<table border=\"1\" class=\"dataframe\">\n",
       "  <thead>\n",
       "    <tr style=\"text-align: right;\">\n",
       "      <th></th>\n",
       "      <th>country</th>\n",
       "      <th>description</th>\n",
       "      <th>points</th>\n",
       "      <th>price</th>\n",
       "      <th>province</th>\n",
       "      <th>region_1</th>\n",
       "      <th>taster_name</th>\n",
       "      <th>title</th>\n",
       "      <th>variety</th>\n",
       "      <th>winery</th>\n",
       "    </tr>\n",
       "  </thead>\n",
       "  <tbody>\n",
       "    <tr>\n",
       "      <th>0</th>\n",
       "      <td>Italy</td>\n",
       "      <td>Aromas include tropical fruit, broom, brimston...</td>\n",
       "      <td>87</td>\n",
       "      <td>NaN</td>\n",
       "      <td>Sicily &amp; Sardinia</td>\n",
       "      <td>Etna</td>\n",
       "      <td>Kerin O’Keefe</td>\n",
       "      <td>Nicosia 2013 Vulkà Bianco  (Etna)</td>\n",
       "      <td>White Blend</td>\n",
       "      <td>Nicosia</td>\n",
       "    </tr>\n",
       "    <tr>\n",
       "      <th>1</th>\n",
       "      <td>Portugal</td>\n",
       "      <td>This is ripe and fruity, a wine that is smooth...</td>\n",
       "      <td>87</td>\n",
       "      <td>15.0</td>\n",
       "      <td>Douro</td>\n",
       "      <td>NaN</td>\n",
       "      <td>Roger Voss</td>\n",
       "      <td>Quinta dos Avidagos 2011 Avidagos Red (Douro)</td>\n",
       "      <td>Portuguese Red</td>\n",
       "      <td>Quinta dos Avidagos</td>\n",
       "    </tr>\n",
       "    <tr>\n",
       "      <th>2</th>\n",
       "      <td>US</td>\n",
       "      <td>Tart and snappy, the flavors of lime flesh and...</td>\n",
       "      <td>87</td>\n",
       "      <td>14.0</td>\n",
       "      <td>Oregon</td>\n",
       "      <td>Willamette Valley</td>\n",
       "      <td>Paul Gregutt</td>\n",
       "      <td>Rainstorm 2013 Pinot Gris (Willamette Valley)</td>\n",
       "      <td>Pinot Gris</td>\n",
       "      <td>Rainstorm</td>\n",
       "    </tr>\n",
       "    <tr>\n",
       "      <th>3</th>\n",
       "      <td>US</td>\n",
       "      <td>Pineapple rind, lemon pith and orange blossom ...</td>\n",
       "      <td>87</td>\n",
       "      <td>13.0</td>\n",
       "      <td>Michigan</td>\n",
       "      <td>Lake Michigan Shore</td>\n",
       "      <td>Alexander Peartree</td>\n",
       "      <td>St. Julian 2013 Reserve Late Harvest Riesling ...</td>\n",
       "      <td>Riesling</td>\n",
       "      <td>St. Julian</td>\n",
       "    </tr>\n",
       "    <tr>\n",
       "      <th>...</th>\n",
       "      <td>...</td>\n",
       "      <td>...</td>\n",
       "      <td>...</td>\n",
       "      <td>...</td>\n",
       "      <td>...</td>\n",
       "      <td>...</td>\n",
       "      <td>...</td>\n",
       "      <td>...</td>\n",
       "      <td>...</td>\n",
       "      <td>...</td>\n",
       "    </tr>\n",
       "    <tr>\n",
       "      <th>129967</th>\n",
       "      <td>US</td>\n",
       "      <td>Citation is given as much as a decade of bottl...</td>\n",
       "      <td>90</td>\n",
       "      <td>75.0</td>\n",
       "      <td>Oregon</td>\n",
       "      <td>Oregon</td>\n",
       "      <td>Paul Gregutt</td>\n",
       "      <td>Citation 2004 Pinot Noir (Oregon)</td>\n",
       "      <td>Pinot Noir</td>\n",
       "      <td>Citation</td>\n",
       "    </tr>\n",
       "    <tr>\n",
       "      <th>129968</th>\n",
       "      <td>France</td>\n",
       "      <td>Well-drained gravel soil gives this wine its c...</td>\n",
       "      <td>90</td>\n",
       "      <td>30.0</td>\n",
       "      <td>Alsace</td>\n",
       "      <td>Alsace</td>\n",
       "      <td>Roger Voss</td>\n",
       "      <td>Domaine Gresser 2013 Kritt Gewurztraminer (Als...</td>\n",
       "      <td>Gewürztraminer</td>\n",
       "      <td>Domaine Gresser</td>\n",
       "    </tr>\n",
       "    <tr>\n",
       "      <th>129969</th>\n",
       "      <td>France</td>\n",
       "      <td>A dry style of Pinot Gris, this is crisp with ...</td>\n",
       "      <td>90</td>\n",
       "      <td>32.0</td>\n",
       "      <td>Alsace</td>\n",
       "      <td>Alsace</td>\n",
       "      <td>Roger Voss</td>\n",
       "      <td>Domaine Marcel Deiss 2012 Pinot Gris (Alsace)</td>\n",
       "      <td>Pinot Gris</td>\n",
       "      <td>Domaine Marcel Deiss</td>\n",
       "    </tr>\n",
       "    <tr>\n",
       "      <th>129970</th>\n",
       "      <td>France</td>\n",
       "      <td>Big, rich and off-dry, this is powered by inte...</td>\n",
       "      <td>90</td>\n",
       "      <td>21.0</td>\n",
       "      <td>Alsace</td>\n",
       "      <td>Alsace</td>\n",
       "      <td>Roger Voss</td>\n",
       "      <td>Domaine Schoffit 2012 Lieu-dit Harth Cuvée Car...</td>\n",
       "      <td>Gewürztraminer</td>\n",
       "      <td>Domaine Schoffit</td>\n",
       "    </tr>\n",
       "  </tbody>\n",
       "</table>\n",
       "<p>129971 rows × 10 columns</p>\n",
       "</div>"
      ],
      "text/plain": [
       "         country                                        description  points  \\\n",
       "0          Italy  Aromas include tropical fruit, broom, brimston...      87   \n",
       "1       Portugal  This is ripe and fruity, a wine that is smooth...      87   \n",
       "2             US  Tart and snappy, the flavors of lime flesh and...      87   \n",
       "3             US  Pineapple rind, lemon pith and orange blossom ...      87   \n",
       "...          ...                                                ...     ...   \n",
       "129967        US  Citation is given as much as a decade of bottl...      90   \n",
       "129968    France  Well-drained gravel soil gives this wine its c...      90   \n",
       "129969    France  A dry style of Pinot Gris, this is crisp with ...      90   \n",
       "129970    France  Big, rich and off-dry, this is powered by inte...      90   \n",
       "\n",
       "        price           province             region_1         taster_name  \\\n",
       "0         NaN  Sicily & Sardinia                 Etna       Kerin O’Keefe   \n",
       "1        15.0              Douro                  NaN          Roger Voss   \n",
       "2        14.0             Oregon    Willamette Valley        Paul Gregutt   \n",
       "3        13.0           Michigan  Lake Michigan Shore  Alexander Peartree   \n",
       "...       ...                ...                  ...                 ...   \n",
       "129967   75.0             Oregon               Oregon        Paul Gregutt   \n",
       "129968   30.0             Alsace               Alsace          Roger Voss   \n",
       "129969   32.0             Alsace               Alsace          Roger Voss   \n",
       "129970   21.0             Alsace               Alsace          Roger Voss   \n",
       "\n",
       "                                                    title         variety  \\\n",
       "0                       Nicosia 2013 Vulkà Bianco  (Etna)     White Blend   \n",
       "1           Quinta dos Avidagos 2011 Avidagos Red (Douro)  Portuguese Red   \n",
       "2           Rainstorm 2013 Pinot Gris (Willamette Valley)      Pinot Gris   \n",
       "3       St. Julian 2013 Reserve Late Harvest Riesling ...        Riesling   \n",
       "...                                                   ...             ...   \n",
       "129967                  Citation 2004 Pinot Noir (Oregon)      Pinot Noir   \n",
       "129968  Domaine Gresser 2013 Kritt Gewurztraminer (Als...  Gewürztraminer   \n",
       "129969      Domaine Marcel Deiss 2012 Pinot Gris (Alsace)      Pinot Gris   \n",
       "129970  Domaine Schoffit 2012 Lieu-dit Harth Cuvée Car...  Gewürztraminer   \n",
       "\n",
       "                      winery  \n",
       "0                    Nicosia  \n",
       "1        Quinta dos Avidagos  \n",
       "2                  Rainstorm  \n",
       "3                 St. Julian  \n",
       "...                      ...  \n",
       "129967              Citation  \n",
       "129968       Domaine Gresser  \n",
       "129969  Domaine Marcel Deiss  \n",
       "129970      Domaine Schoffit  \n",
       "\n",
       "[129971 rows x 10 columns]"
      ]
     },
     "execution_count": 48,
     "metadata": {},
     "output_type": "execute_result"
    }
   ],
   "source": [
    "reviews.dropna(axis=1, thresh=100000)"
   ]
  },
  {
   "cell_type": "markdown",
   "id": "25119a8a",
   "metadata": {},
   "source": [
    "Es können auch (unabhängig von fehlenden Werten) ausgewählte Zeilen bzw. Spalten mit der Methode `drop`gelöscht werden:"
   ]
  },
  {
   "cell_type": "code",
   "execution_count": 49,
   "id": "45222293",
   "metadata": {
    "scrolled": false
   },
   "outputs": [
    {
     "data": {
      "text/html": [
       "<div>\n",
       "<style scoped>\n",
       "    .dataframe tbody tr th:only-of-type {\n",
       "        vertical-align: middle;\n",
       "    }\n",
       "\n",
       "    .dataframe tbody tr th {\n",
       "        vertical-align: top;\n",
       "    }\n",
       "\n",
       "    .dataframe thead th {\n",
       "        text-align: right;\n",
       "    }\n",
       "</style>\n",
       "<table border=\"1\" class=\"dataframe\">\n",
       "  <thead>\n",
       "    <tr style=\"text-align: right;\">\n",
       "      <th></th>\n",
       "      <th>country</th>\n",
       "      <th>description</th>\n",
       "      <th>designation</th>\n",
       "      <th>points</th>\n",
       "      <th>price</th>\n",
       "      <th>province</th>\n",
       "      <th>region_1</th>\n",
       "      <th>region_2</th>\n",
       "      <th>taster_name</th>\n",
       "      <th>taster_twitter_handle</th>\n",
       "      <th>title</th>\n",
       "      <th>variety</th>\n",
       "      <th>winery</th>\n",
       "    </tr>\n",
       "  </thead>\n",
       "  <tbody>\n",
       "    <tr>\n",
       "      <th>1</th>\n",
       "      <td>Portugal</td>\n",
       "      <td>This is ripe and fruity, a wine that is smooth...</td>\n",
       "      <td>Avidagos</td>\n",
       "      <td>87</td>\n",
       "      <td>15.0</td>\n",
       "      <td>Douro</td>\n",
       "      <td>NaN</td>\n",
       "      <td>NaN</td>\n",
       "      <td>Roger Voss</td>\n",
       "      <td>@vossroger</td>\n",
       "      <td>Quinta dos Avidagos 2011 Avidagos Red (Douro)</td>\n",
       "      <td>Portuguese Red</td>\n",
       "      <td>Quinta dos Avidagos</td>\n",
       "    </tr>\n",
       "    <tr>\n",
       "      <th>3</th>\n",
       "      <td>US</td>\n",
       "      <td>Pineapple rind, lemon pith and orange blossom ...</td>\n",
       "      <td>Reserve Late Harvest</td>\n",
       "      <td>87</td>\n",
       "      <td>13.0</td>\n",
       "      <td>Michigan</td>\n",
       "      <td>Lake Michigan Shore</td>\n",
       "      <td>NaN</td>\n",
       "      <td>Alexander Peartree</td>\n",
       "      <td>NaN</td>\n",
       "      <td>St. Julian 2013 Reserve Late Harvest Riesling ...</td>\n",
       "      <td>Riesling</td>\n",
       "      <td>St. Julian</td>\n",
       "    </tr>\n",
       "    <tr>\n",
       "      <th>5</th>\n",
       "      <td>Spain</td>\n",
       "      <td>Blackberry and raspberry aromas show a typical...</td>\n",
       "      <td>Ars In Vitro</td>\n",
       "      <td>87</td>\n",
       "      <td>15.0</td>\n",
       "      <td>Northern Spain</td>\n",
       "      <td>Navarra</td>\n",
       "      <td>NaN</td>\n",
       "      <td>Michael Schachner</td>\n",
       "      <td>@wineschach</td>\n",
       "      <td>Tandem 2011 Ars In Vitro Tempranillo-Merlot (N...</td>\n",
       "      <td>Tempranillo-Merlot</td>\n",
       "      <td>Tandem</td>\n",
       "    </tr>\n",
       "    <tr>\n",
       "      <th>6</th>\n",
       "      <td>Italy</td>\n",
       "      <td>Here's a bright, informal red that opens with ...</td>\n",
       "      <td>Belsito</td>\n",
       "      <td>87</td>\n",
       "      <td>16.0</td>\n",
       "      <td>Sicily &amp; Sardinia</td>\n",
       "      <td>Vittoria</td>\n",
       "      <td>NaN</td>\n",
       "      <td>Kerin O’Keefe</td>\n",
       "      <td>@kerinokeefe</td>\n",
       "      <td>Terre di Giurfo 2013 Belsito Frappato (Vittoria)</td>\n",
       "      <td>Frappato</td>\n",
       "      <td>Terre di Giurfo</td>\n",
       "    </tr>\n",
       "    <tr>\n",
       "      <th>...</th>\n",
       "      <td>...</td>\n",
       "      <td>...</td>\n",
       "      <td>...</td>\n",
       "      <td>...</td>\n",
       "      <td>...</td>\n",
       "      <td>...</td>\n",
       "      <td>...</td>\n",
       "      <td>...</td>\n",
       "      <td>...</td>\n",
       "      <td>...</td>\n",
       "      <td>...</td>\n",
       "      <td>...</td>\n",
       "      <td>...</td>\n",
       "    </tr>\n",
       "    <tr>\n",
       "      <th>129967</th>\n",
       "      <td>US</td>\n",
       "      <td>Citation is given as much as a decade of bottl...</td>\n",
       "      <td>NaN</td>\n",
       "      <td>90</td>\n",
       "      <td>75.0</td>\n",
       "      <td>Oregon</td>\n",
       "      <td>Oregon</td>\n",
       "      <td>Oregon Other</td>\n",
       "      <td>Paul Gregutt</td>\n",
       "      <td>@paulgwine</td>\n",
       "      <td>Citation 2004 Pinot Noir (Oregon)</td>\n",
       "      <td>Pinot Noir</td>\n",
       "      <td>Citation</td>\n",
       "    </tr>\n",
       "    <tr>\n",
       "      <th>129968</th>\n",
       "      <td>France</td>\n",
       "      <td>Well-drained gravel soil gives this wine its c...</td>\n",
       "      <td>Kritt</td>\n",
       "      <td>90</td>\n",
       "      <td>30.0</td>\n",
       "      <td>Alsace</td>\n",
       "      <td>Alsace</td>\n",
       "      <td>NaN</td>\n",
       "      <td>Roger Voss</td>\n",
       "      <td>@vossroger</td>\n",
       "      <td>Domaine Gresser 2013 Kritt Gewurztraminer (Als...</td>\n",
       "      <td>Gewürztraminer</td>\n",
       "      <td>Domaine Gresser</td>\n",
       "    </tr>\n",
       "    <tr>\n",
       "      <th>129969</th>\n",
       "      <td>France</td>\n",
       "      <td>A dry style of Pinot Gris, this is crisp with ...</td>\n",
       "      <td>NaN</td>\n",
       "      <td>90</td>\n",
       "      <td>32.0</td>\n",
       "      <td>Alsace</td>\n",
       "      <td>Alsace</td>\n",
       "      <td>NaN</td>\n",
       "      <td>Roger Voss</td>\n",
       "      <td>@vossroger</td>\n",
       "      <td>Domaine Marcel Deiss 2012 Pinot Gris (Alsace)</td>\n",
       "      <td>Pinot Gris</td>\n",
       "      <td>Domaine Marcel Deiss</td>\n",
       "    </tr>\n",
       "    <tr>\n",
       "      <th>129970</th>\n",
       "      <td>France</td>\n",
       "      <td>Big, rich and off-dry, this is powered by inte...</td>\n",
       "      <td>Lieu-dit Harth Cuvée Caroline</td>\n",
       "      <td>90</td>\n",
       "      <td>21.0</td>\n",
       "      <td>Alsace</td>\n",
       "      <td>Alsace</td>\n",
       "      <td>NaN</td>\n",
       "      <td>Roger Voss</td>\n",
       "      <td>@vossroger</td>\n",
       "      <td>Domaine Schoffit 2012 Lieu-dit Harth Cuvée Car...</td>\n",
       "      <td>Gewürztraminer</td>\n",
       "      <td>Domaine Schoffit</td>\n",
       "    </tr>\n",
       "  </tbody>\n",
       "</table>\n",
       "<p>129968 rows × 13 columns</p>\n",
       "</div>"
      ],
      "text/plain": [
       "         country                                        description  \\\n",
       "1       Portugal  This is ripe and fruity, a wine that is smooth...   \n",
       "3             US  Pineapple rind, lemon pith and orange blossom ...   \n",
       "5          Spain  Blackberry and raspberry aromas show a typical...   \n",
       "6          Italy  Here's a bright, informal red that opens with ...   \n",
       "...          ...                                                ...   \n",
       "129967        US  Citation is given as much as a decade of bottl...   \n",
       "129968    France  Well-drained gravel soil gives this wine its c...   \n",
       "129969    France  A dry style of Pinot Gris, this is crisp with ...   \n",
       "129970    France  Big, rich and off-dry, this is powered by inte...   \n",
       "\n",
       "                          designation  points  price           province  \\\n",
       "1                            Avidagos      87   15.0              Douro   \n",
       "3                Reserve Late Harvest      87   13.0           Michigan   \n",
       "5                        Ars In Vitro      87   15.0     Northern Spain   \n",
       "6                             Belsito      87   16.0  Sicily & Sardinia   \n",
       "...                               ...     ...    ...                ...   \n",
       "129967                            NaN      90   75.0             Oregon   \n",
       "129968                          Kritt      90   30.0             Alsace   \n",
       "129969                            NaN      90   32.0             Alsace   \n",
       "129970  Lieu-dit Harth Cuvée Caroline      90   21.0             Alsace   \n",
       "\n",
       "                   region_1      region_2         taster_name  \\\n",
       "1                       NaN           NaN          Roger Voss   \n",
       "3       Lake Michigan Shore           NaN  Alexander Peartree   \n",
       "5                   Navarra           NaN   Michael Schachner   \n",
       "6                  Vittoria           NaN       Kerin O’Keefe   \n",
       "...                     ...           ...                 ...   \n",
       "129967               Oregon  Oregon Other        Paul Gregutt   \n",
       "129968               Alsace           NaN          Roger Voss   \n",
       "129969               Alsace           NaN          Roger Voss   \n",
       "129970               Alsace           NaN          Roger Voss   \n",
       "\n",
       "       taster_twitter_handle  \\\n",
       "1                 @vossroger   \n",
       "3                        NaN   \n",
       "5                @wineschach   \n",
       "6               @kerinokeefe   \n",
       "...                      ...   \n",
       "129967           @paulgwine    \n",
       "129968            @vossroger   \n",
       "129969            @vossroger   \n",
       "129970            @vossroger   \n",
       "\n",
       "                                                    title             variety  \\\n",
       "1           Quinta dos Avidagos 2011 Avidagos Red (Douro)      Portuguese Red   \n",
       "3       St. Julian 2013 Reserve Late Harvest Riesling ...            Riesling   \n",
       "5       Tandem 2011 Ars In Vitro Tempranillo-Merlot (N...  Tempranillo-Merlot   \n",
       "6        Terre di Giurfo 2013 Belsito Frappato (Vittoria)            Frappato   \n",
       "...                                                   ...                 ...   \n",
       "129967                  Citation 2004 Pinot Noir (Oregon)          Pinot Noir   \n",
       "129968  Domaine Gresser 2013 Kritt Gewurztraminer (Als...      Gewürztraminer   \n",
       "129969      Domaine Marcel Deiss 2012 Pinot Gris (Alsace)          Pinot Gris   \n",
       "129970  Domaine Schoffit 2012 Lieu-dit Harth Cuvée Car...      Gewürztraminer   \n",
       "\n",
       "                      winery  \n",
       "1        Quinta dos Avidagos  \n",
       "3                 St. Julian  \n",
       "5                     Tandem  \n",
       "6            Terre di Giurfo  \n",
       "...                      ...  \n",
       "129967              Citation  \n",
       "129968       Domaine Gresser  \n",
       "129969  Domaine Marcel Deiss  \n",
       "129970      Domaine Schoffit  \n",
       "\n",
       "[129968 rows x 13 columns]"
      ]
     },
     "execution_count": 49,
     "metadata": {},
     "output_type": "execute_result"
    }
   ],
   "source": [
    "reviews.drop([0, 2, 4], axis=0)"
   ]
  },
  {
   "cell_type": "markdown",
   "id": "dbc8a345",
   "metadata": {},
   "source": [
    "Das Ersetzen hat den Vorteil, dass keine Informationen verloren gehen. Allerdings kann der Datensatz durch das Hinzufügen künstlicher Daten verfälscht werden. Ein Verzerrung der Daten findet beim Löschen nicht statt. Man verliert dadurch jedoch potentiell wertvolle Informationen.\n",
    "\n",
    "**Generell gilt:** Je weniger Daten in der gleichen Zeile oder Spalte fehlen, desto eher greift man zur Methode der Ersetzung. Je mehr Daten in der gleichen Zeile oder Spalte fehlen, desto eher greift man zur Methode der Entfernung von Daten."
   ]
  },
  {
   "cell_type": "markdown",
   "id": "73c64d93",
   "metadata": {},
   "source": [
    "#### Na gut, wie Sie gesehen haben, kann man mit Pandas allein doch ein bisschen mehr anfangen, als nur mit Mehl beim Backen. In der Praxis wollen Sie aber fast immer zusätzlich weitere Bibliotheken nutzen. Dazu mehr in den anderen Notebooks."
   ]
  },
  {
   "cell_type": "markdown",
   "id": "453edd51",
   "metadata": {},
   "source": [
    "## Anmerkung\n",
    "\n",
    "Es gibt ein wichtiges Detail, auf das bisher noch nicht eingegangen wurde. Bei der Bearbeitung von Objekten gibt es grundsätzlich zwei Vorgehensweisen: Das Objekt selbst bearbeiten oder eine bearbeitete Kopie zurückgeben. Die meisten der hier verwendeten Methoden geben eine bearbeite Kopie zurück. Damit Sie auf dem Objekt selbst arbeiten können, besitzen viele Methoden den Parameter `inplace`, den Sie auf `True`setzen können. Natürlich können Sie auch folgende Syntax verwenden: `reviews = reviews.dropna(axis=1)`.\n",
    "\n",
    "Wichtig ist vor allem, sich bewusst darüber zu sein, mit welche der beiden Möglichkeiten eine Methode arbeitet, um Fehler zu vermeiden."
   ]
  },
  {
   "cell_type": "markdown",
   "id": "2c1f1861",
   "metadata": {},
   "source": [
    "## Übungsaufgaben\n",
    "\n",
    "Es wird dazu geraten, die Übungsabschnitte in der vorgegebenen Reihenfolge zu bearbeiten und mit dem im Abschnitt *Fehlende Daten behandeln* erstellten DataFrame `df` weiter zu arbeiten. Andernfalls kann es zu unerwartetem Verhalten bei den Lösungen kommen.\n",
    "\n",
    "### Fehlende Daten behandeln\n",
    "\n",
    "Erstellen Sie eine Kopie des DataFrame `reviews` und nennen Sie es `df`. Es ist eine gute Praxis, die Originaldaten unberührt zu lassen und stattdessen auf einer Kopie zu arbeiten. Lassen sie sich anschließend eine Übersicht über die Anzahl der fehlenden Werte pro Spalte ausgeben."
   ]
  },
  {
   "cell_type": "code",
   "execution_count": 50,
   "id": "70805bd3",
   "metadata": {},
   "outputs": [
    {
     "data": {
      "text/plain": [
       "country                     63\n",
       "description                  0\n",
       "designation              37465\n",
       "points                       0\n",
       "price                     8996\n",
       "province                    63\n",
       "region_1                 21247\n",
       "region_2                 79460\n",
       "taster_name              26244\n",
       "taster_twitter_handle    31213\n",
       "title                        0\n",
       "variety                      1\n",
       "winery                       0\n",
       "dtype: int64"
      ]
     },
     "execution_count": 50,
     "metadata": {},
     "output_type": "execute_result"
    }
   ],
   "source": [
    "pd.set_option('display.max_rows', 13)\n",
    "\n",
    "# fügen Sie hier Ihren Code ein:\n",
    "df = reviews.copy()\n",
    "df.isna().sum()"
   ]
  },
  {
   "cell_type": "markdown",
   "id": "df1f901e",
   "metadata": {},
   "source": [
    "Beim Land und der Provinz handelt es sich um Informationen, zwischen denen ein logischer Zusammenhang besteht. Außerdem fehlen bei beiden genau gleich viele Einträge. Die Vermutung liegt daher nahe, es handelt sich um die gleichen Zeilen, in denen die jeweiligen Einträge fehlen. Überprüfen Sie diese Vermutung."
   ]
  },
  {
   "cell_type": "code",
   "execution_count": 51,
   "id": "b0fe1e2c",
   "metadata": {},
   "outputs": [
    {
     "data": {
      "text/plain": [
       "True"
      ]
     },
     "execution_count": 51,
     "metadata": {},
     "output_type": "execute_result"
    }
   ],
   "source": [
    "len(df.loc[reviews.country.isna() | df.province.isna()]) == len(df.loc[reviews.country.isna()])"
   ]
  },
  {
   "cell_type": "markdown",
   "id": "cf6ea0a2",
   "metadata": {},
   "source": [
    "Entfernen Sie alle Zeilen, bei denen das Land, die Provinz oder die Weinsorte fehlt."
   ]
  },
  {
   "cell_type": "code",
   "execution_count": 52,
   "id": "0f658cc4",
   "metadata": {},
   "outputs": [],
   "source": [
    "# bei country und province fehlen die gleichen Zeilen, daher können wir uns df.province.isna() sparen\n",
    "to_drop = df.loc[df.country.isna() | df.variety.isna()]\n",
    "df = df.drop(to_drop.index)"
   ]
  },
  {
   "cell_type": "markdown",
   "id": "dfb0b0f2",
   "metadata": {},
   "source": [
    "Entfernen Sie nun alle Spalten, die mindestens 30000 fehlende Einträge enthalten."
   ]
  },
  {
   "cell_type": "code",
   "execution_count": 53,
   "id": "1d4001b4",
   "metadata": {},
   "outputs": [],
   "source": [
    "thresh = len(df) - 30000\n",
    "df = df.dropna(axis=1, thresh=thresh)"
   ]
  },
  {
   "cell_type": "markdown",
   "id": "ca546bc5",
   "metadata": {},
   "source": [
    "Schauen Sie sich erneut die Übersicht der fehlenden Werte an."
   ]
  },
  {
   "cell_type": "code",
   "execution_count": 54,
   "id": "bb98b884",
   "metadata": {},
   "outputs": [
    {
     "data": {
      "text/plain": [
       "country            0\n",
       "description        0\n",
       "points             0\n",
       "price           8992\n",
       "province           0\n",
       "region_1       21183\n",
       "taster_name    26243\n",
       "title              0\n",
       "variety            0\n",
       "winery             0\n",
       "dtype: int64"
      ]
     },
     "execution_count": 54,
     "metadata": {},
     "output_type": "execute_result"
    }
   ],
   "source": [
    "df.isna().sum()"
   ]
  },
  {
   "cell_type": "markdown",
   "id": "6d2f6aaf",
   "metadata": {},
   "source": [
    "Ersetzen Sie fehlende Einträge in der Preisspalte durch den durchschnittlichen Preis."
   ]
  },
  {
   "cell_type": "code",
   "execution_count": 55,
   "id": "2ce65fda",
   "metadata": {},
   "outputs": [],
   "source": [
    "mean_price = df.price.mean()\n",
    "df.price = df.price.fillna(mean_price)"
   ]
  },
  {
   "cell_type": "markdown",
   "id": "7753a657",
   "metadata": {},
   "source": [
    "Ersetzen Sie alle anderen fehlenden Werte durch den String `'keine Angabe'`."
   ]
  },
  {
   "cell_type": "code",
   "execution_count": 56,
   "id": "2bc7ccab",
   "metadata": {},
   "outputs": [],
   "source": [
    "df = df.fillna('keine Angabe')"
   ]
  },
  {
   "cell_type": "markdown",
   "id": "a833e1c9",
   "metadata": {},
   "source": [
    "Überprüfen Sie, ob es nun noch fehlenden Werte im DataFrame gibt."
   ]
  },
  {
   "cell_type": "code",
   "execution_count": 57,
   "id": "d316412d",
   "metadata": {},
   "outputs": [
    {
     "data": {
      "text/plain": [
       "country        0\n",
       "description    0\n",
       "points         0\n",
       "price          0\n",
       "province       0\n",
       "region_1       0\n",
       "taster_name    0\n",
       "title          0\n",
       "variety        0\n",
       "winery         0\n",
       "dtype: int64"
      ]
     },
     "execution_count": 57,
     "metadata": {},
     "output_type": "execute_result"
    }
   ],
   "source": [
    "df.isna().sum()"
   ]
  },
  {
   "cell_type": "code",
   "execution_count": 58,
   "id": "58f16ac4",
   "metadata": {},
   "outputs": [
    {
     "data": {
      "text/plain": [
       "0"
      ]
     },
     "execution_count": 58,
     "metadata": {},
     "output_type": "execute_result"
    }
   ],
   "source": [
    "# alternativ:\n",
    "df.isna().sum().sum()"
   ]
  },
  {
   "cell_type": "markdown",
   "id": "1b7d3924",
   "metadata": {},
   "source": [
    "### Die Mehrfachnennungen der Beschreibungen\n",
    "\n",
    "Es ist doch etwas verwunderlich, dass verschiedene Weine die auf den Wortlaut gleiche Beschreibung bekommen sollen. Schauen Sie sich die Zeilen mit der folgenden Beschreibung an:\n",
    "\n",
    "`'Seductively tart in lemon pith, cranberry and pomegranate, this refreshing, light-bodied quaff is infinitely enjoyable, both on its own or at the table. It continues to expand on the palate into an increasing array of fresh flavors, finishing in cherry and orange.'`"
   ]
  },
  {
   "cell_type": "code",
   "execution_count": 59,
   "id": "c52aeb5b",
   "metadata": {},
   "outputs": [
    {
     "data": {
      "text/html": [
       "<div>\n",
       "<style scoped>\n",
       "    .dataframe tbody tr th:only-of-type {\n",
       "        vertical-align: middle;\n",
       "    }\n",
       "\n",
       "    .dataframe tbody tr th {\n",
       "        vertical-align: top;\n",
       "    }\n",
       "\n",
       "    .dataframe thead th {\n",
       "        text-align: right;\n",
       "    }\n",
       "</style>\n",
       "<table border=\"1\" class=\"dataframe\">\n",
       "  <thead>\n",
       "    <tr style=\"text-align: right;\">\n",
       "      <th></th>\n",
       "      <th>country</th>\n",
       "      <th>description</th>\n",
       "      <th>points</th>\n",
       "      <th>price</th>\n",
       "      <th>province</th>\n",
       "      <th>region_1</th>\n",
       "      <th>taster_name</th>\n",
       "      <th>title</th>\n",
       "      <th>variety</th>\n",
       "      <th>winery</th>\n",
       "    </tr>\n",
       "  </thead>\n",
       "  <tbody>\n",
       "    <tr>\n",
       "      <th>12141</th>\n",
       "      <td>US</td>\n",
       "      <td>Seductively tart in lemon pith, cranberry and ...</td>\n",
       "      <td>91</td>\n",
       "      <td>29.0</td>\n",
       "      <td>California</td>\n",
       "      <td>Russian River Valley</td>\n",
       "      <td>Virginie Boone</td>\n",
       "      <td>Ousterhout 2014 Woods Vineyard Rosé of Pinot N...</td>\n",
       "      <td>Pinot Noir</td>\n",
       "      <td>Ousterhout</td>\n",
       "    </tr>\n",
       "    <tr>\n",
       "      <th>51822</th>\n",
       "      <td>US</td>\n",
       "      <td>Seductively tart in lemon pith, cranberry and ...</td>\n",
       "      <td>89</td>\n",
       "      <td>25.0</td>\n",
       "      <td>California</td>\n",
       "      <td>Russian River Valley</td>\n",
       "      <td>Virginie Boone</td>\n",
       "      <td>Ousterhout 2014 800 Vines Jenna's Vineyard Ros...</td>\n",
       "      <td>Pinot Noir</td>\n",
       "      <td>Ousterhout</td>\n",
       "    </tr>\n",
       "    <tr>\n",
       "      <th>119866</th>\n",
       "      <td>US</td>\n",
       "      <td>Seductively tart in lemon pith, cranberry and ...</td>\n",
       "      <td>89</td>\n",
       "      <td>25.0</td>\n",
       "      <td>California</td>\n",
       "      <td>Russian River Valley</td>\n",
       "      <td>Virginie Boone</td>\n",
       "      <td>Ousterhout 2014 800 Vines Jenna's Vineyard Ros...</td>\n",
       "      <td>Pinot Noir</td>\n",
       "      <td>Ousterhout</td>\n",
       "    </tr>\n",
       "  </tbody>\n",
       "</table>\n",
       "</div>"
      ],
      "text/plain": [
       "       country                                        description  points  \\\n",
       "12141       US  Seductively tart in lemon pith, cranberry and ...      91   \n",
       "51822       US  Seductively tart in lemon pith, cranberry and ...      89   \n",
       "119866      US  Seductively tart in lemon pith, cranberry and ...      89   \n",
       "\n",
       "        price    province              region_1     taster_name  \\\n",
       "12141    29.0  California  Russian River Valley  Virginie Boone   \n",
       "51822    25.0  California  Russian River Valley  Virginie Boone   \n",
       "119866   25.0  California  Russian River Valley  Virginie Boone   \n",
       "\n",
       "                                                    title     variety  \\\n",
       "12141   Ousterhout 2014 Woods Vineyard Rosé of Pinot N...  Pinot Noir   \n",
       "51822   Ousterhout 2014 800 Vines Jenna's Vineyard Ros...  Pinot Noir   \n",
       "119866  Ousterhout 2014 800 Vines Jenna's Vineyard Ros...  Pinot Noir   \n",
       "\n",
       "            winery  \n",
       "12141   Ousterhout  \n",
       "51822   Ousterhout  \n",
       "119866  Ousterhout  "
      ]
     },
     "execution_count": 59,
     "metadata": {},
     "output_type": "execute_result"
    }
   ],
   "source": [
    "df.loc[df.description == 'Seductively tart in lemon pith, cranberry and pomegranate, this refreshing, light-bodied quaff is infinitely enjoyable, both on its own or at the table. It continues to expand on the palate into an increasing array of fresh flavors, finishing in cherry and orange.']"
   ]
  },
  {
   "cell_type": "markdown",
   "id": "2a85c368",
   "metadata": {},
   "source": [
    "Was fällt Ihnen auf? Überprüfen Sie, ob die letzten beiden Zeilen wirklich identisch sind und in welchen Spalten sich die ersten beiden Zeilen unterscheiden."
   ]
  },
  {
   "cell_type": "code",
   "execution_count": 60,
   "id": "88649e8c",
   "metadata": {},
   "outputs": [
    {
     "data": {
      "text/plain": [
       "country        True\n",
       "description    True\n",
       "points         True\n",
       "price          True\n",
       "province       True\n",
       "region_1       True\n",
       "taster_name    True\n",
       "title          True\n",
       "variety        True\n",
       "winery         True\n",
       "dtype: bool"
      ]
     },
     "execution_count": 60,
     "metadata": {},
     "output_type": "execute_result"
    }
   ],
   "source": [
    "df.loc[51822] == df.loc[119866]"
   ]
  },
  {
   "cell_type": "code",
   "execution_count": 61,
   "id": "ed2326c4",
   "metadata": {},
   "outputs": [
    {
     "data": {
      "text/plain": [
       "country         True\n",
       "description     True\n",
       "points         False\n",
       "price          False\n",
       "province        True\n",
       "region_1        True\n",
       "taster_name     True\n",
       "title          False\n",
       "variety         True\n",
       "winery          True\n",
       "dtype: bool"
      ]
     },
     "execution_count": 61,
     "metadata": {},
     "output_type": "execute_result"
    }
   ],
   "source": [
    "df.loc[51822] == df.loc[12141]"
   ]
  },
  {
   "cell_type": "markdown",
   "id": "d71beb45",
   "metadata": {},
   "source": [
    "Pandas bringt die Methode drop_duplicates mit, die es erlaubt mehrfach auftretende Zeilen zu löschen."
   ]
  },
  {
   "cell_type": "code",
   "execution_count": 62,
   "id": "e307c097",
   "metadata": {},
   "outputs": [],
   "source": [
    "df = df.drop_duplicates()\n",
    "# stehen lassen!!"
   ]
  },
  {
   "cell_type": "markdown",
   "id": "ea9654b2",
   "metadata": {},
   "source": [
    "Wir schauen uns die Bezeichnungen der beiden Weine genauer an:"
   ]
  },
  {
   "cell_type": "code",
   "execution_count": 63,
   "id": "9bde2dc2",
   "metadata": {},
   "outputs": [
    {
     "name": "stdout",
     "output_type": "stream",
     "text": [
      "Ousterhout 2014 Woods Vineyard Rosé of Pinot Noir (Russian River Valley)\n",
      "Ousterhout 2014 800 Vines Jenna's Vineyard Rosé of Pinot Noir (Russian River Valley)\n"
     ]
    }
   ],
   "source": [
    "multi_descr = df.loc[df.description == 'Seductively tart in lemon pith, cranberry and pomegranate, this refreshing, light-bodied quaff is infinitely enjoyable, both on its own or at the table. It continues to expand on the palate into an increasing array of fresh flavors, finishing in cherry and orange.']\n",
    "for title in multi_descr.title:\n",
    "    print(title)\n",
    "# stehen lassen!!"
   ]
  },
  {
   "cell_type": "markdown",
   "id": "ff1b61dc",
   "metadata": {},
   "source": [
    "Aufgrund der ähnlichen Bezeichnungen und der exakt gleichen Beschreibungen lässt sich vermuten, dass es sich etwa um zwei verschiedene Editionen des gleichen Weins handelt. Neben dem Preis ist auch die Punktbewertung unterschiedlich. Um dieses Phänomen besser zu verstehen, müsste man sich mit dem Thema Wein besser auskennen oder den Autor der Daten fragen.\n",
    "\n",
    "Für uns hat es sich aber schon deshalb gelohnt, sich die Wiederholung der Beschreibungen anzuschauen, da wir dadurch bemerkt haben, dass es doppelte Zeilen gab. Dies kann man natürlich unabhängig vom einem konkreten Verdacht überprüfen."
   ]
  },
  {
   "cell_type": "markdown",
   "id": "48647d02",
   "metadata": {},
   "source": [
    "### Das Preisleistungsverhältnis\n",
    "\n",
    "Fügen Sie dem DataFrame eine Spalte hinzu, in der das Preisleistungsverhältnis (Punkte durch Preis) abgebildet wird."
   ]
  },
  {
   "cell_type": "code",
   "execution_count": 64,
   "id": "f6304b66",
   "metadata": {},
   "outputs": [
    {
     "data": {
      "text/html": [
       "<div>\n",
       "<style scoped>\n",
       "    .dataframe tbody tr th:only-of-type {\n",
       "        vertical-align: middle;\n",
       "    }\n",
       "\n",
       "    .dataframe tbody tr th {\n",
       "        vertical-align: top;\n",
       "    }\n",
       "\n",
       "    .dataframe thead th {\n",
       "        text-align: right;\n",
       "    }\n",
       "</style>\n",
       "<table border=\"1\" class=\"dataframe\">\n",
       "  <thead>\n",
       "    <tr style=\"text-align: right;\">\n",
       "      <th></th>\n",
       "      <th>country</th>\n",
       "      <th>description</th>\n",
       "      <th>points</th>\n",
       "      <th>price</th>\n",
       "      <th>province</th>\n",
       "      <th>region_1</th>\n",
       "      <th>taster_name</th>\n",
       "      <th>title</th>\n",
       "      <th>variety</th>\n",
       "      <th>winery</th>\n",
       "      <th>cost_performance_ratio</th>\n",
       "    </tr>\n",
       "  </thead>\n",
       "  <tbody>\n",
       "    <tr>\n",
       "      <th>0</th>\n",
       "      <td>Italy</td>\n",
       "      <td>Aromas include tropical fruit, broom, brimston...</td>\n",
       "      <td>87</td>\n",
       "      <td>35.368796</td>\n",
       "      <td>Sicily &amp; Sardinia</td>\n",
       "      <td>Etna</td>\n",
       "      <td>Kerin O’Keefe</td>\n",
       "      <td>Nicosia 2013 Vulkà Bianco  (Etna)</td>\n",
       "      <td>White Blend</td>\n",
       "      <td>Nicosia</td>\n",
       "      <td>2.459795</td>\n",
       "    </tr>\n",
       "    <tr>\n",
       "      <th>1</th>\n",
       "      <td>Portugal</td>\n",
       "      <td>This is ripe and fruity, a wine that is smooth...</td>\n",
       "      <td>87</td>\n",
       "      <td>15.000000</td>\n",
       "      <td>Douro</td>\n",
       "      <td>keine Angabe</td>\n",
       "      <td>Roger Voss</td>\n",
       "      <td>Quinta dos Avidagos 2011 Avidagos Red (Douro)</td>\n",
       "      <td>Portuguese Red</td>\n",
       "      <td>Quinta dos Avidagos</td>\n",
       "      <td>5.800000</td>\n",
       "    </tr>\n",
       "    <tr>\n",
       "      <th>2</th>\n",
       "      <td>US</td>\n",
       "      <td>Tart and snappy, the flavors of lime flesh and...</td>\n",
       "      <td>87</td>\n",
       "      <td>14.000000</td>\n",
       "      <td>Oregon</td>\n",
       "      <td>Willamette Valley</td>\n",
       "      <td>Paul Gregutt</td>\n",
       "      <td>Rainstorm 2013 Pinot Gris (Willamette Valley)</td>\n",
       "      <td>Pinot Gris</td>\n",
       "      <td>Rainstorm</td>\n",
       "      <td>6.214286</td>\n",
       "    </tr>\n",
       "    <tr>\n",
       "      <th>3</th>\n",
       "      <td>US</td>\n",
       "      <td>Pineapple rind, lemon pith and orange blossom ...</td>\n",
       "      <td>87</td>\n",
       "      <td>13.000000</td>\n",
       "      <td>Michigan</td>\n",
       "      <td>Lake Michigan Shore</td>\n",
       "      <td>Alexander Peartree</td>\n",
       "      <td>St. Julian 2013 Reserve Late Harvest Riesling ...</td>\n",
       "      <td>Riesling</td>\n",
       "      <td>St. Julian</td>\n",
       "      <td>6.692308</td>\n",
       "    </tr>\n",
       "    <tr>\n",
       "      <th>4</th>\n",
       "      <td>US</td>\n",
       "      <td>Much like the regular bottling from 2012, this...</td>\n",
       "      <td>87</td>\n",
       "      <td>65.000000</td>\n",
       "      <td>Oregon</td>\n",
       "      <td>Willamette Valley</td>\n",
       "      <td>Paul Gregutt</td>\n",
       "      <td>Sweet Cheeks 2012 Vintner's Reserve Wild Child...</td>\n",
       "      <td>Pinot Noir</td>\n",
       "      <td>Sweet Cheeks</td>\n",
       "      <td>1.338462</td>\n",
       "    </tr>\n",
       "  </tbody>\n",
       "</table>\n",
       "</div>"
      ],
      "text/plain": [
       "    country                                        description  points  \\\n",
       "0     Italy  Aromas include tropical fruit, broom, brimston...      87   \n",
       "1  Portugal  This is ripe and fruity, a wine that is smooth...      87   \n",
       "2        US  Tart and snappy, the flavors of lime flesh and...      87   \n",
       "3        US  Pineapple rind, lemon pith and orange blossom ...      87   \n",
       "4        US  Much like the regular bottling from 2012, this...      87   \n",
       "\n",
       "       price           province             region_1         taster_name  \\\n",
       "0  35.368796  Sicily & Sardinia                 Etna       Kerin O’Keefe   \n",
       "1  15.000000              Douro         keine Angabe          Roger Voss   \n",
       "2  14.000000             Oregon    Willamette Valley        Paul Gregutt   \n",
       "3  13.000000           Michigan  Lake Michigan Shore  Alexander Peartree   \n",
       "4  65.000000             Oregon    Willamette Valley        Paul Gregutt   \n",
       "\n",
       "                                               title         variety  \\\n",
       "0                  Nicosia 2013 Vulkà Bianco  (Etna)     White Blend   \n",
       "1      Quinta dos Avidagos 2011 Avidagos Red (Douro)  Portuguese Red   \n",
       "2      Rainstorm 2013 Pinot Gris (Willamette Valley)      Pinot Gris   \n",
       "3  St. Julian 2013 Reserve Late Harvest Riesling ...        Riesling   \n",
       "4  Sweet Cheeks 2012 Vintner's Reserve Wild Child...      Pinot Noir   \n",
       "\n",
       "                winery  cost_performance_ratio  \n",
       "0              Nicosia                2.459795  \n",
       "1  Quinta dos Avidagos                5.800000  \n",
       "2            Rainstorm                6.214286  \n",
       "3           St. Julian                6.692308  \n",
       "4         Sweet Cheeks                1.338462  "
      ]
     },
     "execution_count": 64,
     "metadata": {},
     "output_type": "execute_result"
    }
   ],
   "source": [
    "pd.set_option('display.max_rows', 8)\n",
    "\n",
    "# fügen Sie hier Ihren Code ein:\n",
    "df.loc[:, 'cost_performance_ratio'] = (df.points / df.price)\n",
    "df.head()"
   ]
  },
  {
   "cell_type": "markdown",
   "id": "3d54b4be",
   "metadata": {},
   "source": [
    "Erstellen Sie eine Übersicht über das Preisleistungsverhältnis, die Minimum, Maximum, Durchschnitt, Median und Standardabweichung enthält."
   ]
  },
  {
   "cell_type": "code",
   "execution_count": 65,
   "id": "686dd0a5",
   "metadata": {},
   "outputs": [
    {
     "data": {
      "text/plain": [
       "count    119928.000000\n",
       "mean          3.747257\n",
       "std           2.177169\n",
       "min           0.026667\n",
       "25%           2.200000\n",
       "50%           3.178571\n",
       "75%           4.944444\n",
       "max          21.500000\n",
       "Name: cost_performance_ratio, dtype: float64"
      ]
     },
     "execution_count": 65,
     "metadata": {},
     "output_type": "execute_result"
    }
   ],
   "source": [
    "df.cost_performance_ratio.describe()"
   ]
  },
  {
   "cell_type": "markdown",
   "id": "48c77e8e",
   "metadata": {},
   "source": [
    "Welche Weine haben das beste Preisleistungsverhältnis?"
   ]
  },
  {
   "cell_type": "code",
   "execution_count": 66,
   "id": "ad2a45c4",
   "metadata": {},
   "outputs": [
    {
     "name": "stdout",
     "output_type": "stream",
     "text": [
      "Bandit NV Merlot (California)\n",
      "Cramele Recas 2011 UnWineD Pinot Grigio (Viile Timisului)\n"
     ]
    }
   ],
   "source": [
    "best = df.loc[df.cost_performance_ratio == df.cost_performance_ratio.max()]\n",
    "for wine in best.title:\n",
    "    print(wine)"
   ]
  },
  {
   "cell_type": "markdown",
   "id": "b67d4dd7",
   "metadata": {},
   "source": [
    "Welche Weinsorte bietet durchschnittlich das beste Preisleistungsverhältnis und wie hoch ist dieses?"
   ]
  },
  {
   "cell_type": "code",
   "execution_count": 67,
   "id": "69eb509c",
   "metadata": {},
   "outputs": [
    {
     "name": "stdout",
     "output_type": "stream",
     "text": [
      "Trajadura\n",
      "12.285714285714286\n"
     ]
    }
   ],
   "source": [
    "print(df.groupby('variety')['cost_performance_ratio'].mean().idxmax())\n",
    "print(df.groupby('variety')['cost_performance_ratio'].mean().max())"
   ]
  },
  {
   "cell_type": "markdown",
   "id": "5e40a9ce",
   "metadata": {},
   "source": [
    "### Weitere Übungsaufgaben\n",
    "\n",
    "Wie viele unterschiedliche Tester gibt es? Wer hat die meisten Weine bewertet und wer die wenigsten? ('keine Angabe' sollte nicht berücksichtigt werden)"
   ]
  },
  {
   "cell_type": "code",
   "execution_count": 68,
   "id": "22bf9101",
   "metadata": {},
   "outputs": [
    {
     "name": "stdout",
     "output_type": "stream",
     "text": [
      "19\n",
      "Christina Pickard\n",
      "Roger Voss\n"
     ]
    }
   ],
   "source": [
    "taster = df.taster_name.loc[df.taster_name != 'keine Angabe']\n",
    "print(len(taster.unique()))\n",
    "print(taster.value_counts().idxmin())\n",
    "print(taster.value_counts().idxmax())"
   ]
  },
  {
   "cell_type": "markdown",
   "id": "e86551a7",
   "metadata": {},
   "source": [
    "Erstellen Sie eine Series, die ein Kürzel aus je drei Buchstaben für Land, Provinz und Region_1 enthält. Für den ersten Eintrag würde es so aussehen: Ita_Sic_Etn. Fügen Sie diese Series als Spalte zum DataFrame df hinzu und schauen sie sich ein paar Zeilen des neue DataFrames an."
   ]
  },
  {
   "cell_type": "code",
   "execution_count": 69,
   "id": "99161071",
   "metadata": {},
   "outputs": [
    {
     "data": {
      "text/html": [
       "<div>\n",
       "<style scoped>\n",
       "    .dataframe tbody tr th:only-of-type {\n",
       "        vertical-align: middle;\n",
       "    }\n",
       "\n",
       "    .dataframe tbody tr th {\n",
       "        vertical-align: top;\n",
       "    }\n",
       "\n",
       "    .dataframe thead th {\n",
       "        text-align: right;\n",
       "    }\n",
       "</style>\n",
       "<table border=\"1\" class=\"dataframe\">\n",
       "  <thead>\n",
       "    <tr style=\"text-align: right;\">\n",
       "      <th></th>\n",
       "      <th>country</th>\n",
       "      <th>description</th>\n",
       "      <th>points</th>\n",
       "      <th>price</th>\n",
       "      <th>province</th>\n",
       "      <th>region_1</th>\n",
       "      <th>taster_name</th>\n",
       "      <th>title</th>\n",
       "      <th>variety</th>\n",
       "      <th>winery</th>\n",
       "      <th>cost_performance_ratio</th>\n",
       "      <th>acronym</th>\n",
       "    </tr>\n",
       "  </thead>\n",
       "  <tbody>\n",
       "    <tr>\n",
       "      <th>0</th>\n",
       "      <td>Italy</td>\n",
       "      <td>Aromas include tropical fruit, broom, brimston...</td>\n",
       "      <td>87</td>\n",
       "      <td>35.368796</td>\n",
       "      <td>Sicily &amp; Sardinia</td>\n",
       "      <td>Etna</td>\n",
       "      <td>Kerin O’Keefe</td>\n",
       "      <td>Nicosia 2013 Vulkà Bianco  (Etna)</td>\n",
       "      <td>White Blend</td>\n",
       "      <td>Nicosia</td>\n",
       "      <td>2.459795</td>\n",
       "      <td>Ita_Sic_Etn</td>\n",
       "    </tr>\n",
       "    <tr>\n",
       "      <th>1</th>\n",
       "      <td>Portugal</td>\n",
       "      <td>This is ripe and fruity, a wine that is smooth...</td>\n",
       "      <td>87</td>\n",
       "      <td>15.000000</td>\n",
       "      <td>Douro</td>\n",
       "      <td>keine Angabe</td>\n",
       "      <td>Roger Voss</td>\n",
       "      <td>Quinta dos Avidagos 2011 Avidagos Red (Douro)</td>\n",
       "      <td>Portuguese Red</td>\n",
       "      <td>Quinta dos Avidagos</td>\n",
       "      <td>5.800000</td>\n",
       "      <td>Por_Dou_kei</td>\n",
       "    </tr>\n",
       "    <tr>\n",
       "      <th>2</th>\n",
       "      <td>US</td>\n",
       "      <td>Tart and snappy, the flavors of lime flesh and...</td>\n",
       "      <td>87</td>\n",
       "      <td>14.000000</td>\n",
       "      <td>Oregon</td>\n",
       "      <td>Willamette Valley</td>\n",
       "      <td>Paul Gregutt</td>\n",
       "      <td>Rainstorm 2013 Pinot Gris (Willamette Valley)</td>\n",
       "      <td>Pinot Gris</td>\n",
       "      <td>Rainstorm</td>\n",
       "      <td>6.214286</td>\n",
       "      <td>US_Ore_Wil</td>\n",
       "    </tr>\n",
       "    <tr>\n",
       "      <th>3</th>\n",
       "      <td>US</td>\n",
       "      <td>Pineapple rind, lemon pith and orange blossom ...</td>\n",
       "      <td>87</td>\n",
       "      <td>13.000000</td>\n",
       "      <td>Michigan</td>\n",
       "      <td>Lake Michigan Shore</td>\n",
       "      <td>Alexander Peartree</td>\n",
       "      <td>St. Julian 2013 Reserve Late Harvest Riesling ...</td>\n",
       "      <td>Riesling</td>\n",
       "      <td>St. Julian</td>\n",
       "      <td>6.692308</td>\n",
       "      <td>US_Mic_Lak</td>\n",
       "    </tr>\n",
       "    <tr>\n",
       "      <th>4</th>\n",
       "      <td>US</td>\n",
       "      <td>Much like the regular bottling from 2012, this...</td>\n",
       "      <td>87</td>\n",
       "      <td>65.000000</td>\n",
       "      <td>Oregon</td>\n",
       "      <td>Willamette Valley</td>\n",
       "      <td>Paul Gregutt</td>\n",
       "      <td>Sweet Cheeks 2012 Vintner's Reserve Wild Child...</td>\n",
       "      <td>Pinot Noir</td>\n",
       "      <td>Sweet Cheeks</td>\n",
       "      <td>1.338462</td>\n",
       "      <td>US_Ore_Wil</td>\n",
       "    </tr>\n",
       "  </tbody>\n",
       "</table>\n",
       "</div>"
      ],
      "text/plain": [
       "    country                                        description  points  \\\n",
       "0     Italy  Aromas include tropical fruit, broom, brimston...      87   \n",
       "1  Portugal  This is ripe and fruity, a wine that is smooth...      87   \n",
       "2        US  Tart and snappy, the flavors of lime flesh and...      87   \n",
       "3        US  Pineapple rind, lemon pith and orange blossom ...      87   \n",
       "4        US  Much like the regular bottling from 2012, this...      87   \n",
       "\n",
       "       price           province             region_1         taster_name  \\\n",
       "0  35.368796  Sicily & Sardinia                 Etna       Kerin O’Keefe   \n",
       "1  15.000000              Douro         keine Angabe          Roger Voss   \n",
       "2  14.000000             Oregon    Willamette Valley        Paul Gregutt   \n",
       "3  13.000000           Michigan  Lake Michigan Shore  Alexander Peartree   \n",
       "4  65.000000             Oregon    Willamette Valley        Paul Gregutt   \n",
       "\n",
       "                                               title         variety  \\\n",
       "0                  Nicosia 2013 Vulkà Bianco  (Etna)     White Blend   \n",
       "1      Quinta dos Avidagos 2011 Avidagos Red (Douro)  Portuguese Red   \n",
       "2      Rainstorm 2013 Pinot Gris (Willamette Valley)      Pinot Gris   \n",
       "3  St. Julian 2013 Reserve Late Harvest Riesling ...        Riesling   \n",
       "4  Sweet Cheeks 2012 Vintner's Reserve Wild Child...      Pinot Noir   \n",
       "\n",
       "                winery  cost_performance_ratio      acronym  \n",
       "0              Nicosia                2.459795  Ita_Sic_Etn  \n",
       "1  Quinta dos Avidagos                5.800000  Por_Dou_kei  \n",
       "2            Rainstorm                6.214286   US_Ore_Wil  \n",
       "3           St. Julian                6.692308   US_Mic_Lak  \n",
       "4         Sweet Cheeks                1.338462   US_Ore_Wil  "
      ]
     },
     "execution_count": 69,
     "metadata": {},
     "output_type": "execute_result"
    }
   ],
   "source": [
    "acronym = df.country.map(lambda p: str(p)[0:3]) + '_' + df.province.map(lambda p: str(p)[0:3]) + '_' + df.region_1.map(lambda p: str(p)[0:3])\n",
    "df.loc[:, 'acronym'] = acronym\n",
    "df.head()"
   ]
  },
  {
   "cell_type": "markdown",
   "id": "0cde56c0",
   "metadata": {},
   "source": [
    "Finden Sie alle Weine, deren Punktzahl außerhalb der einfachen Standardabweichung des Durchschnitts liegen. (Also alle Weine, deren Punktzahl nicht im Bereich von mean-std bis mean+std liegen.)"
   ]
  },
  {
   "cell_type": "code",
   "execution_count": 70,
   "id": "adabea6d",
   "metadata": {},
   "outputs": [
    {
     "data": {
      "text/html": [
       "<div>\n",
       "<style scoped>\n",
       "    .dataframe tbody tr th:only-of-type {\n",
       "        vertical-align: middle;\n",
       "    }\n",
       "\n",
       "    .dataframe tbody tr th {\n",
       "        vertical-align: top;\n",
       "    }\n",
       "\n",
       "    .dataframe thead th {\n",
       "        text-align: right;\n",
       "    }\n",
       "</style>\n",
       "<table border=\"1\" class=\"dataframe\">\n",
       "  <thead>\n",
       "    <tr style=\"text-align: right;\">\n",
       "      <th></th>\n",
       "      <th>country</th>\n",
       "      <th>description</th>\n",
       "      <th>points</th>\n",
       "      <th>price</th>\n",
       "      <th>province</th>\n",
       "      <th>region_1</th>\n",
       "      <th>taster_name</th>\n",
       "      <th>title</th>\n",
       "      <th>variety</th>\n",
       "      <th>winery</th>\n",
       "      <th>cost_performance_ratio</th>\n",
       "      <th>acronym</th>\n",
       "    </tr>\n",
       "  </thead>\n",
       "  <tbody>\n",
       "    <tr>\n",
       "      <th>51</th>\n",
       "      <td>Chile</td>\n",
       "      <td>This is much different than Casa Silva's 2009 ...</td>\n",
       "      <td>85</td>\n",
       "      <td>22.000000</td>\n",
       "      <td>Colchagua Valley</td>\n",
       "      <td>keine Angabe</td>\n",
       "      <td>Michael Schachner</td>\n",
       "      <td>Casa Silva 2008 Gran Reserva Petit Verdot (Col...</td>\n",
       "      <td>Petit Verdot</td>\n",
       "      <td>Casa Silva</td>\n",
       "      <td>3.863636</td>\n",
       "      <td>Chi_Col_kei</td>\n",
       "    </tr>\n",
       "    <tr>\n",
       "      <th>52</th>\n",
       "      <td>Italy</td>\n",
       "      <td>The Monica grape often shows a rustic or raw q...</td>\n",
       "      <td>85</td>\n",
       "      <td>14.000000</td>\n",
       "      <td>Sicily &amp; Sardinia</td>\n",
       "      <td>Monica di Sardegna</td>\n",
       "      <td>keine Angabe</td>\n",
       "      <td>Cantine di Dolianova 2010 Dolia  (Monica di Sa...</td>\n",
       "      <td>Monica</td>\n",
       "      <td>Cantine di Dolianova</td>\n",
       "      <td>6.071429</td>\n",
       "      <td>Ita_Sic_Mon</td>\n",
       "    </tr>\n",
       "    <tr>\n",
       "      <th>53</th>\n",
       "      <td>France</td>\n",
       "      <td>Fruity and lightly herbaceous, this has fine t...</td>\n",
       "      <td>85</td>\n",
       "      <td>15.000000</td>\n",
       "      <td>Bordeaux</td>\n",
       "      <td>Bordeaux Blanc</td>\n",
       "      <td>Roger Voss</td>\n",
       "      <td>Château de Sours 2011 La Fleur d'Amélie  (Bord...</td>\n",
       "      <td>Bordeaux-style White Blend</td>\n",
       "      <td>Château de Sours</td>\n",
       "      <td>5.666667</td>\n",
       "      <td>Fra_Bor_Bor</td>\n",
       "    </tr>\n",
       "    <tr>\n",
       "      <th>54</th>\n",
       "      <td>Italy</td>\n",
       "      <td>A blend of Nero d'Avola and Nerello Mascalese,...</td>\n",
       "      <td>85</td>\n",
       "      <td>35.368796</td>\n",
       "      <td>Sicily &amp; Sardinia</td>\n",
       "      <td>Sicilia</td>\n",
       "      <td>keine Angabe</td>\n",
       "      <td>Corvo 2010 Rosso Red (Sicilia)</td>\n",
       "      <td>Red Blend</td>\n",
       "      <td>Corvo</td>\n",
       "      <td>2.403248</td>\n",
       "      <td>Ita_Sic_Sic</td>\n",
       "    </tr>\n",
       "    <tr>\n",
       "      <th>...</th>\n",
       "      <td>...</td>\n",
       "      <td>...</td>\n",
       "      <td>...</td>\n",
       "      <td>...</td>\n",
       "      <td>...</td>\n",
       "      <td>...</td>\n",
       "      <td>...</td>\n",
       "      <td>...</td>\n",
       "      <td>...</td>\n",
       "      <td>...</td>\n",
       "      <td>...</td>\n",
       "      <td>...</td>\n",
       "    </tr>\n",
       "    <tr>\n",
       "      <th>129679</th>\n",
       "      <td>US</td>\n",
       "      <td>From a ranch planted originally in 1926 this i...</td>\n",
       "      <td>93</td>\n",
       "      <td>47.000000</td>\n",
       "      <td>California</td>\n",
       "      <td>Russian River Valley</td>\n",
       "      <td>Virginie Boone</td>\n",
       "      <td>Carlisle 2014 Montafi Ranch Zinfandel (Russian...</td>\n",
       "      <td>Zinfandel</td>\n",
       "      <td>Carlisle</td>\n",
       "      <td>1.978723</td>\n",
       "      <td>US_Cal_Rus</td>\n",
       "    </tr>\n",
       "    <tr>\n",
       "      <th>129680</th>\n",
       "      <td>Portugal</td>\n",
       "      <td>Old vines in a field blend give a rich structu...</td>\n",
       "      <td>93</td>\n",
       "      <td>39.000000</td>\n",
       "      <td>Douro</td>\n",
       "      <td>keine Angabe</td>\n",
       "      <td>Roger Voss</td>\n",
       "      <td>Casca Wines 2011 Monte Cascas Grande Reserva R...</td>\n",
       "      <td>Portuguese Red</td>\n",
       "      <td>Casca Wines</td>\n",
       "      <td>2.384615</td>\n",
       "      <td>Por_Dou_kei</td>\n",
       "    </tr>\n",
       "    <tr>\n",
       "      <th>129681</th>\n",
       "      <td>Italy</td>\n",
       "      <td>Ripe black-skinned berry, violet, leather and ...</td>\n",
       "      <td>93</td>\n",
       "      <td>60.000000</td>\n",
       "      <td>Piedmont</td>\n",
       "      <td>Barbaresco</td>\n",
       "      <td>Kerin O’Keefe</td>\n",
       "      <td>Cascina delle Rose 2013 Tre Stelle  (Barbaresco)</td>\n",
       "      <td>Nebbiolo</td>\n",
       "      <td>Cascina delle Rose</td>\n",
       "      <td>1.550000</td>\n",
       "      <td>Ita_Pie_Bar</td>\n",
       "    </tr>\n",
       "    <tr>\n",
       "      <th>129682</th>\n",
       "      <td>US</td>\n",
       "      <td>After helping Liquid Farm launch to Chardonnay...</td>\n",
       "      <td>93</td>\n",
       "      <td>60.000000</td>\n",
       "      <td>California</td>\n",
       "      <td>Santa Barbara County</td>\n",
       "      <td>Matt Kettmann</td>\n",
       "      <td>Dragonette 2014 Duvarita Vineyard Chardonnay (...</td>\n",
       "      <td>Chardonnay</td>\n",
       "      <td>Dragonette</td>\n",
       "      <td>1.550000</td>\n",
       "      <td>US_Cal_San</td>\n",
       "    </tr>\n",
       "  </tbody>\n",
       "</table>\n",
       "<p>42282 rows × 12 columns</p>\n",
       "</div>"
      ],
      "text/plain": [
       "         country                                        description  points  \\\n",
       "51         Chile  This is much different than Casa Silva's 2009 ...      85   \n",
       "52         Italy  The Monica grape often shows a rustic or raw q...      85   \n",
       "53        France  Fruity and lightly herbaceous, this has fine t...      85   \n",
       "54         Italy  A blend of Nero d'Avola and Nerello Mascalese,...      85   \n",
       "...          ...                                                ...     ...   \n",
       "129679        US  From a ranch planted originally in 1926 this i...      93   \n",
       "129680  Portugal  Old vines in a field blend give a rich structu...      93   \n",
       "129681     Italy  Ripe black-skinned berry, violet, leather and ...      93   \n",
       "129682        US  After helping Liquid Farm launch to Chardonnay...      93   \n",
       "\n",
       "            price           province              region_1        taster_name  \\\n",
       "51      22.000000   Colchagua Valley          keine Angabe  Michael Schachner   \n",
       "52      14.000000  Sicily & Sardinia    Monica di Sardegna       keine Angabe   \n",
       "53      15.000000           Bordeaux        Bordeaux Blanc         Roger Voss   \n",
       "54      35.368796  Sicily & Sardinia               Sicilia       keine Angabe   \n",
       "...           ...                ...                   ...                ...   \n",
       "129679  47.000000         California  Russian River Valley     Virginie Boone   \n",
       "129680  39.000000              Douro          keine Angabe         Roger Voss   \n",
       "129681  60.000000           Piedmont            Barbaresco      Kerin O’Keefe   \n",
       "129682  60.000000         California  Santa Barbara County      Matt Kettmann   \n",
       "\n",
       "                                                    title  \\\n",
       "51      Casa Silva 2008 Gran Reserva Petit Verdot (Col...   \n",
       "52      Cantine di Dolianova 2010 Dolia  (Monica di Sa...   \n",
       "53      Château de Sours 2011 La Fleur d'Amélie  (Bord...   \n",
       "54                         Corvo 2010 Rosso Red (Sicilia)   \n",
       "...                                                   ...   \n",
       "129679  Carlisle 2014 Montafi Ranch Zinfandel (Russian...   \n",
       "129680  Casca Wines 2011 Monte Cascas Grande Reserva R...   \n",
       "129681   Cascina delle Rose 2013 Tre Stelle  (Barbaresco)   \n",
       "129682  Dragonette 2014 Duvarita Vineyard Chardonnay (...   \n",
       "\n",
       "                           variety                winery  \\\n",
       "51                    Petit Verdot            Casa Silva   \n",
       "52                          Monica  Cantine di Dolianova   \n",
       "53      Bordeaux-style White Blend      Château de Sours   \n",
       "54                       Red Blend                 Corvo   \n",
       "...                            ...                   ...   \n",
       "129679                   Zinfandel              Carlisle   \n",
       "129680              Portuguese Red           Casca Wines   \n",
       "129681                    Nebbiolo    Cascina delle Rose   \n",
       "129682                  Chardonnay            Dragonette   \n",
       "\n",
       "        cost_performance_ratio      acronym  \n",
       "51                    3.863636  Chi_Col_kei  \n",
       "52                    6.071429  Ita_Sic_Mon  \n",
       "53                    5.666667  Fra_Bor_Bor  \n",
       "54                    2.403248  Ita_Sic_Sic  \n",
       "...                        ...          ...  \n",
       "129679                1.978723   US_Cal_Rus  \n",
       "129680                2.384615  Por_Dou_kei  \n",
       "129681                1.550000  Ita_Pie_Bar  \n",
       "129682                1.550000   US_Cal_San  \n",
       "\n",
       "[42282 rows x 12 columns]"
      ]
     },
     "execution_count": 70,
     "metadata": {},
     "output_type": "execute_result"
    }
   ],
   "source": [
    "std = df.points.std()\n",
    "mean = df.points.mean()\n",
    "df.loc[(df.points < mean - std) | (df.points > mean + std)]"
   ]
  }
 ],
 "metadata": {
  "kernelspec": {
   "display_name": "Python 3 (ipykernel)",
   "language": "python",
   "name": "python3"
  },
  "language_info": {
   "codemirror_mode": {
    "name": "ipython",
    "version": 3
   },
   "file_extension": ".py",
   "mimetype": "text/x-python",
   "name": "python",
   "nbconvert_exporter": "python",
   "pygments_lexer": "ipython3",
   "version": "3.9.13"
  }
 },
 "nbformat": 4,
 "nbformat_minor": 5
}
