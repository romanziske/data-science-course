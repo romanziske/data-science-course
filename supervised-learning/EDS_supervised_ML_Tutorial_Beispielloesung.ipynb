{
 "cells": [
  {
   "cell_type": "markdown",
   "id": "deb46166",
   "metadata": {
    "id": "deb46166"
   },
   "source": [
    "# Supervised Machine Learning Tutorial #"
   ]
  },
  {
   "cell_type": "markdown",
   "id": "9cc8e3dd",
   "metadata": {},
   "source": [
    "Willkommen zum Tutorial zu Supervised Machine Learning in Python. In diesem Tutorial werden wir mittels verschiedener Bibliotheken einen Datensatz analysieren. Dabei erstellen wir auch selbst Modelle, um das Überleben von Passagieren auf der Titanic vorherzusehen."
   ]
  },
  {
   "cell_type": "markdown",
   "id": "1c9771b8",
   "metadata": {},
   "source": [
    "## Data Exploration ##"
   ]
  },
  {
   "cell_type": "markdown",
   "id": "72ea198d",
   "metadata": {},
   "source": [
    "### Importieren von Bibliotheken ###"
   ]
  },
  {
   "cell_type": "markdown",
   "id": "d05b09ef",
   "metadata": {},
   "source": [
    "In diesem Tutorial nutzen wir verschiedene Bibliotheken:\n",
    "* [`pandas`](https://pandas.pydata.org/) zum Einlesen und Verarbeiten der Daten. Sie können sie schon aus dem entsprechenden Tutorial kennen\n",
    "* [`seaborn`](https://seaborn.pydata.org/) ist eine Erweiterung von `matplotlib`, die schönere Graphen einfacher macht.\n",
    "* [`pyplot`](https://matplotlib.org/stable/api/pyplot_summary.html) benötigen wir, um einige Detailanpassungen an den Graphen von `seaborn` vorzunehmen\n",
    "* [`scikit-learn`](https://scikit-learn.org/stable/index.html) ist eine Machine Learning Library, die uns verschiedenste Machine Learning Funktionen anbietet. In diesem Tutorial nutzen wir vier verschiedene Klassifikatoren und ein paar Datenverarbeitungsschritte sowie ein paar Auswertungsmetriken. Da die Bibliothek selbst sehr viel mehr Möglichkeiten enthält, importieren wir nur diese ausgewählten Teile.\n",
    "* `IPython` wird genutzt, um Bilder in diesem Tutorial anzuzeigen."
   ]
  },
  {
   "cell_type": "code",
   "execution_count": null,
   "id": "f647d72b",
   "metadata": {
    "executionInfo": {
     "elapsed": 1550,
     "status": "ok",
     "timestamp": 1648054113127,
     "user": {
      "displayName": "Tim Shi",
      "photoUrl": "https://lh3.googleusercontent.com/a/default-user=s64",
      "userId": "17369980549133513961"
     },
     "user_tz": -60
    },
    "id": "f647d72b"
   },
   "outputs": [],
   "source": [
    "import pandas as pd\n",
    "import seaborn as sns\n",
    "from matplotlib import pyplot as plt\n",
    "from IPython.display import Image\n",
    "\n",
    "\n",
    "from sklearn.tree import DecisionTreeClassifier, plot_tree\n",
    "from sklearn.ensemble import RandomForestClassifier\n",
    "from sklearn.svm import SVC\n",
    "from sklearn.neural_network import MLPClassifier\n",
    "\n",
    "from sklearn.model_selection import train_test_split\n",
    "from sklearn.preprocessing import StandardScaler\n",
    "from sklearn.metrics import classification_report, confusion_matrix"
   ]
  },
  {
   "cell_type": "markdown",
   "id": "0a882f3b",
   "metadata": {
    "id": "0a882f3b"
   },
   "source": [
    "### Datenimport ###"
   ]
  },
  {
   "cell_type": "markdown",
   "id": "ace735e5",
   "metadata": {},
   "source": [
    "Zuerst lesen wir die Daten aus der Datei `titanic.csv` mittels `pandas` in einen `dataframe` ein. Wir gehen dabei davon aus, dass die Datei im gleichen Verzeichnis wie dieses Notebook liegt."
   ]
  },
  {
   "cell_type": "code",
   "execution_count": null,
   "id": "223935b6",
   "metadata": {},
   "outputs": [],
   "source": [
    "df = pd.read_csv(\"titanic.csv\")"
   ]
  },
  {
   "cell_type": "markdown",
   "id": "62a7b8a5",
   "metadata": {
    "id": "62a7b8a5"
   },
   "source": [
    "Um einen Überblick über den Datensatz zu bekommen, können wir über das `head`-Kommando die Header jeder Spalte sowie die ersten 5 Zeilen des Datensatzes betrachten."
   ]
  },
  {
   "cell_type": "code",
   "execution_count": null,
   "id": "17fb57ec",
   "metadata": {
    "colab": {
     "base_uri": "https://localhost:8080/",
     "height": 206
    },
    "executionInfo": {
     "elapsed": 349,
     "status": "ok",
     "timestamp": 1648054114894,
     "user": {
      "displayName": "Tim Shi",
      "photoUrl": "https://lh3.googleusercontent.com/a/default-user=s64",
      "userId": "17369980549133513961"
     },
     "user_tz": -60
    },
    "id": "17fb57ec",
    "outputId": "701d1692-e5e2-419e-ffc8-0500aaccc44a"
   },
   "outputs": [],
   "source": [
    "df.head()"
   ]
  },
  {
   "cell_type": "markdown",
   "id": "b6f48c81",
   "metadata": {
    "id": "b6f48c81"
   },
   "source": [
    "Wir stellen fest, dass jeder Passagier eine aufsteigende *PassengerID* , einen Namen (*Name*), ein Geschlecht (*Sex*), ein Alter (*Age*), eine Klasse (*Pclass*) und einen Fahrpreis (*Fare*) hat. Bei der Kabinennummer (*Cabin*) sehen wir bereits, dass diese Information nicht für alle Gäste vorliegt. Die Spalte *SibSp* gibt an, mit wie vielen nahe Verwandten (Geschwister bzw. Ehepartner) und die Spalte *Parch* mit wie vielen Eltern bzw. Kindern ein Passagier gereist ist. Die Spalte *Embarked* gibt den Hafen des Zustiegs an (Southampton, Cherbourg und Queenstown)"
   ]
  },
  {
   "cell_type": "markdown",
   "id": "2dcfdae7",
   "metadata": {},
   "source": [
    "Nun, da wir einen Überblick über die Semantik der Spalten gewonnen haben, versuchen wir auch, einen Überblick über den Inhalt des Datensatzes zu bekommen. Dafür rufen wir `info()` auf unserem Datensatz auf."
   ]
  },
  {
   "cell_type": "code",
   "execution_count": null,
   "id": "5a7bb69f",
   "metadata": {
    "colab": {
     "base_uri": "https://localhost:8080/"
    },
    "executionInfo": {
     "elapsed": 20,
     "status": "ok",
     "timestamp": 1648054114897,
     "user": {
      "displayName": "Tim Shi",
      "photoUrl": "https://lh3.googleusercontent.com/a/default-user=s64",
      "userId": "17369980549133513961"
     },
     "user_tz": -60
    },
    "id": "5a7bb69f",
    "outputId": "25ff1813-fec7-477c-ed6f-3523c4f0e732"
   },
   "outputs": [],
   "source": [
    "df.info()"
   ]
  },
  {
   "cell_type": "markdown",
   "id": "4ce16b55",
   "metadata": {
    "id": "4ce16b55"
   },
   "source": [
    "Wir erhalten eine Zusammenfassung zu jeder Spalte. Sowohl der Datentyp, als auch die Anzahl der validen Werte pro Spalte (*Non-Null Count*) wird angegeben. Während alle Datentypen stimmen, sehen wir, dass das Alter nur für 714 der 891 Passagiere bekannt ist. Auch die Kabinennummer und der Herkunftshafen enthalten leere Einträge. Solche Einträge können bei verschiedenen ML-Algorithmen zu fehlerhaften Verhalten führen, sodass wir vor Erstellen unserer Modelle eine Reinigung der Daten vornehmen müssen."
   ]
  },
  {
   "cell_type": "markdown",
   "id": "9f537644",
   "metadata": {},
   "source": [
    "Um genauere Informationen und erste statistische Werte zu den einzelnen Spalten zu erhalten, nutzen wir die `describe`-Methode."
   ]
  },
  {
   "cell_type": "code",
   "execution_count": null,
   "id": "1f7f3c0e",
   "metadata": {
    "colab": {
     "base_uri": "https://localhost:8080/",
     "height": 300
    },
    "executionInfo": {
     "elapsed": 19,
     "status": "ok",
     "timestamp": 1648054114898,
     "user": {
      "displayName": "Tim Shi",
      "photoUrl": "https://lh3.googleusercontent.com/a/default-user=s64",
      "userId": "17369980549133513961"
     },
     "user_tz": -60
    },
    "id": "1f7f3c0e",
    "outputId": "40ca5799-1cce-48cf-d259-40251cdff2a7"
   },
   "outputs": [],
   "source": [
    "df.describe()"
   ]
  },
  {
   "cell_type": "markdown",
   "id": "0e72a71f",
   "metadata": {
    "id": "0e72a71f"
   },
   "source": [
    "So erhalten wir zu jeder nummerischen Spalte den Mittelwert, die Standardabweichung, Mini- und Maximum so wie die Quartile. Wir können zum Beispiel auf den ersten Blick sehen, dass die Überlebensquote bei 38,3% liegt und das Durchschnittsalter bei etwa 29,7 Jahren."
   ]
  },
  {
   "cell_type": "markdown",
   "id": "d243d278",
   "metadata": {},
   "source": [
    "Bei kategorischen Werten können wir uns die einzigartigen Werte anschauen, indem wir `unique()` auf der entsprechenden Spalte aufrufen."
   ]
  },
  {
   "cell_type": "code",
   "execution_count": null,
   "id": "18d55dcf",
   "metadata": {
    "colab": {
     "base_uri": "https://localhost:8080/"
    },
    "executionInfo": {
     "elapsed": 18,
     "status": "ok",
     "timestamp": 1648054114899,
     "user": {
      "displayName": "Tim Shi",
      "photoUrl": "https://lh3.googleusercontent.com/a/default-user=s64",
      "userId": "17369980549133513961"
     },
     "user_tz": -60
    },
    "id": "18d55dcf",
    "outputId": "05efe34e-a1a6-4244-d677-f1f672db698c"
   },
   "outputs": [],
   "source": [
    "df.Embarked.unique()"
   ]
  },
  {
   "cell_type": "markdown",
   "id": "d334cc35",
   "metadata": {
    "id": "d334cc35"
   },
   "source": [
    "So sehen wir hier zum Beispiel, dass die Kürzel der drei vorher genannten Häfen neben dem leeren Wert die einzigen Werte sind."
   ]
  },
  {
   "cell_type": "markdown",
   "id": "d10aa8f6",
   "metadata": {
    "id": "d10aa8f6"
   },
   "source": [
    "Nun betrachten wir die Daten etas genauer. Zuerst prüfen wir, ob die Überlebensrate bei Frauen tatsächlich höher war als bei Männern. Dafür wählen wir zuerst alle Passagier mit dem Geschlecht `female` aus."
   ]
  },
  {
   "cell_type": "code",
   "execution_count": null,
   "id": "329db724",
   "metadata": {
    "colab": {
     "base_uri": "https://localhost:8080/",
     "height": 424
    },
    "executionInfo": {
     "elapsed": 15,
     "status": "ok",
     "timestamp": 1648054114899,
     "user": {
      "displayName": "Tim Shi",
      "photoUrl": "https://lh3.googleusercontent.com/a/default-user=s64",
      "userId": "17369980549133513961"
     },
     "user_tz": -60
    },
    "id": "329db724",
    "outputId": "c2d42d61-b8c3-4e41-bcf2-0b77af84d474"
   },
   "outputs": [],
   "source": [
    "women = df.loc[df.Sex == 'female']\n",
    "women"
   ]
  },
  {
   "cell_type": "markdown",
   "id": "2e83b831",
   "metadata": {
    "id": "2e83b831"
   },
   "source": [
    "Nachdem wir nun die für die Überlebensquote relevanten *Zeilen* gewählt haben, beschränken wir nun auch die *Spalten* auf `survived`."
   ]
  },
  {
   "cell_type": "code",
   "execution_count": null,
   "id": "92e55429",
   "metadata": {
    "colab": {
     "base_uri": "https://localhost:8080/"
    },
    "executionInfo": {
     "elapsed": 15,
     "status": "ok",
     "timestamp": 1648054114900,
     "user": {
      "displayName": "Tim Shi",
      "photoUrl": "https://lh3.googleusercontent.com/a/default-user=s64",
      "userId": "17369980549133513961"
     },
     "user_tz": -60
    },
    "id": "92e55429",
    "outputId": "dd21992a-03bf-40b8-b821-310e243fa47e"
   },
   "outputs": [],
   "source": [
    "women = women['Survived']\n",
    "women"
   ]
  },
  {
   "cell_type": "markdown",
   "id": "a79186d3",
   "metadata": {
    "id": "a79186d3"
   },
   "source": [
    "Jetzt müssen wir nur noch die Anzahl der Überlebenden (`survived=1`) durch die Gesamtzahl der Frauen teilen, um die Überlebensrate zu bestimmen."
   ]
  },
  {
   "cell_type": "code",
   "execution_count": null,
   "id": "2275d070",
   "metadata": {
    "colab": {
     "base_uri": "https://localhost:8080/"
    },
    "executionInfo": {
     "elapsed": 13,
     "status": "ok",
     "timestamp": 1648054114901,
     "user": {
      "displayName": "Tim Shi",
      "photoUrl": "https://lh3.googleusercontent.com/a/default-user=s64",
      "userId": "17369980549133513961"
     },
     "user_tz": -60
    },
    "id": "2275d070",
    "outputId": "19114301-68d6-47a4-af8e-4028bcb93c07"
   },
   "outputs": [],
   "source": [
    "survival_rate_women = sum(women)/len(women)\n",
    "survival_rate_women"
   ]
  },
  {
   "cell_type": "markdown",
   "id": "0b875335",
   "metadata": {
    "id": "0b875335"
   },
   "source": [
    "**Aufgaben**:\n",
    "1.  Bestimmen Sie, wie viele Klassen es an Bord der Titanic gab\n",
    "2.  Bestimmen Sie das maximale Alter eines männlichen Passagiers\n",
    "3.  Bestimme Sie die Überlebensrate der Passagiere in der ersten Klasse"
   ]
  },
  {
   "cell_type": "code",
   "execution_count": null,
   "id": "4f407561",
   "metadata": {},
   "outputs": [],
   "source": [
    "df.Pclass.unique()"
   ]
  },
  {
   "cell_type": "code",
   "execution_count": null,
   "id": "77a06c61",
   "metadata": {},
   "outputs": [],
   "source": [
    "men = df[df.Sex == \"male\"][\"Age\"]\n",
    "men.max()"
   ]
  },
  {
   "cell_type": "code",
   "execution_count": null,
   "id": "261dc129",
   "metadata": {},
   "outputs": [],
   "source": [
    "first_class = df.loc[df.Pclass == 1]['Survived']\n",
    "survival_first_class = sum(first_class)/len(first_class)\n",
    "survival_first_class"
   ]
  },
  {
   "cell_type": "markdown",
   "id": "243e0070",
   "metadata": {
    "id": "243e0070"
   },
   "source": [
    "## Datenvisualisierung ##"
   ]
  },
  {
   "cell_type": "markdown",
   "id": "891c87e2",
   "metadata": {},
   "source": [
    "Die `seaborn`-Bibliothek ist eine große Hilfe, um matplotlib-Code zu vereinfachen und ermöglicht viele Grafiken mit nur einer Zeile Code. So zum lässt sich zum Beispiel mit einem `countplot` die Anzahl der Passagiere pro Geschlecht plotten. Da `seaborn` mit Hilfe von `matplotlib` arbeitet, können wir durch eine Änderung in `pyplot` (importiert als `plt`) die Y-Achse korrekt labeln."
   ]
  },
  {
   "cell_type": "code",
   "execution_count": null,
   "id": "17f0009f",
   "metadata": {
    "colab": {
     "base_uri": "https://localhost:8080/",
     "height": 298
    },
    "executionInfo": {
     "elapsed": 302,
     "status": "ok",
     "timestamp": 1648054115402,
     "user": {
      "displayName": "Tim Shi",
      "photoUrl": "https://lh3.googleusercontent.com/a/default-user=s64",
      "userId": "17369980549133513961"
     },
     "user_tz": -60
    },
    "id": "17f0009f",
    "outputId": "bf93cc86-9163-4163-c3d6-360403df6070"
   },
   "outputs": [],
   "source": [
    "sns.countplot(data=df, x='Sex').set_xlabel('Geschlecht')\n",
    "plt.ylabel(\"Anzahl\")"
   ]
  },
  {
   "cell_type": "markdown",
   "id": "9cad4a7d",
   "metadata": {
    "id": "9cad4a7d"
   },
   "source": [
    "Wir können auch ein Säulendiagramm (`barplot`) nutzen, um die Überlebensrate nach Geschlecht darzustellen. Dafür übergeben wir als `y`-parameter die Säule *Survived*. Seaborn stellt für uns dann den Durchschnitt des `y`-Werts (hier **Survival**) für jede Kategorie der `x`-Achse (hier **sex**) dar, was hier genau der Überlebensrate entspricht."
   ]
  },
  {
   "cell_type": "code",
   "execution_count": null,
   "id": "2039d646",
   "metadata": {},
   "outputs": [],
   "source": [
    "sns.barplot(data=df, x='Sex', y='Survived').set_xlabel('Geschlecht')\n",
    "plt.ylabel(\"Überlebensrate\")"
   ]
  },
  {
   "cell_type": "markdown",
   "id": "5a5e5d99",
   "metadata": {},
   "source": [
    "Als Nächstes erstellen wir ein Histogramm mithilfe der Funktion `histplot`. Wir teilen dabei in 20 `bins` entsprechend des Alters. Zusätzlich zeigen wir eine geglätte Kurve (`kernel density estimat`) über die Verteilung an."
   ]
  },
  {
   "cell_type": "code",
   "execution_count": null,
   "id": "d91d1401",
   "metadata": {},
   "outputs": [],
   "source": [
    "sns.histplot(data=df, x='Age', bins=20, kde=True).set_xlabel('Alter')\n",
    "plt.ylabel(\"Anzahl\")"
   ]
  },
  {
   "cell_type": "markdown",
   "id": "3833df40",
   "metadata": {},
   "source": [
    "Zum Schluss erzeugen wir ein Streudiagramm (`scatterplot`), dass das Alter und den Fahrtpreis der Passagiere in Kombination zeigt. Dabei lassen wir einzelne Punkte so einfärben, dass man ihre Klasse erkennen kann (`hue`)."
   ]
  },
  {
   "cell_type": "code",
   "execution_count": null,
   "id": "ea617a29",
   "metadata": {},
   "outputs": [],
   "source": [
    "sns.scatterplot(df, x=\"Age\", y=\"Fare\", hue = \"Pclass\").set_xlabel(\"Alter\")\n",
    "plt.ylabel(\"Fahrtpreis\")"
   ]
  },
  {
   "cell_type": "markdown",
   "id": "41b70059",
   "metadata": {},
   "source": [
    "**Aufgaben**\n",
    "1.  Erstellen Sie ein Säulendiagramm über das Durchschnittsalter pro Klasse\n",
    "2.  Erstellen Sie ein Säulendiagramm, dass die Anzahl der Passagiere pro Klasse darstellt.\n",
    "3.  Erstellen Sie ein Histogramm über den Fahrtpreis mit 20 Bins."
   ]
  },
  {
   "cell_type": "code",
   "execution_count": null,
   "id": "da36c0d1",
   "metadata": {},
   "outputs": [],
   "source": [
    "sns.barplot(data=df, x='Pclass', y='Age').set_xlabel('Klasse')\n",
    "plt.ylabel(\"Durchschnittsalter\")"
   ]
  },
  {
   "cell_type": "code",
   "execution_count": null,
   "id": "7185874f",
   "metadata": {},
   "outputs": [],
   "source": [
    "sns.countplot(data=df, x='Pclass').set_xlabel('Klasse')\n",
    "plt.ylabel(\"Anzahl\")"
   ]
  },
  {
   "cell_type": "code",
   "execution_count": null,
   "id": "6041a181",
   "metadata": {},
   "outputs": [],
   "source": [
    "sns.histplot(data=df, x='Fare', bins=20).set_xlabel('Fare')\n",
    "plt.ylabel(\"Anzahl\")"
   ]
  },
  {
   "cell_type": "markdown",
   "id": "fb4fa2d6",
   "metadata": {
    "id": "fb4fa2d6"
   },
   "source": [
    "## Datenvorverarbeitung ##"
   ]
  },
  {
   "cell_type": "markdown",
   "id": "036f99b4",
   "metadata": {},
   "source": [
    "Wie wir bereits gesehen haben, sind Teile unserer Daten noch nicht bereit dafür, als Eingabe für ML-Algorithmen zu dienen. Wir brauchen vollständige Datensätze mit numerischen Daten, weswegen wir fehlerhafte Einträge korrigieren müssen. Außerdem sollten wir unseren Datensatz in ein training und ein test set aufteilen."
   ]
  },
  {
   "cell_type": "markdown",
   "id": "d88ad4ab",
   "metadata": {
    "id": "d88ad4ab"
   },
   "source": [
    "Zuerst betrachten wie die Spalte *Sex*. Hier haben wir kategorische Daten, sodass wir ohne weiteres die Werte für `female` und `male` in 0 und 1 umwandeln können. Wir nutzen hierfür die `replace`-Funktion des Data Frames. Wir ändern hierfür direkt den Dataframe, den wir vorher erstellt haben `inplace=True`, weshalb Code in früheren Zellen danach fehlerhaft sein könnte."
   ]
  },
  {
   "cell_type": "code",
   "execution_count": null,
   "id": "c0b7f139",
   "metadata": {
    "colab": {
     "base_uri": "https://localhost:8080/",
     "height": 206
    },
    "executionInfo": {
     "elapsed": 7,
     "status": "ok",
     "timestamp": 1648054117861,
     "user": {
      "displayName": "Tim Shi",
      "photoUrl": "https://lh3.googleusercontent.com/a/default-user=s64",
      "userId": "17369980549133513961"
     },
     "user_tz": -60
    },
    "id": "c0b7f139",
    "outputId": "18d1ea07-7168-407a-a73a-83bb62d4d8b9"
   },
   "outputs": [],
   "source": [
    "df['Sex'].replace('female', 0, inplace=True)\n",
    "df['Sex'].replace('male', 1, inplace=True)\n",
    "df.head()"
   ]
  },
  {
   "cell_type": "markdown",
   "id": "b800cdfb",
   "metadata": {
    "id": "b800cdfb"
   },
   "source": [
    "Da die *Embarked* Spalte nur drei verschiedene Werte hat, erstellen wir eine neue Spalte für jeden Wert (**one hot Kodierung**). Da wir Passagiere haben, deren Zustieg unbekannt ist, ersetzen fehlende Angaben durch 0, um spätere Fehler zu vermeiden. Da hier nicht `ìnplace` ersetzt wird, wird bei jeder Operation ein neuer Vektor erzeugt."
   ]
  },
  {
   "cell_type": "code",
   "execution_count": null,
   "id": "f92b694b",
   "metadata": {
    "executionInfo": {
     "elapsed": 7,
     "status": "ok",
     "timestamp": 1648054117862,
     "user": {
      "displayName": "Tim Shi",
      "photoUrl": "https://lh3.googleusercontent.com/a/default-user=s64",
      "userId": "17369980549133513961"
     },
     "user_tz": -60
    },
    "id": "f92b694b"
   },
   "outputs": [],
   "source": [
    "df['Embarked_Q']=df['Embarked'].replace('Q',1).replace('C',0).replace('S',0)\n",
    "df['Embarked_C']=df['Embarked'].replace('Q',0).replace('C',1).replace('S',0)\n",
    "df['Embarked_S']=df['Embarked'].replace('Q',0).replace('C',0).replace('S',1)\n",
    "df.fillna({'Embarked_Q':'0', 'Embarked_C':'0', 'Embarked_S':'0'}, inplace=True)"
   ]
  },
  {
   "cell_type": "markdown",
   "id": "de5a41a1",
   "metadata": {
    "id": "de5a41a1"
   },
   "source": [
    "Auch das Alter (*Age*) ist bei einigen Passagieren unbekannt. Anstatt das Alter auf 0 zu setzen (so viele Neugeborene würden unsere Algorithmen mit Sicherheit verwirren), setzen Sie das Durchschnittsalter der Titanic-Passagiere ein."
   ]
  },
  {
   "cell_type": "markdown",
   "id": "b4b8dba0",
   "metadata": {
    "id": "b4b8dba0"
   },
   "source": [
    "**Aufgabe:** Ersetzen Sie alle fehlenden Einträge in der Spalte Alter durch das Durchschnittsalter der Passagiere"
   ]
  },
  {
   "cell_type": "code",
   "execution_count": null,
   "id": "72cf0ecb",
   "metadata": {
    "executionInfo": {
     "elapsed": 412,
     "status": "ok",
     "timestamp": 1648054118268,
     "user": {
      "displayName": "Tim Shi",
      "photoUrl": "https://lh3.googleusercontent.com/a/default-user=s64",
      "userId": "17369980549133513961"
     },
     "user_tz": -60
    },
    "id": "72cf0ecb"
   },
   "outputs": [],
   "source": [
    "df['Age'].fillna(df['Age'].mean(), inplace=True)"
   ]
  },
  {
   "cell_type": "markdown",
   "id": "6ad67678",
   "metadata": {
    "id": "6ad67678"
   },
   "source": [
    "Nun betrachten wir die anderen Spalten in unserem Dataframe und überlegen, ob wir diese weiter brauchen. *PassengerId*, *Name* und *Ticket* sollten keinen Einfluss auf die Überlebenschancen haben. Die Kabinennummer (*Cabin*) ist in zu wenigen Datensätzen enthalten, um sinnvoll genutzt zu werden. Die Spalte *Embarked* wird bereits durch die drei neuen Spalten ersetzt. Diese Spalten können also aller entfernt werden."
   ]
  },
  {
   "cell_type": "code",
   "execution_count": null,
   "id": "5ed3b120",
   "metadata": {
    "colab": {
     "base_uri": "https://localhost:8080/"
    },
    "executionInfo": {
     "elapsed": 17,
     "status": "ok",
     "timestamp": 1648054118269,
     "user": {
      "displayName": "Tim Shi",
      "photoUrl": "https://lh3.googleusercontent.com/a/default-user=s64",
      "userId": "17369980549133513961"
     },
     "user_tz": -60
    },
    "id": "5ed3b120",
    "outputId": "682020b2-1b78-4a3e-fb48-191f88425d4f"
   },
   "outputs": [],
   "source": [
    "df = df.drop(columns = ['PassengerId','Name','Ticket','Cabin','Embarked'])\n",
    "df.info()"
   ]
  },
  {
   "cell_type": "markdown",
   "id": "c3299a21",
   "metadata": {
    "id": "c3299a21"
   },
   "source": [
    "Jetzt sieht unser Datensatz schon ganz gut aus. Wir möchten einen ML-Algorithmus darauf trainieren, das Überleben der Passagiere basierend auf den anderen Attributen vorherzusagen. Also können wir die *survived* Spalte als **Ziel** für unsere Klassifikation nutzen, während wir die anderen Spalten als **Input Features** nutzen wollen. Normalerweise wird dies notiert als Variablen `y` und `X`."
   ]
  },
  {
   "cell_type": "code",
   "execution_count": null,
   "id": "e4a6ffa1",
   "metadata": {
    "colab": {
     "base_uri": "https://localhost:8080/",
     "height": 206
    },
    "executionInfo": {
     "elapsed": 16,
     "status": "ok",
     "timestamp": 1648054118270,
     "user": {
      "displayName": "Tim Shi",
      "photoUrl": "https://lh3.googleusercontent.com/a/default-user=s64",
      "userId": "17369980549133513961"
     },
     "user_tz": -60
    },
    "id": "e4a6ffa1",
    "outputId": "192ba0a5-0b36-4940-f283-eb8e6cd4eb4b"
   },
   "outputs": [],
   "source": [
    "X = df.drop(columns = ['Survived'])\n",
    "X.head()"
   ]
  },
  {
   "cell_type": "code",
   "execution_count": null,
   "id": "538fa9c1",
   "metadata": {
    "colab": {
     "base_uri": "https://localhost:8080/"
    },
    "executionInfo": {
     "elapsed": 15,
     "status": "ok",
     "timestamp": 1648054118271,
     "user": {
      "displayName": "Tim Shi",
      "photoUrl": "https://lh3.googleusercontent.com/a/default-user=s64",
      "userId": "17369980549133513961"
     },
     "user_tz": -60
    },
    "id": "538fa9c1",
    "outputId": "396b2706-4022-487a-aaf6-4d4546f543e1"
   },
   "outputs": [],
   "source": [
    "y = df['Survived']\n",
    "y.head()"
   ]
  },
  {
   "cell_type": "markdown",
   "id": "0e1b4695",
   "metadata": {
    "id": "0e1b4695"
   },
   "source": [
    "Wir haben ein letztes Problem: Die Spalten *Age* und *Fare* enthalten sehr hohe absolute Werte. Bei manchen Machine Learning Algorithmen führen so hohe Werte dazu, dass diese Spalten einen wesentlich höheren Einfluss auf das Ergebnis haben, als gerechtfertigt wäre, worunter die Modellperformance leidet. Aus diesem Grund werden die Input Features in einen gemeinsamen Wertebereich skaliert. Hierfür nutzen wir den `StandardScaler` von scikit-learn."
   ]
  },
  {
   "cell_type": "code",
   "execution_count": null,
   "id": "bb2d95dd",
   "metadata": {
    "executionInfo": {
     "elapsed": 11,
     "status": "ok",
     "timestamp": 1648054118271,
     "user": {
      "displayName": "Tim Shi",
      "photoUrl": "https://lh3.googleusercontent.com/a/default-user=s64",
      "userId": "17369980549133513961"
     },
     "user_tz": -60
    },
    "id": "bb2d95dd"
   },
   "outputs": [],
   "source": [
    "scaler = StandardScaler()\n",
    "X[['Age', 'Fare']] = scaler.fit_transform(X[['Age', 'Fare']])"
   ]
  },
  {
   "cell_type": "markdown",
   "id": "01bf51fb",
   "metadata": {
    "id": "01bf51fb"
   },
   "source": [
    "Zum Schluss teilen wir unsere Daten mithilfe des `train_test_split` von scikit-learn in ein Training- und ein Test Set. Unser Testset entspricht einem viertel des originalen Datensatzes."
   ]
  },
  {
   "cell_type": "code",
   "execution_count": null,
   "id": "502531c5",
   "metadata": {
    "colab": {
     "base_uri": "https://localhost:8080/",
     "height": 206
    },
    "executionInfo": {
     "elapsed": 12,
     "status": "ok",
     "timestamp": 1648054118272,
     "user": {
      "displayName": "Tim Shi",
      "photoUrl": "https://lh3.googleusercontent.com/a/default-user=s64",
      "userId": "17369980549133513961"
     },
     "user_tz": -60
    },
    "id": "502531c5",
    "outputId": "06694d63-ac4f-4446-9b7d-73a16f8b2266"
   },
   "outputs": [],
   "source": [
    "X_train, X_test, y_train, y_test = train_test_split(X, y, test_size = 0.25)\n",
    "X_train.head()"
   ]
  },
  {
   "cell_type": "markdown",
   "id": "d4675cd1",
   "metadata": {
    "id": "d4675cd1"
   },
   "source": [
    "Auf den ersten Blick sieht man, das die Daten nicht nur geteilt, sondern auch gemischt wurden. Das Shufflen der Daten vor dem Training ist wichtig, da manche ML Modelle sonst eine Klassifikation basierend auf der Reihenfolge der Daten und nicht den eigentlichen Features entwickeln könnten. Das wäre in der Anwendung natürlich kontraproduktiv"
   ]
  },
  {
   "cell_type": "markdown",
   "id": "d25fee66",
   "metadata": {
    "id": "d25fee66"
   },
   "source": [
    "## Trainieren und Testen von Machine Learning Modellen ##"
   ]
  },
  {
   "cell_type": "markdown",
   "id": "973518e4",
   "metadata": {
    "id": "973518e4"
   },
   "source": [
    "Es wird also endlich Zeit, unsere ersten ML Modelle zu trainieren und zu erstellen. Wir starten mit einem Entsscheidungsbaum"
   ]
  },
  {
   "cell_type": "markdown",
   "id": "e3e0609a",
   "metadata": {
    "id": "e3e0609a"
   },
   "source": [
    "### Decision Tree Classifier ###"
   ]
  },
  {
   "cell_type": "markdown",
   "id": "8a3005e6",
   "metadata": {
    "id": "8a3005e6"
   },
   "source": [
    "Ein Entscheidungsbaum-Klassifikator konstruiert einen Entscheidungsbaum mit den gegebenen Trainingsdaten und verwendet ihn dann zur Vorhersage neuer Daten zur Testzeit. Hier ist ein relativ einfaches Beispiel für einen Entscheidungsbaum, der aus den ersten 21 Zeilen unseres Titanic-Datensatzes erstellt wurde:"
   ]
  },
  {
   "cell_type": "code",
   "execution_count": null,
   "id": "8e194b13",
   "metadata": {
    "colab": {
     "base_uri": "https://localhost:8080/",
     "height": 628
    },
    "executionInfo": {
     "elapsed": 710,
     "status": "ok",
     "timestamp": 1648054118971,
     "user": {
      "displayName": "Tim Shi",
      "photoUrl": "https://lh3.googleusercontent.com/a/default-user=s64",
      "userId": "17369980549133513961"
     },
     "user_tz": -60
    },
    "id": "8e194b13",
    "outputId": "d1547be4-1c0d-4512-d43a-8b9242e2f7a5"
   },
   "outputs": [],
   "source": [
    "Image(\"decision_tree.png\")"
   ]
  },
  {
   "cell_type": "markdown",
   "id": "015c71a8",
   "metadata": {},
   "source": [
    "Das Nutzen eines Entscheidungsbaums zur Vorhersage (*Inferenz*) ist einfach zu verstehen. Bei einem neuen Passagier mit den Attributen Geschlecht, Alter, Kabinenklasse usw. beginnen wir oben am Wurzelknoten und fragen, ob das Geschlecht des Passagiers (Spalte mit Index 1) $\\leq$ 0,5 ist. Wenn ja (entsprechend \"männlich\"), gehen wir den linken Zweig hinunter, wenn nein (entsprechend \"weiblich\"), gehen wir den rechten Zweig hinunter. Am nächsten Knoten wählen wir wieder den Weg, der von den Eigenschaften des Passagiers abhängt, bis wir einen Blattknoten erreichen, an dem eine Vorhersage über das Schicksal des Passagiers getroffen wird.\n",
    "\n",
    "*Samples* gibt an, wie viele Passagiere aus den Trainingsdaten diesen Knoten überhaupt erreicht haben, und *Value* gibt an, wie viele von ihnen überlebt haben und wie viele gestorben sind. Die Farbe stellt auch den Anteil der Überlebenden dar, wobei Orange für eine hohe und Blau für eine niedrige Überlebensrate steht. Der Knoten oben links sagt uns zum Beispiel, dass 11 Passagiere diesen Knoten erreicht haben (weil sie männlich waren), von denen 2 überlebt haben und 9 gestorben sind.\n",
    "\n",
    "Die Methode, mit der ein solcher Entscheidungsbaum konstruiert wird, ist etwas komplizierter. Ausgehend vom Wurzelknoten muss der Lernalgorithmus zunächst bestimmen, welches der Attribute als Entscheidungskriterium verwendet werden soll. Bei numerischen Attributen wie dem Alter stellt sich außerdem die Frage, wo die Entscheidungsgrenze gesetzt werden soll. Der Algorithmus löst dies, indem er alle Alternativen ausprobiert und sieht, welche am besten zwischen den Überlebensergebnissen diskriminiert. Der *Gini-Index* ist ein Maß für diesen Effekt, wobei 0 \"perfekter Unterscheidungsfaktor\" und 0,5 \"völlig gleichmäßige Verteilung\" anzeigt. In unserem Fall erwies sich das Geschlecht zunächst als der beste Prädiktor für das Überleben, da 9 der 10 Frauen und nur 2 der 11 Männer überlebten. Dieses Verfahren wird dann für die untergeordneten Knoten wiederholt, bis nur noch reine Knoten (Gini-Index = 0) übrig sind."
   ]
  },
  {
   "cell_type": "markdown",
   "id": "3484bcaa",
   "metadata": {
    "id": "3484bcaa"
   },
   "source": [
    "Nun versuchen wir, selbst so einen Entscheidungsbaum zu erzeugen. Das ist tatsächlich sehr einfach, da alle algorithmischen Komplexitäten von `scikit-learn` wegabstrahiert werden, sodass wir nur einen einfachen Funktionsaufruf benötigen."
   ]
  },
  {
   "cell_type": "code",
   "execution_count": null,
   "id": "e89d3b0b",
   "metadata": {
    "colab": {
     "base_uri": "https://localhost:8080/"
    },
    "executionInfo": {
     "elapsed": 14,
     "status": "ok",
     "timestamp": 1648054118971,
     "user": {
      "displayName": "Tim Shi",
      "photoUrl": "https://lh3.googleusercontent.com/a/default-user=s64",
      "userId": "17369980549133513961"
     },
     "user_tz": -60
    },
    "id": "e89d3b0b",
    "outputId": "f91f9011-c781-4d49-b0c2-e8f02ad6e655"
   },
   "outputs": [],
   "source": [
    "decision_tree = DecisionTreeClassifier()\n",
    "decision_tree.fit(X_train, y_train)"
   ]
  },
  {
   "cell_type": "markdown",
   "id": "18179ea7",
   "metadata": {},
   "source": [
    "Nachdem wir das Modell trainiert haben, können wir uns den Baum selbst betrachten. Da der Baum von der genauen Aufteilung in Trainings- und Testmenge abhängt, wird dieser Baum bei jedem von Ihnen anders aussehen. Er wird jedoch auf jeden Fall wesentlich größer sein als der zuvor gesehene Baum. Eventuell müssen Sie also mit den Parameter `figsize` und `fontsize` ein wenig finetunen, um den Baum in einer akzeptablen Größe zu erhalten. Die Erstellung des Plots kann ein paar Sekunden dauern."
   ]
  },
  {
   "cell_type": "code",
   "execution_count": null,
   "id": "2bdf6fa7",
   "metadata": {},
   "outputs": [],
   "source": [
    "fig, ax = plt.subplots(figsize=(80, 40))\n",
    "plot_tree(decision_tree, feature_names=list(X.columns), filled=True, fontsize=10, ax=ax)"
   ]
  },
  {
   "cell_type": "markdown",
   "id": "525a4e9f",
   "metadata": {},
   "source": [
    "Wir können das Modell nun auf unserem Test set einsetzen, und sehen, was dabei herauskommt:"
   ]
  },
  {
   "cell_type": "code",
   "execution_count": null,
   "id": "77a35f7d",
   "metadata": {},
   "outputs": [],
   "source": [
    "predictions_tree = decision_tree.predict(X_test)\n",
    "predictions_tree"
   ]
  },
  {
   "cell_type": "markdown",
   "id": "29961bbd",
   "metadata": {},
   "source": [
    "Nun haben wir für jeden der 223 Passagiere im test set eine Schätzung abgegeben, ob er überlebt hat. Zum Vergleich betrachten wir hier die Daten der Labels:"
   ]
  },
  {
   "cell_type": "code",
   "execution_count": null,
   "id": "f93e1bf7",
   "metadata": {},
   "outputs": [],
   "source": [
    "y_test.to_numpy()"
   ]
  },
  {
   "cell_type": "markdown",
   "id": "26db3681",
   "metadata": {},
   "source": [
    "Wahrscheinlich werden Sie schon auf den ersten Blick Unterschiede sehen. Unser Model ist also nicht perfect. Um die Ungenauigkeit besser zu verstehen nutzen wir die tools von scikit-learn."
   ]
  },
  {
   "cell_type": "code",
   "execution_count": null,
   "id": "bb8ee351",
   "metadata": {},
   "outputs": [],
   "source": [
    "print(classification_report(y_test, predictions_tree))"
   ]
  },
  {
   "cell_type": "markdown",
   "id": "f180cd1a",
   "metadata": {},
   "source": [
    "* *Support* bezieht sich auf die Anzahl der Proben in jeder Kategorie in den Daten.\n",
    "* *Accuracy* (Genauigkeit) bezieht sich darauf, wie viele Proben das Modell insgesamt prozentual richtig vorhergesagt hat. Dieses Maß ist in der Regel ausreichend, um die Leistung Ihres Modells zu beschreiben, wenn die Anzahl der positiven und negativen Proben in den Daten in der gleichen Größenordnung liegt. Bei sehr unausgewogenen Daten, z. B. in der medizinischen Diagnostik, wo viel mehr negative Proben als positive Proben vorhanden sind, ist es jedoch wichtig, auch andere Metriken zu betrachten.\n",
    "* *Precision* (Präzision) beantwortet die Frage: \"Von allen Proben, die das Modell für diese Kategorie *vorgesagt* hat, wie viele sind *wirklich* in dieser Kategorie?\"\n",
    "* *Recall* beantwortet die gegenteilige Frage: \"Von allen Proben, die sich *eigentlich* in dieser Kategorie befinden, wie viele wurden von unserem Modell *vorgesagt*, dass sie in dieser Kategorie liegen?\"\n",
    "* *$F_1$-score* fasst die beiden vorherigen Maße zusammen. Er ist gegeben durch $\\frac{\\text{precision } \\cdot \\text{ recall}}{\\text{precision } + \\text{ recall}} \\cdot 2$"
   ]
  },
  {
   "cell_type": "markdown",
   "source": [
    "Die Konfusionsmatrix (`confusion_matrix`) ist eine weitere Möglichkeit, die Leistungsmerkmale des Modells auszudrücken. Die y-Achse zeigt die Grundwahrheit, die x-Achse die Modellvorhersage an. Matrixeinträge stehen also für die Anzahl der wahren Negativen, der falschen Positiven, der wahren Positiven und der falschen Negativen. Ein gutes ML-Modell würde daher große Werte entlang der Diagonalen und kleine Werte an den anderen Stellen der Konfusionsmatrix erzeugen.\n"
   ],
   "metadata": {
    "collapsed": false
   }
  },
  {
   "cell_type": "code",
   "execution_count": null,
   "id": "80b5b00d",
   "metadata": {},
   "outputs": [],
   "source": [
    "sns.heatmap(confusion_matrix(y_test, predictions_tree), annot=True)"
   ]
  },
  {
   "cell_type": "markdown",
   "source": [
    "Es ist von hoher Bedeutung, ein Modell nicht anhand seiner Performance auf den Trainings-, sondern auf den Testdaten zu beurteilen. Betrachten wir die Ergebnisse auf den Trainingsdaten, so wird das Modell sehr hohe Genauigkeiten liefern, da es diese Daten kennt."
   ],
   "metadata": {
    "collapsed": false
   }
  },
  {
   "cell_type": "code",
   "execution_count": null,
   "outputs": [],
   "source": [
    "print(classification_report(y_train, decision_tree.predict(X_train)))"
   ],
   "metadata": {
    "collapsed": false
   }
  },
  {
   "cell_type": "markdown",
   "source": [
    "Ein Modell soll allerdings nicht nur die Trainingsdaten auswendig lernen, sondern möglichst gute Muster erkennen, um auf *ungesehenen* Daten gut zu *generalisieren*. Aus diesem Grund haben wir bereits vorher die Ergebnisse auf einem dem Modell unbekannten Testdatensatz betrachtet."
   ],
   "metadata": {
    "collapsed": false
   }
  },
  {
   "cell_type": "markdown",
   "id": "1be77627",
   "metadata": {
    "id": "1be77627"
   },
   "source": [
    "### Random Forest Classifier ###"
   ]
  },
  {
   "cell_type": "markdown",
   "source": [
    "Ein Nachteil von Entscheidungsbäumen ist, dass sie dazu neigen, die Trainingsdaten zu *overfitten*, also jede einzelne Anomalität als wichtiges Signal wahrnehmen. Betrachten wir den kurzen Entscheidungsbaum von vorher entdecken wir im linken Teilbaum zwei aufeinanderfolgende Unterscheidungen mit *Fare* $\\leq -0.49$ und *Fare* $\\leq -0.497$:"
   ],
   "metadata": {
    "collapsed": false
   }
  },
  {
   "cell_type": "code",
   "execution_count": null,
   "outputs": [],
   "source": [
    "Image(\"decision_tree_cropped.png\")"
   ],
   "metadata": {
    "collapsed": false
   }
  },
  {
   "cell_type": "markdown",
   "source": [
    "Hier haben alle Passagiere, die den obersten Knoten erreicht haben überlebt- mit einer Ausnahme. Da der (normalisierte) Fahrpreis dieser Person in $(-0.97,-0.497]$ lag und es sowohl Passagiere mit höheren als auch niedrigerem Preis gab, werden hier zwei Knoten genutzt, um diese aufzuteilen. Es ist aber sehr unrealistisch, dass genau dieser Preisunterschied einen entscheidenden Faktor im Überlebenskampf gespielt hat. Wahrscheinlich führt diese Unterscheidung also zu einer schlechteren Performance auf Testdaten.\n",
    "\n",
    "Diese Art von Problem kann in gewisser Weise gelöst werden, indem Schwellenwerte für den Stichprobenumfang oder die Unreinheit festgelegt werden, die bestimmen, wann die Knoten weiter aufgeteilt werden sollen. Eine umfassendere Lösung ist der Ensemble-Ansatz: Random Forests."
   ],
   "metadata": {
    "collapsed": false
   }
  },
  {
   "cell_type": "markdown",
   "id": "52a7b7fb",
   "metadata": {
    "id": "52a7b7fb"
   },
   "source": [
    "Die Kernidee dieses Ansatzes besteht darin, eine Reihe verschiedener Entscheidungsbäume zu trainieren, jeden Baum eine Vorhersage für den neuen Datenpunkt erstellen zu lassen und dann die Mehrheitsentscheidung als endgültige Ausgabe zu verwenden. Entscheidungsbäume lassen sich schnell trainieren, sind aber auch deterministisch in Bezug auf die Trainingsdaten. Um die Vielfalt der Modelle zu gewährleisten, müssen wir zwei zusätzliche Schritte unternehmen:\n",
    "1. *Bootstrapping* der Daten für jeden einzelnen Baum. Das bedeutet, dass ein Teildatensatz mit $n$ Datenpunkten $n$ mal zufällig - unter Berücksichtigung von Dopplungen - entnommen wird, um einen anderen Datensatz derselben Größe zu erstellen. Natürlich werden einige Datenpunkte in diesen Teildatensätzen mehrfach vorkommen, während andere überhaupt nicht vorhanden sind.\n",
    "2. Jedes Mal, wenn ein Knoten geteilt werden soll, werden die Kandidaten für die Entscheidungsgrenzen auf eine zufällige Teilmenge der Attribute beschränkt. Dadurch wird die Vielfalt der Entscheidungsvariablen gewährleistet."
   ]
  },
  {
   "cell_type": "markdown",
   "id": "30152281",
   "metadata": {
    "id": "30152281"
   },
   "source": [
    "**Aufgabe:**\n",
    "Erstellen und trainieren Sie ein Modell des `RandomForestClassifier`. Lassen Sie sich danach die Ergebnisse ausgeben"
   ]
  },
  {
   "cell_type": "code",
   "execution_count": null,
   "id": "32407fcc",
   "metadata": {
    "colab": {
     "base_uri": "https://localhost:8080/"
    },
    "executionInfo": {
     "elapsed": 211,
     "status": "ok",
     "timestamp": 1648054119973,
     "user": {
      "displayName": "Tim Shi",
      "photoUrl": "https://lh3.googleusercontent.com/a/default-user=s64",
      "userId": "17369980549133513961"
     },
     "user_tz": -60
    },
    "id": "32407fcc",
    "outputId": "efa57b51-f940-4a43-ea37-8aaabf4d9931"
   },
   "outputs": [],
   "source": [
    "forest = RandomForestClassifier()\n",
    "forest.fit(X_train, y_train)\n",
    "predictions_forest = forest.predict(X_test)\n",
    "print(classification_report(y_test, predictions_forest))"
   ]
  },
  {
   "cell_type": "markdown",
   "source": [
    "Ein *Random Forest*-Klassifikator lässt sich nicht so intuitiv darstellen wie ein einzelner Entscheidungsbaum. Es ist aber zumindest möglich, die Wichtigkeit (*importance*) auszulesen und zu plotten."
   ],
   "metadata": {
    "collapsed": false
   }
  },
  {
   "cell_type": "code",
   "execution_count": null,
   "outputs": [],
   "source": [
    "sns.barplot(x=X.columns, y=forest.feature_importances_).set_xlabel(\"Feature\")\n",
    "plt.ylabel(\"Wichtigkeit\")"
   ],
   "metadata": {
    "collapsed": false
   }
  },
  {
   "cell_type": "markdown",
   "source": [
    "## Ausblick: Weitere Methoden"
   ],
   "metadata": {
    "collapsed": false
   }
  },
  {
   "cell_type": "markdown",
   "id": "edaee6b9",
   "metadata": {
    "id": "edaee6b9"
   },
   "source": [
    "### Support Vector Machine ###"
   ]
  },
  {
   "cell_type": "markdown",
   "source": [
    "Ein weiterer bekannter und weit verbreiteter Klassifikator sind die sogenannten *Support Vector Machines* (SVMs). Hier wird ein Teil der Datenpunkte jeder Klasse als Stützvektor genutzt und eine Trenngerade mit möglichst großem Abstand zu den Punkten verschiedener Klassen gelegt. SVMs sind dabei teilweise in der Lage, durch den *Kernel Trick* gerade in höherdimensionalen Räumen zu beschreiben, wodurch sie auch nichtlineare Trenngeraden darstellen können."
   ],
   "metadata": {
    "collapsed": false
   }
  },
  {
   "cell_type": "markdown",
   "source": [
    "**Aufgabe:**\n",
    "Erstellen und trainieren Sie ein Modell des `SVC` (Support Vector Classificator). Lassen Sie sich danach die Ergebnisse ausgeben"
   ],
   "metadata": {
    "collapsed": false
   }
  },
  {
   "cell_type": "code",
   "execution_count": null,
   "id": "dd3ea6f4",
   "metadata": {
    "colab": {
     "base_uri": "https://localhost:8080/"
    },
    "executionInfo": {
     "elapsed": 9,
     "status": "ok",
     "timestamp": 1648054119974,
     "user": {
      "displayName": "Tim Shi",
      "photoUrl": "https://lh3.googleusercontent.com/a/default-user=s64",
      "userId": "17369980549133513961"
     },
     "user_tz": -60
    },
    "id": "dd3ea6f4",
    "outputId": "17e0bc1b-e56f-49be-86ce-a158d79c7c33"
   },
   "outputs": [],
   "source": [
    "SVM = SVC()\n",
    "SVM.fit(X_train, y_train)\n",
    "predictions_SVM = SVM.predict(X_test)\n",
    "print(classification_report(y_test, predictions_SVM))"
   ]
  },
  {
   "cell_type": "markdown",
   "id": "e9e99d36",
   "metadata": {
    "id": "e9e99d36"
   },
   "source": [
    "## Neural Network ##"
   ]
  },
  {
   "cell_type": "markdown",
   "id": "86740b40",
   "metadata": {
    "id": "86740b40"
   },
   "source": [
    "Zuletzt befassen wir uns mit einem einfachen Deep Learning Modell: Dem *Multi-Layer-Perceptron* (MLP). Dieses neuronale Netzwerk besteht aus in Layern angeordneten Neuronen. Ein Neuron summiert seine Eingänge auf und gibt 1 weiter, sofern die Summe einen gewissen Wert überschreitet. Der Output dient als Input für die neuronen des nächsten Layers, wobei der Wert mit einem Gewicht der Verbindung multipliziert wird. Das hier abgebildete MLP hat ein Input-Layer mit 5 Neuronen (grün), zwei hidden Layer (dunkel- und hellblau) mit 7 Neuronen und ein Output Layer mit 3 Neuronen. Im Verlauf des Trainings werden die Gewichte an den Verbindungen mittels *backpropagation* angepasst."
   ]
  },
  {
   "cell_type": "code",
   "execution_count": null,
   "outputs": [],
   "source": [
    "Image(\"mlp.png\")"
   ],
   "metadata": {
    "collapsed": false
   }
  },
  {
   "cell_type": "markdown",
   "source": [
    "In `scikit-learn` kann man die Größe und Anzahl der hidden Layer einstellen ebenso wie die Anzahl der gleichzeitig verarbeiteten Trainingsdaten (*batch_size*) und die gesamte Anzahl der Trainingsinterationen (*max_iter*)"
   ],
   "metadata": {
    "collapsed": false
   }
  },
  {
   "cell_type": "code",
   "execution_count": null,
   "outputs": [],
   "source": [
    "mlp = MLPClassifier(hidden_layer_sizes = (15, 15, 15, 15), batch_size=100, max_iter = 1000)"
   ],
   "metadata": {
    "collapsed": false
   }
  },
  {
   "cell_type": "markdown",
   "source": [
    "**Aufgabe:**\n",
    "Trainieren Sie den MLP-Klassifikator und evaluieren Sie seine Performance"
   ],
   "metadata": {
    "collapsed": false
   }
  },
  {
   "cell_type": "code",
   "execution_count": null,
   "id": "a1e53a58",
   "metadata": {
    "id": "a1e53a58"
   },
   "outputs": [],
   "source": [
    "mlp.fit(X_train, y_train)\n",
    "predictions_mlp = mlp.predict(X_test)\n",
    "print(classification_report(y_test, predictions_mlp))"
   ]
  }
 ],
 "metadata": {
  "colab": {
   "collapsed_sections": [],
   "name": "INC_Machine_Learning_Tutorial_Solution.ipynb",
   "provenance": []
  },
  "kernelspec": {
   "display_name": "Python 3 (ipykernel)",
   "language": "python",
   "name": "python3"
  },
  "language_info": {
   "codemirror_mode": {
    "name": "ipython",
    "version": 3
   },
   "file_extension": ".py",
   "mimetype": "text/x-python",
   "name": "python",
   "nbconvert_exporter": "python",
   "pygments_lexer": "ipython3",
   "version": "3.7.5"
  }
 },
 "nbformat": 4,
 "nbformat_minor": 5
}
