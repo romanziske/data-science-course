{
  "nbformat": 4,
  "nbformat_minor": 0,
  "metadata": {
    "colab": {
      "provenance": []
    },
    "kernelspec": {
      "name": "python3",
      "display_name": "Python 3"
    },
    "language_info": {
      "name": "python"
    }
  },
  "cells": [
    {
      "cell_type": "markdown",
      "source": [
        "# Unsupervised Learning"
      ],
      "metadata": {
        "id": "9HjEtf29iivl"
      }
    },
    {
      "cell_type": "markdown",
      "source": [
        "In diesem Lernabschnitt befassen wir uns mit einem kleinen Datenset über Einkaufszentrumskunden, die nach ihrem Einkaufs- und Ausgabeverhalten bewertet und eingestuft werden. Im ersten Schritt visualisieren wir den Datensatz. Um verschiedene Gruppen von Einkaufszentrumskunden zu identifizieren, schauen wir uns zwei der grundlegenden Clustering-Algorithmen an: <mark>**K-Means**</mark> und <mark>**DBSCAN**</mark>."
      ],
      "metadata": {
        "id": "WWdpMbaCip_W"
      }
    },
    {
      "cell_type": "code",
      "source": [
        "from IPython.display import Image\n",
        "from google.colab import drive\n",
        "drive.mount('/content/drive')\n",
        "%cd drive/\n",
        "%cd MyDrive/"
      ],
      "metadata": {
        "id": "ekVd1daDiuEj"
      },
      "execution_count": null,
      "outputs": []
    },
    {
      "cell_type": "markdown",
      "source": [
        "### Import von Bibliotheken und Daten"
      ],
      "metadata": {
        "id": "OFWk9-qWixzI"
      }
    },
    {
      "cell_type": "markdown",
      "source": [
        "Zuerst importieren wir die Bibliotheken, die wir in diesem Lernabschnitt verwenden werden."
      ],
      "metadata": {
        "id": "cD6xfxbmi10I"
      }
    },
    {
      "cell_type": "code",
      "source": [
        "import os\n",
        "import numpy as np\n",
        "import pandas as pd\n",
        "import matplotlib.pyplot as plt\n",
        "import seaborn as sns\n",
        "%matplotlib inline\n",
        "\n",
        "from sklearn.cluster import KMeans\n",
        "from sklearn.cluster import DBSCAN"
      ],
      "metadata": {
        "id": "J5TSmS9vi3QB"
      },
      "execution_count": null,
      "outputs": []
    },
    {
      "cell_type": "markdown",
      "source": [
        "Mit Hilfe der Bibliothek <code>pandas</code>, die Sie bereits kennen gelernt haben, werden die Daten geladen:"
      ],
      "metadata": {
        "id": "9IeCdDybi8fx"
      }
    },
    {
      "cell_type": "code",
      "source": [
        "df = pd.read_csv(\"mall_customers.csv\")\n",
        "df.head()"
      ],
      "metadata": {
        "id": "byEN7Svyi9b6"
      },
      "execution_count": null,
      "outputs": []
    },
    {
      "cell_type": "markdown",
      "source": [
        "## Daten Exploration"
      ],
      "metadata": {
        "id": "HzH2IAZMjHSm"
      }
    },
    {
      "cell_type": "markdown",
      "source": [
        "Um fehlerhafte oder unvollständige Daten erkennen zu können, nutzen wir die Funktion <code>info()</code>."
      ],
      "metadata": {
        "id": "F1eKSjWujKUF"
      }
    },
    {
      "cell_type": "code",
      "source": [
        "df.info()"
      ],
      "metadata": {
        "id": "hSfdpVfPjRVm"
      },
      "execution_count": null,
      "outputs": []
    },
    {
      "cell_type": "markdown",
      "source": [
        "\n",
        "Unnötige Spalten werden entfernt und die Spaltenbezeichnungen Jahreseinkommen und Ausgabenbewertung werden gekürzt:"
      ],
      "metadata": {
        "id": "DKwmUxo8jlMH"
      }
    },
    {
      "cell_type": "code",
      "source": [
        "df = df.drop('CustomerID', axis=1)\n",
        "df.rename(index=str, columns={'Annual Income (k$)': 'Income', 'Spending Score (1-100)': 'Score'}, inplace=True)\n",
        "df.head()"
      ],
      "metadata": {
        "id": "ECkxR_4RjoOp"
      },
      "execution_count": null,
      "outputs": []
    },
    {
      "cell_type": "markdown",
      "source": [
        "Jede Spalte repräsentiert einen relevanten Aspekt des Kunden. Die Beziehung zwischen den einzelnen Kundenaspekten können wir über die Bibliothek <code>seaborn</code> visualisieren. Hier eignet sich die Funktion <code>pairplot</code>, die ein Diagramm für jedes numerische Attributpaar erstellt:"
      ],
      "metadata": {
        "id": "lK7_XXEMjrWI"
      }
    },
    {
      "cell_type": "code",
      "source": [
        "sns.pairplot(df, hue='Gender', aspect=2)\n",
        "plt.show()"
      ],
      "metadata": {
        "id": "ts6NThIujuQI"
      },
      "execution_count": null,
      "outputs": []
    },
    {
      "cell_type": "markdown",
      "source": [
        "Das Argument \"hue\" wendet die Farbe auf die Datenpunkte an, die der Spalte \"Gender\" entsprechen. Mit Hilfe des Arguments \"aspect\" wird das Seitenverhältnis der Diagramme festgelegt. "
      ],
      "metadata": {
        "id": "HoyUFHqDjxuP"
      }
    },
    {
      "cell_type": "markdown",
      "source": [
        "Wir entfernen die Spalte \"Gender\" aus dem Datenset, da es sich nicht um numerische Werte handelt und wir sie für die Clustering-Algorithmen nicht mehr verwenden. Nun weisen wir den Dataframe der Variablen X zu:"
      ],
      "metadata": {
        "id": "_OEhHN2Rj1Ha"
      }
    },
    {
      "cell_type": "code",
      "source": [
        "X = df.drop(['Gender'], axis=1)"
      ],
      "metadata": {
        "id": "0dSWYuTnj3fP"
      },
      "execution_count": null,
      "outputs": []
    },
    {
      "cell_type": "markdown",
      "source": [
        "## Clustering Alogrithmen"
      ],
      "metadata": {
        "id": "4V_83jBTj6c2"
      }
    },
    {
      "cell_type": "markdown",
      "source": [
        "Nun kommen wir zum spannenden Teil des Lernabschnitts. Wir nutzen verschiedene Algorithmen um ähnliche Datenpunkte in Gruppen zusammenzufassen. "
      ],
      "metadata": {
        "id": "YLIheUCyj9ZG"
      }
    },
    {
      "cell_type": "markdown",
      "source": [
        "### K-Means"
      ],
      "metadata": {
        "id": "lnogrx8FkACm"
      }
    },
    {
      "cell_type": "markdown",
      "source": [
        "Mit Hilfe der Zielzahl \"k\" wird die Anzahl der Zentroide festgelegt, die man im Datensatz finden möchte. Ein Zentroid repräsentiert das Zentrum eines Clusters. Zuerst werden k Datenpunkte zufällig aus allen verfügbaren Datenpunkten gezogen und als vorläufige Zentroide zugewiesen. Im nächsten Schritt ordnet der Algorithmus jeden der verbleibenden Datenpunkte einem der Cluster zu, ausgehend vom nächstgelegenen Zentroid. Anschließend werden die Zentroide neu berechnet, so dass sie die tatsächlichen Zentren der aktuellen Cluster darstellen. Die Zuweisung von Datenpunkten zu Clustern und der anschließenden Neuberechnung der Zentroide wird so lange wiederholt, bis die Lage der Zentroide final bestimmt ist. An diesem Punkt gelten die Zentroide als konvergiert und der Algorithmus wird beendet."
      ],
      "metadata": {
        "id": "179IO3CVkCyp"
      }
    },
    {
      "cell_type": "markdown",
      "source": [
        "Mit der Bibliothek <code>sklearn</code> lässt sich die Funktion KMeans wie folgt anwenden:"
      ],
      "metadata": {
        "id": "sIo5Me0ckF08"
      }
    },
    {
      "cell_type": "code",
      "source": [
        "km3 = KMeans(n_clusters=3).fit(X)\n",
        "print(km3.labels_)"
      ],
      "metadata": {
        "id": "IpYk0U0mkIi7"
      },
      "execution_count": null,
      "outputs": []
    },
    {
      "cell_type": "markdown",
      "source": [
        "Die obige Liste gibt an, welchem der 3 Cluster jeder Datenpunkt zugeordnet wurde. Um unsere Ergebnisse zu visualisieren, müssen wir zunächst die Clusterzuordnung zu unseren Daten <code>X</code> als zusätzliche Spalte hinzufügen. Um die Datenpunkte entsprechend ihrer Clusterzuordnung einzufärben, verwenden wir wieder das <code>hue</code> Argument, wie wir es zuvor zur Unterscheidung der Geschlechter getan haben. In einem zweidimensionalen Diagramm, also müssen wir **Age**, **Income** und **Score** wählen. Hier verwenden wir nur **Income** und **Score**:"
      ],
      "metadata": {
        "id": "hi_uYLYdkLge"
      }
    },
    {
      "cell_type": "code",
      "source": [
        "X['Labels'] = km3.labels_\n",
        "sns.scatterplot(x=X['Income'], y=X['Score'], hue=X['Labels'], palette=sns.color_palette('hls', 3))\n",
        "plt.title('KMeans with 3 Clusters')\n",
        "plt.show()"
      ],
      "metadata": {
        "id": "PXgWEaUPkOC9"
      },
      "execution_count": null,
      "outputs": []
    },
    {
      "cell_type": "markdown",
      "source": [
        "Unser Algorithmus funktioniert und die Clusterzuordnungen scheinen plausibel zu sein. Wenn man sich jedoch die Verteilung der Punkte ansieht, sollte es 5 statt 3 Cluster geben."
      ],
      "metadata": {
        "id": "-vh4MdCskQmS"
      }
    },
    {
      "cell_type": "markdown",
      "source": [
        "<mark>**Aufgabe:**</mark> Wenden Sie nun K-means mit 5 Clustern an:"
      ],
      "metadata": {
        "id": "ENtZ1mGKkTf5"
      }
    },
    {
      "cell_type": "code",
      "source": [
        "# Füge Sie hier Ihren Code ein."
      ],
      "metadata": {
        "id": "AQLVhyQckWIq"
      },
      "execution_count": null,
      "outputs": []
    },
    {
      "cell_type": "markdown",
      "source": [
        "Eine andere Möglichkeit, die Daten zu visualisieren, ist die Verwendung mit Hilfe von <code>swarmplot</code>:"
      ],
      "metadata": {
        "id": "s3psmqUhkclv"
      }
    },
    {
      "cell_type": "code",
      "source": [
        "plt.figure(figsize=(8,4))\n",
        "sns.swarmplot(x=X['Labels'], y=X['Income'])\n",
        "plt.title(\"Labels According to Annual Income\")\n",
        "plt.show()"
      ],
      "metadata": {
        "id": "Dj7I33QekfkT"
      },
      "execution_count": null,
      "outputs": []
    },
    {
      "cell_type": "markdown",
      "source": [
        "Aufgabe: Bauen Sie einen Swarmplot Score vs. Labels auf dem gleichen Datenset."
      ],
      "metadata": {
        "id": "BJ7rcTe4ke0b"
      }
    },
    {
      "cell_type": "code",
      "source": [
        "# Füge Sie hier Ihren Code ein."
      ],
      "metadata": {
        "id": "uNkCMz-BkmkP"
      },
      "execution_count": null,
      "outputs": []
    },
    {
      "cell_type": "markdown",
      "source": [
        "Da sich die Bestimmung der richtigen Anzahl an Clustern mit dem bloßen Auge bei steigender Spaltenanzahl als schwierig erweist, gibt es eine systematischere Methode zur Bestimmung von <code>k</code>.\n",
        "\n",
        "Die <code>sklearn</code> -Implementierung des K-Means-Algorithmus liefert zusätzlich zu den Cluster-Labels auch die Summe der Distanzen von Datenpunkten zu ihren jeweiligen Zentroiden als <code>inertia_</code> (Trägheit). Damit kann eine Reihe verschiedener Werte für <code>k</code> ausprobiert und die Qualität jedes Ergebnisses mit diesem Trägheitsparameter bewertet werden:"
      ],
      "metadata": {
        "id": "bW1YAJMxkrNX"
      }
    },
    {
      "cell_type": "code",
      "source": [
        "clusters = []\n",
        "\n",
        "for i in range(1, 11):\n",
        "    km = KMeans(n_clusters=i).fit(X)\n",
        "    clusters.append(km.inertia_)\n",
        "    \n",
        "sns.lineplot(x=list(range(1, 11)), y=clusters)\n",
        "plt.title('Searching for Elbow')\n",
        "plt.xlabel('Clusters')\n",
        "plt.ylabel('Inertia')\n",
        "plt.show()"
      ],
      "metadata": {
        "id": "Zh9k6R4hkziH"
      },
      "execution_count": null,
      "outputs": []
    },
    {
      "cell_type": "markdown",
      "source": [
        "Die Trägheit nimmt mit zunehmender Anzahl von Clustern kontinuierlich ab. Im Extremfall stellt jeder einzelne Datenpunkt einen Schwerpunkt dar und die Trägheit verschwindet, da jeder Punkt den Abstand 0 zu sich selbst hat. Wenn jedoch die Anzahl an Clustern der Anzahl an Datenpunkten entspricht, verfehlt das Clustering seinen Zweck.\n",
        "Um eine geeignete Anzahl an Clustern zu wählen, hilft der sogenannte <Mark>**Ellenbogenpunkt**</mark>. Dieser lässt sich im Diagramm visuell ablesen und die Anzahl der Cluster zu bestimmen."
      ],
      "metadata": {
        "id": "-3AcI95nk2Eu"
      }
    },
    {
      "cell_type": "markdown",
      "source": [
        "### DBSCAN"
      ],
      "metadata": {
        "id": "LNqqO8Cfk5QD"
      }
    },
    {
      "cell_type": "markdown",
      "source": [
        "Eine weitere Clustering-Methode stellt DBSCAN dar. DBSCAN steht für \"Density-Based Spatial Clustering of Applications with Noise\". Diese Technik ist einer der gängigsten Clustering-Algorithmen, die auf der Dichte von Objekten basieren. Es gibt bestimmte Geometrien der Datenpunktverteilung, die DBSCAN erfolgreich verarbeiten kann, wo K-Means versagt:"
      ],
      "metadata": {
        "id": "GMpD_xJ2k8-m"
      }
    },
    {
      "cell_type": "code",
      "source": [
        "Image(\"DBSCAN_vs_KMeans.png\")"
      ],
      "metadata": {
        "id": "-G-Ccggtk_T0"
      },
      "execution_count": null,
      "outputs": []
    },
    {
      "cell_type": "markdown",
      "source": [
        "DBSCAN geht davon aus, dass ein Punkt, der zu einem Cluster gehört, in der Nähe vieler anderer Punkte desselben Clusters liegen sollte. Daher identifiziert der Algorithmus zunächst sogenannte <mark>**Kernpunkte</mark>, die in der Nähe vieler anderer Punkte liegen, d. h. mindestens <code>min_samples</code>, also die Mindestanzahl an Nachbarn, die einen bestimmten Radius <code>eps</code> haben. Diese beiden Parameter repräsentieren die beiden wichtigsten Parameter, die für diesen Algorithmus eingestellt werden müssen.\n",
        "\n",
        "Im zweiten Schritt wird ein Kernpunkt zufällig ausgewählt und einem Cluster zugewiesen. Alle anderen Punkte in seiner Nähe werden dann demselben Cluster hinzugefügt. Dann werden alle Punkte in der Nähe *dieser* Punkte hinzugefügt, und so weiter, bis keine weiteren Punkte in der Nähe gefunden werden können, die nicht bereits zum Cluster gehören. Damit ist unser erster Cluster abgeschlossen.\n",
        "\n",
        "Der obige Vorgang wird dann für einen weiteren Kernpunkt wiederholt, der noch übrig ist, bis jeder Punkt, der einem Cluster zugeordnet werden kann, zugeordnet wurde. Jeder verbleibende Punkt wird als <mark>**Ausreißer</mark> betrachtet und erhält das Cluster-Label <code>-1</code>. \n",
        "\n",
        "Hier ist ein Beispielcode für <code>eps=6</code> und <code>min_samples=6</code>:"
      ],
      "metadata": {
        "id": "w0KDWby5lChE"
      }
    },
    {
      "cell_type": "code",
      "source": [
        "db = DBSCAN(eps=6, min_samples=6).fit(X)\n",
        "\n",
        "X['Labels'] = db.labels_\n",
        "sns.scatterplot(x=X['Income'], y=X['Score'], hue=X['Labels'], \n",
        "                palette=sns.color_palette('tab10', np.unique(db.labels_).shape[0]))\n",
        "plt.title('DBSCAN mit epsilon 6, min_samples 6')\n",
        "plt.show()"
      ],
      "metadata": {
        "id": "XP5HmgXhlF2k"
      },
      "execution_count": null,
      "outputs": []
    },
    {
      "cell_type": "markdown",
      "source": [
        "Wie wir sehen können, sind die Parameter noch nicht sehr gut abgestimmt, da die meisten Punkte noch keinen Clustern zugeordnet wurden."
      ],
      "metadata": {
        "id": "tIh55mgqlIZE"
      }
    },
    {
      "cell_type": "markdown",
      "source": [
        "<mark>**Aufgabe:**</mark> Probieren Sie verschiedene Parameter für DBSCAN aus, bis Sie ein zufriedenstellendes Ergebnis erhalten. Hinweis: Selbst mit optimierten Parametern schneidet DBSCAN bei diesem speziellen Datensatz nicht so gut ab wie K-Means, da die Cluster recht unterschiedliche Dichten aufweisen."
      ],
      "metadata": {
        "id": "tMFaHsJzlLSg"
      }
    },
    {
      "cell_type": "code",
      "source": [
        "# Füge Sie hier Ihren Code ein."
      ],
      "metadata": {
        "id": "pO-1rQCnlOtw"
      },
      "execution_count": null,
      "outputs": []
    }
  ]
}