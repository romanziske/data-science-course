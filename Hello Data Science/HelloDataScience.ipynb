{
 "cells": [
  {
   "cell_type": "code",
   "execution_count": 2,
   "id": "8352c7a9",
   "metadata": {},
   "outputs": [],
   "source": [
    "import csv"
   ]
  },
  {
   "cell_type": "markdown",
   "id": "198dee12",
   "metadata": {},
   "source": [
    "# Hello Data Science\n",
    "\n",
    "In diesem Jupyter-Notebook finden Sie einen kurzen Überblick zum Einsatz von Python im Bereich Data Science. Für die Bearbeitung dieser Aufgaben benötigen Sie die PDF-Datei *PythonForDataScience*, die eine Zusammenfassung der verwendeten Python-Befehle enthält. \n",
    "\n",
    "Bevor Sie loslegen: Sie können die Codeblöcke in diesem Jupyter-Notebook mit der Tastenkombination `strg+enter` ausführen!"
   ]
  },
  {
   "cell_type": "code",
   "execution_count": 3,
   "id": "f33d2860",
   "metadata": {},
   "outputs": [
    {
     "name": "stdout",
     "output_type": "stream",
     "text": [
      "Hello Data Science!\n"
     ]
    }
   ],
   "source": [
    "print('Hello Data Science!')"
   ]
  },
  {
   "cell_type": "markdown",
   "id": "cb682629",
   "metadata": {},
   "source": [
    "## Datensatz vorbereiten\n",
    "\n",
    "In den folgenden Übungen beschäftigen wir uns mit einem Datensatz, der interessante Informationen zu den Planeten in unserem Sonnensystem enthält.\n",
    "\n",
    "<span style=\"color:gray\">\n",
    "<details> <summary>Quelle</summary>\n",
    "https://nssdc.gsfc.nasa.gov/planetary/factsheet/index.html\n",
    "</details>\n",
    "</span>"
   ]
  },
  {
   "cell_type": "markdown",
   "id": "5e09f491",
   "metadata": {},
   "source": [
    "Planet| Abstand zur Sonne [km] | Durchmesser [km] | Masse [kg] | Umlaufzeit [Tagen]| Geschwindigkeit [km/h]\n",
    "-------- | ---- | --------- | --------------------- | ----- | -------\n",
    "Merkur   | $$5,8    \\cdot 10^7$$ | 4.879 \t|$$ 3,30 \\cdot 10^{23}$$ \t|88     | 172.332 \n",
    "Venus    | $$1,08   \\cdot 10^8$$ | 12.103 \t|$$ 4,87 \\cdot 10^{24}$$ \t|225    | 126.072 \n",
    "Erde \t | $$1,50   \\cdot 10^8$$ | 12.735 \t|$$ 5,97 \\cdot 10^{24}$$ \t|365 \t| 107.208 \n",
    "Mars \t | $$2,28   \\cdot 10^8$$ | 6.772 \t|$$ 6,42 \\cdot 10^{23}$$ \t|687 \t| 86.868  \n",
    "Jupiter  | $$7,78   \\cdot 10^8$$ | 138.346 \t|$$ 1,90 \\cdot 10^{27}$$ \t|4329   | 47.052  \n",
    "Saturn \t | $$1,433  \\cdot 10^9$$ | 114.632 \t|$$ 5,69 \\cdot 10^{26}$$ \t|10751  | 34.884  \n",
    "Uranus \t | $$2,872  \\cdot 10^9$$ | 50.532 \t|$$ 8,68 \\cdot 10^{25}$$ \t|30664  | 24.516  \n",
    "Neptun \t | $$4,495  \\cdot 10^9$$ | 49.105 \t|$$ 1,02 \\cdot 10^{26}$$ \t|60148  | 19.548  \n"
   ]
  },
  {
   "cell_type": "markdown",
   "id": "516e0411",
   "metadata": {},
   "source": [
    "Laden Sie als erstes den Inhalt aus der Datei **planeten.csv** in das Jupyter-Notebook und speichern Sie die Zeilen als Liste mit dem Namen **planeten**. Falls alles klappt, sollten Sie mit dem Befehl `print(planeten)` die Informationen aus der Tabelle sehen können."
   ]
  },
  {
   "cell_type": "code",
   "execution_count": 4,
   "id": "93f193f6",
   "metadata": {
    "scrolled": true
   },
   "outputs": [
    {
     "name": "stdout",
     "output_type": "stream",
     "text": [
      "[['Planet', ' Abstand zur Sonne', ' Durchmesser', ' Masse', ' Umlaufzeit', ' Geschwindigkeit'], ['Merkur', '   5.79e7', '  4.879', ' 0.33e24', '    88', ' 172.332'], ['Venus', '   1.08e8', '  12.103', ' 4.87e24', '   225', ' 126.072'], ['Erde', '    1.50e8', '  12.735', ' 5.97e24', '   365', ' 107.208'], ['Mars', '    2.28e8', '   6.772', ' 0.64e24', '   687', '  86.868'], ['Jupiter', ' 7.78e8', ' 138.346', ' 1.90e27', '  4329', '  47.052'], ['Saturn', '  1.43e9', ' 114.632', ' 5.69e26', ' 10751', '  34.884'], ['Uranus', '  2.87e9', '  50.532', ' 8.68e25', ' 30664', '  24.516'], ['Neptun', '  4.50e9', '  49.105', ' 1.02e26', ' 60148', '  19.548']]\n"
     ]
    }
   ],
   "source": [
    "planeten=[]\n",
    "\n",
    "with open(\"planeten.csv\") as planeten_file:\n",
    "    csv_reader = csv.reader(planeten_file, delimiter=',')\n",
    "    for row in csv_reader:\n",
    "        planeten.append(row)\n",
    "\n",
    "print(planeten)"
   ]
  },
  {
   "cell_type": "markdown",
   "id": "6c789ebc",
   "metadata": {},
   "source": [
    "Extrahieren Sie aus der Planeten-Liste die Daten für den Planeten Jupiter. Welchen Datentyp hat die Geschwindigkeit von Jupiter?\n",
    "\n",
    "<span style=\"color:gray\">\n",
    "<details> <summary>Tipp!</summary>\n",
    "Die Nummerierung der Listenelemente in Python beginnt mit dem Index 0!\n",
    "</details>\n",
    "</span>"
   ]
  },
  {
   "cell_type": "code",
   "execution_count": 5,
   "id": "412625e6",
   "metadata": {},
   "outputs": [
    {
     "data": {
      "text/plain": [
       "str"
      ]
     },
     "execution_count": 5,
     "metadata": {},
     "output_type": "execute_result"
    }
   ],
   "source": [
    "type(planeten[2][5])\n"
   ]
  },
  {
   "cell_type": "markdown",
   "id": "c48c58a5",
   "metadata": {},
   "source": [
    "Die Zeichenketten müssen für die weiteren Aufgaben in Zahlen übersetzt werden:\n",
    "- Wandeln Sie die Werte für Durchmesser, Masse, Geschwindigkeit den Abstand zur Sonne in Fließkommazahlen um\n",
    "- Ersetzen Sie die Umlaufzeiten durch ganze Zahlen\n",
    "\n",
    "<span style=\"color:gray\">\n",
    "<details> <summary>Tipp!</summary>\n",
    "Verwenden Sie eine For-Schleife um jeden Planeten in der Liste aufzurufen!\n",
    "</details>\n",
    "</span>"
   ]
  },
  {
   "cell_type": "code",
   "execution_count": 6,
   "id": "3704fd8f",
   "metadata": {
    "scrolled": false
   },
   "outputs": [
    {
     "name": "stdout",
     "output_type": "stream",
     "text": [
      "[['Planet', ' Abstand zur Sonne', ' Durchmesser', ' Masse', ' Umlaufzeit', ' Geschwindigkeit'], ['Merkur', 57900000.0, 4.879, 3.3e+23, 88, 172.332], ['Venus', 108000000.0, 12.103, 4.87e+24, 225, 126.072], ['Erde', 150000000.0, 12.735, 5.97e+24, 365, 107.208], ['Mars', 228000000.0, 6.772, 6.4e+23, 687, 86.868], ['Jupiter', 778000000.0, 138.346, 1.9e+27, 4329, 47.052], ['Saturn', 1430000000.0, 114.632, 5.69e+26, 10751, 34.884], ['Uranus', 2870000000.0, 50.532, 8.68e+25, 30664, 24.516], ['Neptun', 4500000000.0, 49.105, 1.02e+26, 60148, 19.548]]\n"
     ]
    }
   ],
   "source": [
    "for index, row in enumerate(planeten):\n",
    "    if index == 0: continue\n",
    "    row[1] = float(row[1])\n",
    "    row[2] = float(row[2])\n",
    "    row[3] = float(row[3])\n",
    "    row[4] = int(row[4])\n",
    "    row[5] = float(row[5])\n",
    "\n",
    "print(planeten)"
   ]
  },
  {
   "cell_type": "markdown",
   "id": "aaa1661c",
   "metadata": {},
   "source": [
    "<span style=\"color:gray\">\n",
    "<details> <summary>ZWISCHENLÖSUNG</summary>\n",
    "Die Werte für den Planeten Merkur sollten zum Schluss so aussehen:    \n",
    "    ['Merkur', 57900000.0, 4.879, 3.3e+23, 88, 172.332]\n",
    "</details>\n",
    "</span>"
   ]
  },
  {
   "cell_type": "markdown",
   "id": "10247a81",
   "metadata": {},
   "source": [
    "Entfernen Sie zum Schluss noch die Zeile mit den Spalten-Überschriften aus dem Datensatz."
   ]
  },
  {
   "cell_type": "code",
   "execution_count": 7,
   "id": "348ccde1",
   "metadata": {},
   "outputs": [
    {
     "data": {
      "text/plain": [
       "[['Merkur', 57900000.0, 4.879, 3.3e+23, 88, 172.332],\n",
       " ['Venus', 108000000.0, 12.103, 4.87e+24, 225, 126.072],\n",
       " ['Erde', 150000000.0, 12.735, 5.97e+24, 365, 107.208],\n",
       " ['Mars', 228000000.0, 6.772, 6.4e+23, 687, 86.868],\n",
       " ['Jupiter', 778000000.0, 138.346, 1.9e+27, 4329, 47.052],\n",
       " ['Saturn', 1430000000.0, 114.632, 5.69e+26, 10751, 34.884],\n",
       " ['Uranus', 2870000000.0, 50.532, 8.68e+25, 30664, 24.516],\n",
       " ['Neptun', 4500000000.0, 49.105, 1.02e+26, 60148, 19.548]]"
      ]
     },
     "execution_count": 7,
     "metadata": {},
     "output_type": "execute_result"
    }
   ],
   "source": [
    "planeten.pop(0)\n",
    "planeten"
   ]
  },
  {
   "cell_type": "markdown",
   "id": "5555165a",
   "metadata": {},
   "source": [
    "## Datensatz analysieren und visualisieren\n",
    "\n",
    "Nachdem Sie die Informationen zu den Planeten im Sonnensystem vorbereitet haben, können Sie nun eine erste Einsicht aus dem Datensatz **planeten** gewinnen. Dazu untersuchen wir den Zusammenhang zwischen dem Abstand zur Sonne und der Geschwindigkeit eines Planeten.  \n",
    "\n",
    "Extrahieren Sie aus dem Datensatz drei Listen mit der Geschindigkeit (**speed**), dem Abstand zur Sonne (**distance**) und dem Namen (**name**) der Planeten. Transformieren Sie den Abstand zur Sonne für jeden Planeten von der Einheit $[km]$ zur Einheit $[10^6 km]$"
   ]
  },
  {
   "cell_type": "code",
   "execution_count": 43,
   "id": "f679b583",
   "metadata": {},
   "outputs": [
    {
     "name": "stdout",
     "output_type": "stream",
     "text": [
      "[172.332, 126.072, 107.208, 86.868, 47.052, 34.884, 24.516, 19.548]\n",
      "[57.9, 108.0, 150.0, 228.0, 778.0, 1430.0, 2870.0, 4500.0]\n",
      "['Merkur', 'Venus', 'Erde', 'Mars', 'Jupiter', 'Saturn', 'Uranus', 'Neptun']\n"
     ]
    }
   ],
   "source": [
    "speed=[]\n",
    "distance=[]\n",
    "name=[]\n",
    "\n",
    "for planet in planeten:\n",
    "    speed.append(planet[5])\n",
    "    distance.append(planet[1]/1e6)\n",
    "    name.append(planet[0])\n",
    "\n",
    "print(speed)\n",
    "print(distance)\n",
    "print(name)"
   ]
  },
  {
   "cell_type": "markdown",
   "id": "ae09398d",
   "metadata": {},
   "source": [
    "<span style=\"color:gray\">\n",
    "<details> <summary>ZWISCHENLÖSUNG</summary>\n",
    "speed=[172.332, 126.072, 107.208, 86.868, 47.052, 34.884, 24.516, 19.548]\n",
    "distance=[57.9, 108.0, 150.0, 228.0, 778.0, 1430.0, 2870.0, 4500.0]\n",
    "</details>\n",
    "</span>"
   ]
  },
  {
   "cell_type": "markdown",
   "id": "a0520100",
   "metadata": {},
   "source": [
    "Welcher Planet hat die höchste Geschwindigkeit?\n",
    "\n",
    "<span style=\"color:gray\">\n",
    "<details> <summary>Tipp!</summary>\n",
    "Um den Index und Namen des schnellsten Planeten zu finden, könnte Ihnen help(list.index) weiterhelfen...\n",
    "</details>\n",
    "</span>"
   ]
  },
  {
   "cell_type": "code",
   "execution_count": 32,
   "id": "021ed846",
   "metadata": {},
   "outputs": [
    {
     "name": "stdout",
     "output_type": "stream",
     "text": [
      "Der Planet Merkur hat die maximale Geschwinigkeit 172.332 km/h\n"
     ]
    }
   ],
   "source": [
    "maximumSpeed=max(speed)\n",
    "\n",
    "print(\"Der Planet \"+ name[speed.index(maximumSpeed)] + \" hat die maximale Geschwinigkeit \"+ str(maximumSpeed)+ \" km/h\")"
   ]
  },
  {
   "cell_type": "markdown",
   "id": "c7b04e72",
   "metadata": {},
   "source": [
    "Visualisieren Sie den Zusammenhang zwischen der Distanz zur Sonne  und der Geschwindigkeit der Planeten. Füllen Sie dazu die Lücken im folgenden Code-Block. Welchen Zusammenhang können Sie erkennen? "
   ]
  },
  {
   "cell_type": "code",
   "execution_count": 10,
   "id": "7140e6bc",
   "metadata": {},
   "outputs": [],
   "source": [
    "import matplotlib.pyplot as plt"
   ]
  },
  {
   "cell_type": "code",
   "execution_count": 11,
   "id": "f2e9f644",
   "metadata": {
    "scrolled": false
   },
   "outputs": [
    {
     "data": {
      "image/png": "[encoded data removed]",
      "text/plain": [
       "<Figure size 640x480 with 1 Axes>"
      ]
     },
     "metadata": {},
     "output_type": "display_data"
    }
   ],
   "source": [
    "# Diese Zeile öffnet den Plot als interaktives Fenster im Jupyter-Notebook: \n",
    "%matplotlib inline\n",
    "\n",
    "fig1, ax1= plt.subplots()\n",
    "\n",
    "# Erzeugen Sie einen Scatterplot (X-Achse: Abstand zur Sonne, Y-Achse: Geschwindigkeit, Markerfarbe:Rot)\n",
    "ax1.scatter(distance, speed, color='red')\n",
    "\n",
    "# Legen Sie den Achsenabschnitt fest (X-Achse: [0,5200], Y-Achse: [0,200])\n",
    "ax1.axis([0,5200,0,200])\n",
    "\n",
    "# Wählen Sie eine passende Beschriftung\n",
    "ax1.set(title='Zusammenhang zwischen Geschwindigkeit und Abstand zur Sonne eines Planeten',\n",
    "        xlabel='Abstand zur Sonne',\n",
    "        ylabel='Geschwindigkeit')\n",
    "\n",
    "# Beschriften Sie die Datenpunkte mit dem Namen des Planeten\n",
    "for i in range(1):\n",
    "    ax1.annotate(planeten[i],(0.5,0.5))\n",
    "\n",
    "plt.show()"
   ]
  },
  {
   "cell_type": "markdown",
   "id": "872ec863",
   "metadata": {},
   "source": [
    "## Hypothesen überprüfen"
   ]
  },
  {
   "cell_type": "markdown",
   "id": "73511422",
   "metadata": {},
   "source": [
    "Johannes Kepler behauptete zum Anfang des 17. Jahrhunderts: *Die Quadrate der Umlaufzeiten zweier Planeten verhalten sich zueinander wie die dritten Potenzen der großen Halbachsen ihrer Bahnellipsen.*  Diese Aussage wird als drittes Keplersche Gesetz bezeichnet und kann durch die folgende mathematische Formel formalisiert werden:\n",
    "$$c_k=\\frac{T^2}{a^3}$$\n",
    "Falls die Behauptung von Johannes Kepler stimmt, so ist die Kepler-Konstante $c_k$ für jeden Planeten im Sonnensystem konstant."
   ]
  },
  {
   "cell_type": "markdown",
   "id": "6032465d",
   "metadata": {},
   "source": [
    "Überprüfen Sie das dritte Keplersche Gesetz, indem Sie für jeden Planeten die Kepler-Konstante berechnen und in der Liste **kepler** speichern. Transformieren Sie für die Berechnung den Abstand zur Sonne für jeden Planeten von der Einheit $[km]$ zur Einheit $[10^6 km]$. Geben Sie anschließend die Werte in der Liste auf zwei Nachkommastellen gerundet mit dem Printbefehl aus. Stimmt die Hypothese?"
   ]
  },
  {
   "cell_type": "code",
   "execution_count": 33,
   "id": "a5418bd8",
   "metadata": {
    "scrolled": true
   },
   "outputs": [
    {
     "name": "stdout",
     "output_type": "stream",
     "text": [
      "[0.039896027366984964, 0.04018775720164609, 0.03947407407407407, 0.03982070394129368, 0.039795721293821175, 0.039526613881985785, 0.03977515880670069, 0.039701310331961594]\n"
     ]
    }
   ],
   "source": [
    "kepler=[]\n",
    "\n",
    "for planet in planeten:\n",
    "    ck = (planet[4]**2) / (((planet[1]/1e6)**3 ))\n",
    "    kepler.append(ck)\n",
    "\n",
    "print(kepler)"
   ]
  },
  {
   "cell_type": "markdown",
   "id": "48317a94",
   "metadata": {},
   "source": [
    "Die Kepler-Konstante wird in der Fachliteratur in der Einheit $Sekunde^2/Meter^3$ angegeben. Berechnen Sie das arithmetische Mittel aus der **kepler**-Liste und wandeln Sie dann die Einheiten um!  \n",
    "\n",
    "\n",
    "<span style=\"color:gray\">\n",
    "<details> <summary>Lösungshinweis: Umrechungsfaktor</summary>\n",
    "$\\frac{(Tage)^2}{(10^6 km)^3}=\\frac{(24\\cdot60\\cdot60 Sekunden)^2}{(10^9 m)^3}$\n",
    "</details>\n",
    "</span>"
   ]
  },
  {
   "cell_type": "code",
   "execution_count": 34,
   "id": "fdac161b",
   "metadata": {
    "scrolled": false
   },
   "outputs": [
    {
     "name": "stdout",
     "output_type": "stream",
     "text": [
      "2.97e-19\n"
     ]
    }
   ],
   "source": [
    "mean=sum(kepler)/len(kepler)\n",
    "factor=((24*60*60)**2)/((1e9)**3)\n",
    "keplerconst=mean*factor\n",
    "\n",
    "print('{:0.2e}'.format(keplerconst))"
   ]
  },
  {
   "cell_type": "markdown",
   "id": "789ef36d",
   "metadata": {},
   "source": [
    "<span style=\"color:gray\">\n",
    "<details> <summary>LÖSUNG</summary>\n",
    "Die Kepler-Konstante ist 2.97e-19\n",
    "</details>\n",
    "</span>"
   ]
  },
  {
   "cell_type": "markdown",
   "id": "87872faf",
   "metadata": {},
   "source": [
    "# Forschungsfrage: Ist Pluto ein Planet?"
   ]
  },
  {
   "cell_type": "markdown",
   "id": "8b0afb93",
   "metadata": {},
   "source": [
    "Der Himmelskörper Pluto wurde am 18. Februar 1930 entdeckt und als neunter Planet im Sonnensystem deklariert. Im August 2006 wurde Pluto der Planetenstatus wieder aberkannt und er wurde der Kategorie Zwergplaneten zugeordnet. \n",
    "In der folgenden Übungsaufgabe wird ein linearer Klassifikator entwickelt, der Himmelskörper basierend auf den Eigenschaften Masse und Abstand zur Sonne in die Kategorien Planet oder Zwergplanet einordnen kann."
   ]
  },
  {
   "cell_type": "markdown",
   "id": "3d6856ff",
   "metadata": {},
   "source": [
    "# Daten vorbereiten\n",
    "\n",
    "Der lineare Klassifikator entwickelt eine Entscheidungsregel durch maschinelles Lernen. Als Trainingsdaten werden die Planeten aus unserem Datensatz verwendet und mit Daten zu den Zwergplaneten Makemake, Eris und Haumea ergänzt.\n",
    "\n",
    "<span style=\"color:gray\">\n",
    "<details> <summary>Quelle</summary>\n",
    "https://web.gps.caltech.edu/~mbrown/dps.html\n",
    "</details>\n",
    "</span>"
   ]
  },
  {
   "cell_type": "code",
   "execution_count": 48,
   "id": "c6536fc7",
   "metadata": {},
   "outputs": [],
   "source": [
    "distance=[]\n",
    "weight=[]\n",
    "name=[]\n",
    "for planet in planeten:\n",
    "    name.append(planet[0])\n",
    "    distance.append(planet[1])\n",
    "    weight.append(planet[3])  "
   ]
  },
  {
   "cell_type": "markdown",
   "id": "29f831c2",
   "metadata": {},
   "source": [
    "Fügen Sie die Daten der drei Zwergplaneten zu den Listen **distance**, **weight** und **name** hinzu.\n",
    "\n",
    "Planet   | Abstand zur Sonne [km] | Masse [kg]  \n",
    "-------- | ---------------------- | --------- \n",
    "Makemake | $$6.885\\cdot 10^9$$      | $$2.99\\cdot 10^{21}$$\n",
    "Eris     | $$1.015\\cdot 10^{10}$$   | $$1.67\\cdot 10^{22}$$\n",
    "Haumea   | $$6.496\\cdot 10^9$$      | $$4.01\\cdot 10^{21}$$"
   ]
  },
  {
   "cell_type": "code",
   "execution_count": 49,
   "id": "50a821c2",
   "metadata": {},
   "outputs": [
    {
     "name": "stdout",
     "output_type": "stream",
     "text": [
      "['Merkur', 'Venus', 'Erde', 'Mars', 'Jupiter', 'Saturn', 'Uranus', 'Neptun', 'Makemake', 'Eris', 'Haumea']\n",
      "[57900000.0, 108000000.0, 150000000.0, 228000000.0, 778000000.0, 1430000000.0, 2870000000.0, 4500000000.0, 6885000000.0, 10150000000.0, 6496000000.0]\n",
      "[3.3e+23, 4.87e+24, 5.97e+24, 6.4e+23, 1.9e+27, 5.69e+26, 8.68e+25, 1.02e+26, 2.99e+21, 1.67e+22, 4.01e+21]\n"
     ]
    }
   ],
   "source": [
    "Zwergplaneten=[['Makemake',6.885e9,2.99e21],['Eris',1.015e10,1.67e22],['Haumea',6.496e9,4.01e21]]\n",
    "\n",
    "for planet in Zwergplaneten:\n",
    "    name.append(planet[0])\n",
    "    distance.append(planet[1])\n",
    "    weight.append(planet[2])\n",
    "\n",
    "print(name)\n",
    "print(distance)\n",
    "print(weight)"
   ]
  },
  {
   "cell_type": "markdown",
   "id": "5e7afca7",
   "metadata": {},
   "source": [
    "### Abstand zur Sonne in Astronomischer Einheit\n",
    "Eine Astronomische Einheit entspricht dem Abstand zwischen Sonne und Erde:\n",
    "$$1 AE = 1.5\\cdot 10^8 km $$\n",
    "Berechnen Sie für jeden Planeten die Distanz zur Sonne in Astronomischen Einheiten und speichern Sie das Ergebnis in der Liste **distanceAE**."
   ]
  },
  {
   "cell_type": "code",
   "execution_count": 50,
   "id": "02d3aff5",
   "metadata": {},
   "outputs": [
    {
     "name": "stdout",
     "output_type": "stream",
     "text": [
      "[0.386, 0.72, 1.0, 1.52, 5.1866666666666665, 9.533333333333333, 19.133333333333333, 30.0, 45.9, 67.66666666666667, 43.306666666666665]\n"
     ]
    }
   ],
   "source": [
    "distanceAE=[]\n",
    "\n",
    "for dis in distance:\n",
    "    distanceAE.append(dis/(1.5e8))\n",
    "\n",
    "\n",
    "print(distanceAE)"
   ]
  },
  {
   "cell_type": "markdown",
   "id": "44937b9f",
   "metadata": {},
   "source": [
    "<span style=\"color:gray\">\n",
    "<details> <summary>ZWISCHENLÖSUNG</summary>\n",
    "distanceAE=[0.386, 0.72, 1.0, 1.52, 5.1866666666666665, 9.533333333333333, 19.133333333333333, 30.0, 45.9, 67.66666666666667, 43.306666666666665]\n",
    "</details>\n",
    "</span>"
   ]
  },
  {
   "cell_type": "markdown",
   "id": "f5947273",
   "metadata": {},
   "source": [
    "### Masse der Planeten relativ zur Erdmasse\n",
    "Berechenen Sie für jeden Planeten die Masse in Relation zum Gewicht der Erde und speichern Sie das Ergebnis in der Liste **weightME**. Um die Daten besser zu visualisieren, transformieren Sie bitte das Gewicht mit dem Logarithmus zur Basis 10.\n",
    "\n",
    "<span style=\"color:gray\">\n",
    "<details> <summary>Tipp!</summary>\n",
    "Die Logarithmusfunktion finden Sie im Python Modul math.\n",
    "</details>\n",
    "</span>"
   ]
  },
  {
   "cell_type": "code",
   "execution_count": 51,
   "id": "53a5c79b",
   "metadata": {
    "scrolled": true
   },
   "outputs": [
    {
     "name": "stdout",
     "output_type": "stream",
     "text": [
      "[-1.2574603912514817, -0.08844536991473481, 0.0, -0.9697943571454819, 2.50277926982346, 1.9791379352657021, 1.1625453940471229, 1.2326258406325485, -3.3003031428049394, -2.5532578599817857, -3.172829958509187]\n"
     ]
    }
   ],
   "source": [
    "import math\n",
    "\n",
    "weightME=[]\n",
    "\n",
    "for w in weight:\n",
    "    weightME.append(math.log10(w/weight[2]))\n",
    "\n",
    "print(weightME)"
   ]
  },
  {
   "cell_type": "markdown",
   "id": "4ee57d78",
   "metadata": {},
   "source": [
    "<span style=\"color:gray\">\n",
    "<details> <summary>ZWISCHENLÖSUNG</summary>\n",
    "weightME=[-1.2574603912514815, -0.0884453699147348, 0.0, -0.9697943571454819, 2.5027792698234594, 1.979137935265702, 1.1625453940471226, 1.2326258406325485, -3.300303142804939, -2.5532578599817857, -3.1728299585091864]\n",
    "</details>\n",
    "</span>"
   ]
  },
  {
   "cell_type": "markdown",
   "id": "4b25e791",
   "metadata": {},
   "source": [
    "# Visualisierung\n",
    "\n",
    "Die Funktion `plot_planeten` visualisiert den Zusammenhang zwischen dem Abstand zur Sonne in AE und dem Logarithmus Masse. Können Sie einen Unterschied zwischen Planeten und Zwergplanteten erkennen?"
   ]
  },
  {
   "cell_type": "code",
   "execution_count": 53,
   "id": "b6852463",
   "metadata": {
    "scrolled": true
   },
   "outputs": [
    {
     "data": {
      "image/png": "[encoded data removed]",
      "text/plain": [
       "<Figure size 700x700 with 1 Axes>"
      ]
     },
     "metadata": {},
     "output_type": "display_data"
    }
   ],
   "source": [
    "def plot_planeten():\n",
    "    fig, ax =plt.subplots()\n",
    "    ax.set(title='Planeten und Zwergplaneten',xlabel='Distance in AE', ylabel='Log(Weight in kg)')\n",
    "    ax.set(xlim=(-5, 80), ylim=(-4, 3))  # Achsenintervalle\n",
    "    ax.grid()                            # Gitternetz   \n",
    "    ax.set_axisbelow(True)               # Datenpunkte werden übder dem Gitternetz angezeigt\n",
    "    fig.set_figheight(7)                 # Größe der Abbildung, Achsen quadratisch\n",
    "    fig.set_figwidth(7)\n",
    "    for i in range(len(name)):           # Benennung der Datenpunkte\n",
    "        ax.annotate(name[i], (distanceAE[i]+1.5, weightME[i]),fontsize=8)\n",
    "    ax.scatter(distanceAE,weightME, marker=\"o\", s=100) # Plot der Datenpunkte\n",
    "    return fig,ax \n",
    "\n",
    "fig,ax=plot_planeten()\n",
    "plt.show()"
   ]
  },
  {
   "cell_type": "markdown",
   "id": "6feac897",
   "metadata": {},
   "source": [
    "# Trainingsdaten\n",
    "\n",
    "In der Zeichnung *Planeten und Zwergplaneten* kann man gut erkennen, dass sich die zwei Kategorien durch eine Gerade getrennt werden können. Bitte erstellen Sie im nächsten Schritt die Trainingsdaten:\n",
    "\n",
    "**Datenpunkte**  \n",
    "$X=[(x_0,y_0),(x_1,y_1),...,(x_n,y_n)]$ wobei $x_i\\in distanceAE$ und $y_i\\in weightME$\n",
    "\n",
    "**Kategorien**  \n",
    "$Y=[1,1,...,-1]$ mit $1$ falls $(x_i,y_i)$ ein Planet ist, oder $-1$ für einen Zwergplanet"
   ]
  },
  {
   "cell_type": "code",
   "execution_count": 54,
   "id": "b144c890",
   "metadata": {},
   "outputs": [
    {
     "name": "stdout",
     "output_type": "stream",
     "text": [
      "[(0.386, -1.2574603912514817), (0.72, -0.08844536991473481), (1.0, 0.0), (1.52, -0.9697943571454819), (5.1866666666666665, 2.50277926982346), (9.533333333333333, 1.9791379352657021), (19.133333333333333, 1.1625453940471229), (30.0, 1.2326258406325485), (45.9, -3.3003031428049394), (67.66666666666667, -2.5532578599817857), (43.306666666666665, -3.172829958509187)] [1, 1, 1, 1, 1, 1, 1, 1, -1, -1, -1]\n"
     ]
    }
   ],
   "source": [
    "X=[]\n",
    "Y=[1, 1, 1, 1, 1, 1, 1, 1, -1, -1, -1]\n",
    "\n",
    "for i in range(len(distanceAE)):\n",
    "    X.append((distanceAE[i], weightME[i]))\n",
    "\n",
    "print(X,Y)"
   ]
  },
  {
   "cell_type": "markdown",
   "id": "fc9df4a9",
   "metadata": {},
   "source": [
    "<span style=\"color:gray\">\n",
    "<details> <summary>ZWISCHENLÖSUNG</summary>\n",
    "X=[[0.386, -1.2574603912514815], [0.72, -0.0884453699147348], [1.0, 0.0], [1.52, -0.9697943571454819], [5.1866666666666665, 2.5027792698234594], [9.533333333333333, 1.979137935265702], [19.133333333333333, 1.1625453940471226], [30.0, 1.2326258406325485], [45.9, -3.300303142804939], [67.66666666666667, -2.5532578599817857], [43.306666666666665, -3.1728299585091864]] \n",
    "    \n",
    "Y=[1, 1, 1, 1, 1, 1, 1, 1, -1, -1, -1]\n",
    "</details>\n",
    "</span>\n",
    "\n",
    "\n",
    "\n",
    "Für die weitere Übung werden die Listen X und Y durch einen numpy array ersetzt:"
   ]
  },
  {
   "cell_type": "code",
   "execution_count": 55,
   "id": "538267b1",
   "metadata": {},
   "outputs": [],
   "source": [
    "import numpy as np\n",
    "X=np.array(X)\n",
    "Y=np.array(Y)"
   ]
  },
  {
   "cell_type": "markdown",
   "id": "9b02c0dd",
   "metadata": {},
   "source": [
    "# Aktivierungsfunktion\n",
    "\n",
    "Die Aktivierungsfunktion eines linearen Klassifikators \n",
    "$$f\\left((x_i,y_i)\\right)=w_0+w_1\\cdot x_i+w_2\\cdot y_i$$\n",
    "beschreibt eine Gerade, die Planeten von Zwergplaneten trennt. Liegt ein Datenpunkt $(x_i,y_i)$ oberhalb der Gerade, so ist $f\\left((x_i,y_i)\\right)>0$, liegt der Datenpunkt unterhalb der Gerade, so ist $f\\left((x_i,y_i)\\right)<0$. Für $f\\left((x_i,y_i)\\right)=0$ liegt der Punkt exakt auf der Gerade.\n",
    "\n",
    "In diesem Beispiel soll um die Gerade ein gewisser Spielraum frei bleiben, deshalb definieren wir die Entscheidungsregel wie folgt:\n",
    "- Falls $f\\left((x_i,y_i)\\right)\\geq 10$ gehört ein Punkt zur Kategorie $1$ (Planet)\n",
    "- Falls $f\\left((x_i,y_i)\\right)\\leq-10$ gehört ein Punkt zur Kategorie $-1$ (Zwergplanet)\n",
    "- Falls $-10<f\\left((x_i,y_i)\\right)<10$ kann der Punkt nicht kategorisiert werden und erhält das Label $0$\n",
    "\n",
    "Definiere eine Funktion `classify`, die einen Datenpunkt mit den Koordinaten $x_i$ und $y_i$ und eine Liste der Gewichte $w=[w_0,w_1,w_2]$ akzeptiert, den Wert der Aktivierungsfunktion berechnet und die Kategorie des Datenpunktes ausgibt.\n",
    " \n"
   ]
  },
  {
   "cell_type": "code",
   "execution_count": 56,
   "id": "289cb705",
   "metadata": {},
   "outputs": [],
   "source": [
    "def classify(x,y,w):\n",
    "    val = w[0] + w[1]*x + w[2]*y\n",
    "\n",
    "    if val >= 10:\n",
    "        return 1\n",
    "    \n",
    "    if val <= -10:\n",
    "        return -1\n",
    "    \n",
    "    else :\n",
    "        return 0"
   ]
  },
  {
   "cell_type": "markdown",
   "id": "6a5d87d1",
   "metadata": {},
   "source": [
    "Im folgenden Code-Block können Sie Ihre `classify`-Implementieung testen. Falls alles richtig ist, sollten Sie dreimal **True** erhalten!"
   ]
  },
  {
   "cell_type": "code",
   "execution_count": 57,
   "id": "cffdc6b9",
   "metadata": {},
   "outputs": [
    {
     "name": "stdout",
     "output_type": "stream",
     "text": [
      "True\n",
      "True\n",
      "True\n"
     ]
    }
   ],
   "source": [
    "# Test\n",
    "w=[0,1,1]\n",
    "print(classify(1,2,w)==0)\n",
    "print(classify(10,1,w)==1)\n",
    "print(classify(-10,-1,w)==-1)"
   ]
  },
  {
   "cell_type": "markdown",
   "id": "ae0e62d4",
   "metadata": {},
   "source": [
    "# Maschinelles Lernen\n",
    "\n",
    "Die Lage der Trenngerade wird durch die Gewicht $w_0, w_1$ und $w_2$ beeinflusst. Diese Gewichte werden beim maschinellen Lernen durch eine Update-Funktion angepasst.\n",
    "\n",
    "Sei $w=[w_0,w_1,w_2]$ der Gewichtsvektor und $v=[1,x_i,y_i]$ ein Vektor mit den Datenpunkten, so ergibt das Skalarprodukt der zwei Vektoren genau die Aktivierungsfunktion $f\\left((x_i,y_i)\\right)=w\\circ v=w_0+w_1\\cdot x_i+w_2\\cdot y_i$. Der Gewichtsvektor wird in jedem Trainingsschritt mit der folgenden Update-Regel agepasst:\n",
    "$$w_{neu}=w_{alt}+\\eta \\cdot \\Delta \\cdot v$$\n",
    "Dabei ist $\\Delta$ die Differenz aus der tatsächlichen Kategorie und der berechneten Klassifizierung und $\\eta$ die Lerngeschwindigkeit."
   ]
  },
  {
   "cell_type": "markdown",
   "id": "e7b9fc73",
   "metadata": {},
   "source": [
    "<span style=\"color:gray\">\n",
    "<details> <summary>ZUSATZINFORMATIONEN: Warum verbessert die Update-Regel die Gewichte?</summary>\n",
    "Durch die Update-Regel ändert sich die Aktivierungsfunktion im nächsten Trainingsschritt wie folgt:\n",
    "$$w_{neu}\\circ v=(w_{alt}+\\eta \\cdot \\Delta \\cdot v)\\circ v= w_{alt}\\circ v+\\eta \\cdot \\Delta \\cdot (v)^2$$\n",
    "Angenommen wir haben einen Datenpunkt mit Kategorie $1$, der aber falsch klassifiziert wurde als $-1$. Der Wert der Akivierungsfunktion ist für diesen Datenpunkt also zu niedrig. Mit der Differenz $\\Delta= 1-(-1)=2$ gilt mit den neuen Gewichten:\n",
    "$$w_{neu}\\circ v=w_{alt}\\circ v+\\eta \\cdot 2 \\cdot (v)^2>w_{alt}\\circ v$$\n",
    "Durch ähnliche Rechnungen kann man auch die Verbesserung der Gewichte für die andeeren Klassifizieerungsfehler zeigen.\n",
    "    \n",
    "Weitere Informationen zum Perceptron finden Sie in der Literaturempfehlung *Data Science-Best Practices mit Python* von Benjamin M. Abdel-Karim.\n",
    "</details>\n",
    "</span>"
   ]
  },
  {
   "cell_type": "code",
   "execution_count": 63,
   "id": "9c802e70",
   "metadata": {},
   "outputs": [
    {
     "name": "stdout",
     "output_type": "stream",
     "text": [
      "[36.60000000000016, -0.7649333333333326, 20.867253617720817]\n"
     ]
    }
   ],
   "source": [
    "def learn(X,Y):\n",
    "    w=[0.0,0.0,0.0]  # Startwerte der Gewichte\n",
    "    eta=0.1          # Lerngeschwindigkeit\n",
    "    epochs=300       # Anzahl der Trainingsdurchläufe\n",
    "    for j in range(epochs):\n",
    "        for i in range(len(X)):\n",
    "            update = eta * ( Y[i] - classify(X[i][0],X[i][1],w) )\n",
    "            w[0]+=update\n",
    "            w[1]+=update*X[i][0]\n",
    "            w[2]+=update*X[i][1]\n",
    "    return w\n",
    "\n",
    "w=learn(X,Y) # Gewichte der Aktivierungsfunktion\n",
    "print(w)"
   ]
  },
  {
   "cell_type": "markdown",
   "id": "193f381d",
   "metadata": {},
   "source": [
    "# Visualisierung des linearen Klassifikators\n",
    "\n",
    "Für die Punkte auf der Trenngeraden, folgt aus der Aktivierungsfunktion $w_0+w_1\\cdot x+w_2\\cdot y=0$\n",
    "Damit ergibt sich die Geradengleichung:\n",
    "$$y=\\tfrac{-w_1}{w_2}x-\\tfrac{w_0}{w_2}$$\n",
    "Berechnen Sie für die Punkte $x$ die Werte $y$ auf der Trenngerade."
   ]
  },
  {
   "cell_type": "code",
   "execution_count": 65,
   "id": "b8777b0e",
   "metadata": {},
   "outputs": [
    {
     "name": "stdout",
     "output_type": "stream",
     "text": [
      "[-1.9372298533975514, -1.75394427414822, -1.3873731156495577, -0.28765964015357004, 1.17862499384108]\n"
     ]
    }
   ],
   "source": [
    "x=[-5,0,10,40,80]\n",
    "y=[]\n",
    "\n",
    "for val in x:\n",
    "    y.append((-w[1]/w[2])*val - w[0]/w[2])\n",
    "\n",
    "print(y)"
   ]
  },
  {
   "cell_type": "markdown",
   "id": "be21aae2",
   "metadata": {},
   "source": [
    "Die Trenngerade sind dann wie folgt aus:"
   ]
  },
  {
   "cell_type": "code",
   "execution_count": 66,
   "id": "94333c95",
   "metadata": {},
   "outputs": [
    {
     "data": {
      "image/png": "[encoded data removed]",
      "text/plain": [
       "<Figure size 700x700 with 1 Axes>"
      ]
     },
     "metadata": {},
     "output_type": "display_data"
    }
   ],
   "source": [
    "fig, ax=plot_planeten()\n",
    "ax.plot(x,y,c='r')\n",
    "plt.show()"
   ]
  },
  {
   "cell_type": "markdown",
   "id": "3e1e07a9",
   "metadata": {},
   "source": [
    "## Ist Pluto ein Planet oder ein Zwergplanet?\n",
    "Pluto hat die große Halbachse $a=39,482 AE$ und das Gewicht $1,30\\cdot 10^{22}$ kg. Ist Pluto ein Planet oder Zwergplanet?"
   ]
  },
  {
   "cell_type": "code",
   "execution_count": 67,
   "id": "860956e7",
   "metadata": {},
   "outputs": [
    {
     "name": "stdout",
     "output_type": "stream",
     "text": [
      "Pluto ist ein Zwergplanet!\n"
     ]
    }
   ],
   "source": [
    "import math\n",
    "pluto=[39.482,math.log(1.3e22/5.97e24,10)]\n",
    "kategorie=np.sign(w[0]+w[1]*pluto[0]+w[2]*pluto[1])\n",
    "\n",
    "if kategorie==1:\n",
    "    print('Pluto ist ein Planet!')\n",
    "elif kategorie==-1:\n",
    "    print('Pluto ist ein Zwergplanet!')\n",
    "else:\n",
    "    print('Pluto möchte sich nicht festlegen!')"
   ]
  },
  {
   "cell_type": "markdown",
   "id": "9fbafffa",
   "metadata": {},
   "source": [
    "### Visualisierung"
   ]
  },
  {
   "cell_type": "code",
   "execution_count": 68,
   "id": "07b027f5",
   "metadata": {},
   "outputs": [
    {
     "data": {
      "image/png": "[encoded data removed]",
      "text/plain": [
       "<Figure size 700x700 with 1 Axes>"
      ]
     },
     "metadata": {},
     "output_type": "display_data"
    }
   ],
   "source": [
    "fig, ax=plot_planeten()\n",
    "ax.plot(x,y,c='r')\n",
    "ax.scatter(pluto[0],pluto[1],c='r')\n",
    "ax.annotate('Pluto',(pluto[0]+1,pluto[1]),c='r')\n",
    "plt.show()"
   ]
  }
 ],
 "metadata": {
  "kernelspec": {
   "display_name": "data-science",
   "language": "python",
   "name": "python3"
  },
  "language_info": {
   "codemirror_mode": {
    "name": "ipython",
    "version": 3
   },
   "file_extension": ".py",
   "mimetype": "text/x-python",
   "name": "python",
   "nbconvert_exporter": "python",
   "pygments_lexer": "ipython3",
   "version": "3.9.6"
  },
  "vscode": {
   "interpreter": {
    "hash": "b7cc36b5463bed6b779225ed2a45ce40a84095500381e03c4cdbc2d7cd2032d2"
   }
  }
 },
 "nbformat": 4,
 "nbformat_minor": 5
}
